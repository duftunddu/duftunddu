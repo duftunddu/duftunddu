{
 "cells": [
  {
   "cell_type": "markdown",
   "metadata": {},
   "source": [
    "## Extraction"
   ]
  },
  {
   "cell_type": "code",
   "execution_count": 1,
   "metadata": {},
   "outputs": [],
   "source": [
    "%matplotlib inline"
   ]
  },
  {
   "cell_type": "markdown",
   "metadata": {},
   "source": [
    "# Write column names"
   ]
  },
  {
   "cell_type": "code",
   "execution_count": 2,
   "metadata": {},
   "outputs": [],
   "source": [
    "def listToString(s): \n",
    "    \n",
    "    # initialize an empty string\n",
    "    str1 = \"\\n\" \n",
    "    \n",
    "    # return string  \n",
    "    return (str1.join(s))"
   ]
  },
  {
   "cell_type": "markdown",
   "metadata": {},
   "source": [
    "# Libraries Import"
   ]
  },
  {
   "cell_type": "code",
   "execution_count": 3,
   "metadata": {
    "tags": []
   },
   "outputs": [],
   "source": [
    "import numpy as np\n",
    "import pandas as pd\n",
    "from datetime import datetime\n",
    "\n",
    "# For import export of model\n",
    "import pickle\n",
    "\n",
    "# from sklearn.tree import DecisionTreeClassifier\n",
    "from sklearn.ensemble import RandomForestClassifier"
   ]
  },
  {
   "cell_type": "code",
   "execution_count": 4,
   "metadata": {},
   "outputs": [],
   "source": [
    "# unidecode(sys.argv[1])\n",
    "\n",
    "with open('longevity_template.pickle', 'rb') as f:\n",
    "    fragrance, profile, weather = pickle.load(f)"
   ]
  },
  {
   "cell_type": "code",
   "execution_count": null,
   "metadata": {},
   "outputs": [],
   "source": []
  },
  {
   "cell_type": "code",
   "execution_count": 5,
   "metadata": {},
   "outputs": [],
   "source": [
    "# fragrance_df = pd.read_json(fragrance)\n",
    "\n",
    "fragrance_df    =  pd.DataFrame(data=eval(fragrance), index=[0])\n",
    "profile_df      =  pd.DataFrame(data=eval(profile),   index=[0])\n",
    "weather_df      =  pd.DataFrame(data=eval(weather),   index=[0])"
   ]
  },
  {
   "cell_type": "code",
   "execution_count": 6,
   "metadata": {},
   "outputs": [],
   "source": [
    "# fragrance_df\n",
    "# profile_df\n",
    "# weather_df"
   ]
  },
  {
   "cell_type": "markdown",
   "metadata": {},
   "source": [
    "#### Fixing Weather Keys"
   ]
  },
  {
   "cell_type": "code",
   "execution_count": 7,
   "metadata": {},
   "outputs": [],
   "source": [
    "def fix_weather_keys(df):\n",
    "    old_weather_columns = df.columns\n",
    "    new_weather_columns = []\n",
    "    for i in range(len(old_weather_columns) - 2):\n",
    "        new_weather_columns.append(old_weather_columns[i] + '_avg')\n",
    "    new_weather_columns.extend(old_weather_columns[-2:])\n",
    "    df.columns = new_weather_columns\n",
    "    return df"
   ]
  },
  {
   "cell_type": "code",
   "execution_count": 8,
   "metadata": {},
   "outputs": [
    {
     "data": {
      "text/html": [
       "<div>\n",
       "<style scoped>\n",
       "    .dataframe tbody tr th:only-of-type {\n",
       "        vertical-align: middle;\n",
       "    }\n",
       "\n",
       "    .dataframe tbody tr th {\n",
       "        vertical-align: top;\n",
       "    }\n",
       "\n",
       "    .dataframe thead th {\n",
       "        text-align: right;\n",
       "    }\n",
       "</style>\n",
       "<table border=\"1\" class=\"dataframe\">\n",
       "  <thead>\n",
       "    <tr style=\"text-align: right;\">\n",
       "      <th></th>\n",
       "      <th>temp_avg</th>\n",
       "      <th>hum_avg</th>\n",
       "      <th>dew_point_avg</th>\n",
       "      <th>uv_index_avg</th>\n",
       "      <th>temp_feels_like_avg</th>\n",
       "      <th>atm_pressure_avg</th>\n",
       "      <th>clouds_avg</th>\n",
       "      <th>visibility_avg</th>\n",
       "      <th>wind_speed_avg</th>\n",
       "      <th>rain_avg</th>\n",
       "      <th>snow_avg</th>\n",
       "      <th>weather_main</th>\n",
       "      <th>weather_desc</th>\n",
       "    </tr>\n",
       "  </thead>\n",
       "  <tbody>\n",
       "    <tr>\n",
       "      <th>0</th>\n",
       "      <td>81.835</td>\n",
       "      <td>74.625</td>\n",
       "      <td>73.16875</td>\n",
       "      <td>12.2475</td>\n",
       "      <td>87.1925</td>\n",
       "      <td>1012.875</td>\n",
       "      <td>36.125</td>\n",
       "      <td>60000</td>\n",
       "      <td>11.80125</td>\n",
       "      <td>1.59375</td>\n",
       "      <td>0</td>\n",
       "      <td>Rain</td>\n",
       "      <td>light rain</td>\n",
       "    </tr>\n",
       "  </tbody>\n",
       "</table>\n",
       "</div>"
      ],
      "text/plain": [
       "   temp_avg  hum_avg  dew_point_avg  uv_index_avg  temp_feels_like_avg  \\\n",
       "0    81.835   74.625       73.16875       12.2475              87.1925   \n",
       "\n",
       "   atm_pressure_avg  clouds_avg  visibility_avg  wind_speed_avg  rain_avg  \\\n",
       "0          1012.875      36.125           60000        11.80125   1.59375   \n",
       "\n",
       "   snow_avg weather_main weather_desc  \n",
       "0         0         Rain   light rain  "
      ]
     },
     "execution_count": 8,
     "metadata": {},
     "output_type": "execute_result"
    }
   ],
   "source": [
    "weather_df = fix_weather_keys(weather_df)\n",
    "weather_df"
   ]
  },
  {
   "cell_type": "code",
   "execution_count": 9,
   "metadata": {},
   "outputs": [],
   "source": [
    "df = pd.concat([fragrance_df, profile_df, weather_df], axis=1)"
   ]
  },
  {
   "cell_type": "code",
   "execution_count": 10,
   "metadata": {},
   "outputs": [
    {
     "data": {
      "text/html": [
       "<div>\n",
       "<style scoped>\n",
       "    .dataframe tbody tr th:only-of-type {\n",
       "        vertical-align: middle;\n",
       "    }\n",
       "\n",
       "    .dataframe tbody tr th {\n",
       "        vertical-align: top;\n",
       "    }\n",
       "\n",
       "    .dataframe thead th {\n",
       "        text-align: right;\n",
       "    }\n",
       "</style>\n",
       "<table border=\"1\" class=\"dataframe\">\n",
       "  <thead>\n",
       "    <tr style=\"text-align: right;\">\n",
       "      <th></th>\n",
       "      <th>fragrance</th>\n",
       "      <th>fragrance_gender</th>\n",
       "      <th>fragrance_type</th>\n",
       "      <th>brand</th>\n",
       "      <th>brand_tier</th>\n",
       "      <th>fp_id</th>\n",
       "      <th>gender</th>\n",
       "      <th>dob</th>\n",
       "      <th>sweat</th>\n",
       "      <th>height</th>\n",
       "      <th>...</th>\n",
       "      <th>uv_index_avg</th>\n",
       "      <th>temp_feels_like_avg</th>\n",
       "      <th>atm_pressure_avg</th>\n",
       "      <th>clouds_avg</th>\n",
       "      <th>visibility_avg</th>\n",
       "      <th>wind_speed_avg</th>\n",
       "      <th>rain_avg</th>\n",
       "      <th>snow_avg</th>\n",
       "      <th>weather_main</th>\n",
       "      <th>weather_desc</th>\n",
       "    </tr>\n",
       "  </thead>\n",
       "  <tbody>\n",
       "    <tr>\n",
       "      <th>0</th>\n",
       "      <td>Swag20</td>\n",
       "      <td>Unisex</td>\n",
       "      <td>Eau de Cologne</td>\n",
       "      <td>Venom</td>\n",
       "      <td>High</td>\n",
       "      <td>1</td>\n",
       "      <td>Male</td>\n",
       "      <td>2019-11-12</td>\n",
       "      <td>82</td>\n",
       "      <td>54</td>\n",
       "      <td>...</td>\n",
       "      <td>12.2475</td>\n",
       "      <td>87.1925</td>\n",
       "      <td>1012.875</td>\n",
       "      <td>36.125</td>\n",
       "      <td>60000</td>\n",
       "      <td>11.80125</td>\n",
       "      <td>1.59375</td>\n",
       "      <td>0</td>\n",
       "      <td>Rain</td>\n",
       "      <td>light rain</td>\n",
       "    </tr>\n",
       "  </tbody>\n",
       "</table>\n",
       "<p>1 rows × 28 columns</p>\n",
       "</div>"
      ],
      "text/plain": [
       "  fragrance fragrance_gender  fragrance_type  brand brand_tier  fp_id gender  \\\n",
       "0    Swag20           Unisex  Eau de Cologne  Venom       High      1   Male   \n",
       "\n",
       "          dob  sweat  height  ...  uv_index_avg temp_feels_like_avg  \\\n",
       "0  2019-11-12     82      54  ...       12.2475             87.1925   \n",
       "\n",
       "  atm_pressure_avg clouds_avg visibility_avg  wind_speed_avg  rain_avg  \\\n",
       "0         1012.875     36.125          60000        11.80125   1.59375   \n",
       "\n",
       "   snow_avg  weather_main  weather_desc  \n",
       "0         0          Rain    light rain  \n",
       "\n",
       "[1 rows x 28 columns]"
      ]
     },
     "execution_count": 10,
     "metadata": {},
     "output_type": "execute_result"
    }
   ],
   "source": [
    "df.head()"
   ]
  },
  {
   "cell_type": "markdown",
   "metadata": {},
   "source": [
    "## Cleaning"
   ]
  },
  {
   "cell_type": "code",
   "execution_count": 11,
   "metadata": {},
   "outputs": [],
   "source": [
    "# df = df[df.columns.difference(['fba_country_name', 'fba_time_zone', 'suitability', 'sustainability', 'sillage', 'like', 'users_id', 'users_check', 'fba_location_country', 'fba_location_zone'], sort=False)]\n",
    "df = df[df.columns.difference(['weather_desc'], sort=False)]"
   ]
  },
  {
   "cell_type": "code",
   "execution_count": 12,
   "metadata": {},
   "outputs": [
    {
     "data": {
      "text/html": [
       "<div>\n",
       "<style scoped>\n",
       "    .dataframe tbody tr th:only-of-type {\n",
       "        vertical-align: middle;\n",
       "    }\n",
       "\n",
       "    .dataframe tbody tr th {\n",
       "        vertical-align: top;\n",
       "    }\n",
       "\n",
       "    .dataframe thead th {\n",
       "        text-align: right;\n",
       "    }\n",
       "</style>\n",
       "<table border=\"1\" class=\"dataframe\">\n",
       "  <thead>\n",
       "    <tr style=\"text-align: right;\">\n",
       "      <th></th>\n",
       "      <th>fragrance</th>\n",
       "      <th>fragrance_gender</th>\n",
       "      <th>fragrance_type</th>\n",
       "      <th>brand</th>\n",
       "      <th>brand_tier</th>\n",
       "      <th>fp_id</th>\n",
       "      <th>gender</th>\n",
       "      <th>dob</th>\n",
       "      <th>sweat</th>\n",
       "      <th>height</th>\n",
       "      <th>...</th>\n",
       "      <th>dew_point_avg</th>\n",
       "      <th>uv_index_avg</th>\n",
       "      <th>temp_feels_like_avg</th>\n",
       "      <th>atm_pressure_avg</th>\n",
       "      <th>clouds_avg</th>\n",
       "      <th>visibility_avg</th>\n",
       "      <th>wind_speed_avg</th>\n",
       "      <th>rain_avg</th>\n",
       "      <th>snow_avg</th>\n",
       "      <th>weather_main</th>\n",
       "    </tr>\n",
       "  </thead>\n",
       "  <tbody>\n",
       "    <tr>\n",
       "      <th>0</th>\n",
       "      <td>Swag20</td>\n",
       "      <td>Unisex</td>\n",
       "      <td>Eau de Cologne</td>\n",
       "      <td>Venom</td>\n",
       "      <td>High</td>\n",
       "      <td>1</td>\n",
       "      <td>Male</td>\n",
       "      <td>2019-11-12</td>\n",
       "      <td>82</td>\n",
       "      <td>54</td>\n",
       "      <td>...</td>\n",
       "      <td>73.16875</td>\n",
       "      <td>12.2475</td>\n",
       "      <td>87.1925</td>\n",
       "      <td>1012.875</td>\n",
       "      <td>36.125</td>\n",
       "      <td>60000</td>\n",
       "      <td>11.80125</td>\n",
       "      <td>1.59375</td>\n",
       "      <td>0</td>\n",
       "      <td>Rain</td>\n",
       "    </tr>\n",
       "  </tbody>\n",
       "</table>\n",
       "<p>1 rows × 27 columns</p>\n",
       "</div>"
      ],
      "text/plain": [
       "  fragrance fragrance_gender  fragrance_type  brand brand_tier  fp_id gender  \\\n",
       "0    Swag20           Unisex  Eau de Cologne  Venom       High      1   Male   \n",
       "\n",
       "          dob  sweat  height  ...  dew_point_avg uv_index_avg  \\\n",
       "0  2019-11-12     82      54  ...       73.16875      12.2475   \n",
       "\n",
       "  temp_feels_like_avg atm_pressure_avg clouds_avg  visibility_avg  \\\n",
       "0             87.1925         1012.875     36.125           60000   \n",
       "\n",
       "   wind_speed_avg  rain_avg  snow_avg  weather_main  \n",
       "0        11.80125   1.59375         0          Rain  \n",
       "\n",
       "[1 rows x 27 columns]"
      ]
     },
     "execution_count": 12,
     "metadata": {},
     "output_type": "execute_result"
    }
   ],
   "source": [
    "df"
   ]
  },
  {
   "cell_type": "code",
   "execution_count": 13,
   "metadata": {},
   "outputs": [
    {
     "data": {
      "text/plain": [
       "fragrance               object\n",
       "fragrance_gender        object\n",
       "fragrance_type          object\n",
       "brand                   object\n",
       "brand_tier              object\n",
       "fp_id                    int64\n",
       "gender                  object\n",
       "dob                     object\n",
       "sweat                    int64\n",
       "height                   int64\n",
       "weight                   int64\n",
       "profession              object\n",
       "skin_type               object\n",
       "season                  object\n",
       "fp_country              object\n",
       "temp_avg               float64\n",
       "hum_avg                float64\n",
       "dew_point_avg          float64\n",
       "uv_index_avg           float64\n",
       "temp_feels_like_avg    float64\n",
       "atm_pressure_avg       float64\n",
       "clouds_avg             float64\n",
       "visibility_avg           int64\n",
       "wind_speed_avg         float64\n",
       "rain_avg               float64\n",
       "snow_avg                 int64\n",
       "weather_main            object\n",
       "dtype: object"
      ]
     },
     "execution_count": 13,
     "metadata": {},
     "output_type": "execute_result"
    }
   ],
   "source": [
    "df.dtypes"
   ]
  },
  {
   "cell_type": "code",
   "execution_count": 14,
   "metadata": {},
   "outputs": [],
   "source": [
    "# Missing Values\n",
    "df['rain_avg'].fillna(int(0), inplace=True)\n",
    "df['snow_avg'].fillna(int(0), inplace=True)"
   ]
  },
  {
   "cell_type": "code",
   "execution_count": 15,
   "metadata": {},
   "outputs": [],
   "source": [
    "df['number_of_sprays'] = 7\n",
    "df['apply_time'] = datetime.now().strftime('%Y-%m-%d 12:00:00')"
   ]
  },
  {
   "cell_type": "code",
   "execution_count": 16,
   "metadata": {},
   "outputs": [
    {
     "data": {
      "text/plain": [
       "fragrance                      object\n",
       "fragrance_gender               object\n",
       "fragrance_type                 object\n",
       "brand                          object\n",
       "brand_tier                     object\n",
       "fp_id                           int64\n",
       "gender                         object\n",
       "dob                    datetime64[ns]\n",
       "sweat                           int64\n",
       "height                          int64\n",
       "weight                          int64\n",
       "profession                     object\n",
       "skin_type                      object\n",
       "season                         object\n",
       "fp_country                     object\n",
       "temp_avg                      float64\n",
       "hum_avg                       float64\n",
       "dew_point_avg                 float64\n",
       "uv_index_avg                  float64\n",
       "temp_feels_like_avg           float64\n",
       "atm_pressure_avg              float64\n",
       "clouds_avg                    float64\n",
       "visibility_avg                  int64\n",
       "wind_speed_avg                float64\n",
       "rain_avg                      float64\n",
       "snow_avg                        int64\n",
       "weather_main                   object\n",
       "number_of_sprays                int64\n",
       "apply_time             datetime64[ns]\n",
       "dtype: object"
      ]
     },
     "execution_count": 16,
     "metadata": {},
     "output_type": "execute_result"
    }
   ],
   "source": [
    "# df = df.convert_dtypes()\n",
    "\n",
    "# Datetime\n",
    "df['dob']               = df['dob'].astype('datetime64[ns]')\n",
    "df['apply_time']        = df['apply_time'].astype('datetime64[ns]')\n",
    "\n",
    "df.dtypes"
   ]
  },
  {
   "cell_type": "code",
   "execution_count": 17,
   "metadata": {},
   "outputs": [],
   "source": [
    "# Calcualting Age\n",
    "\n",
    "now = pd.to_datetime('now')\n",
    "df['age'] = (now - df['dob']).dt.total_seconds() / (60*60*24*365.25)\n",
    "df.drop(['dob'],axis=1, inplace=True)"
   ]
  },
  {
   "cell_type": "code",
   "execution_count": 18,
   "metadata": {},
   "outputs": [],
   "source": [
    "# Sorting out Dates\n",
    "\n",
    "# Apply Time\n",
    "df['apply_time_year']          = df['apply_time'].dt.year\n",
    "df['apply_time_month']         = df['apply_time'].dt.month\n",
    "df['apply_time_day']           = df['apply_time'].dt.day\n",
    "df['apply_time_hour']          = df['apply_time'].dt.hour\n",
    "df['apply_time_minute']        = df['apply_time'].dt.minute\n",
    "df['apply_time_weekday_name']  = df['apply_time'].dt.day_name()\n",
    "\n",
    "# Type Cast\n",
    "df['age']               = df['age'].astype('float')\n",
    "\n",
    "# Drop Apply Time & Wear Off Time\n",
    "df.drop(['apply_time'],axis=1, inplace=True)"
   ]
  },
  {
   "cell_type": "code",
   "execution_count": 19,
   "metadata": {},
   "outputs": [
    {
     "data": {
      "text/plain": [
       "array(['fragrance', 'fragrance_gender', 'fragrance_type', 'brand',\n",
       "       'brand_tier', 'gender', 'profession', 'skin_type', 'season',\n",
       "       'fp_country', 'weather_main', 'apply_time_weekday_name'],\n",
       "      dtype=object)"
      ]
     },
     "execution_count": 19,
     "metadata": {},
     "output_type": "execute_result"
    }
   ],
   "source": [
    "categorical_columns = df.select_dtypes(include=['object']).columns.values\n",
    "df = df.convert_dtypes()\n",
    "categorical_columns"
   ]
  },
  {
   "cell_type": "code",
   "execution_count": 20,
   "metadata": {},
   "outputs": [],
   "source": [
    "def resolve_categorical_variables(df, column_names_arr):\n",
    "\n",
    "    # Load dummies from training\n",
    "    with open('longevity_categorical_variables.pickle', 'rb') as f:\n",
    "        cat_df = pickle.load(f)\n",
    "        \n",
    "    for i in cat_df.columns:\n",
    "        df[i] = 0\n",
    "\n",
    "        \n",
    "    # Adding the rest\n",
    "    for column_name in column_names_arr:\n",
    "        \n",
    "        pred_dummies = pd.get_dummies(df[column_name], prefix=column_name)\n",
    "        \n",
    "        unavailable = np.setdiff1d(pred_dummies.keys(), cat_df.columns, assume_unique = True)\n",
    "        \n",
    "        if not unavailable:\n",
    "            df.drop(pred_dummies.keys()[0], errors='ignore', axis=1, inplace=True)\n",
    "            df = pd.concat([df, pred_dummies], axis = 1)\n",
    "        \n",
    "        df.drop([column_name], axis=1, inplace=True)\n",
    "    \n",
    "    return df"
   ]
  },
  {
   "cell_type": "code",
   "execution_count": 21,
   "metadata": {
    "scrolled": true
   },
   "outputs": [
    {
     "name": "stderr",
     "output_type": "stream",
     "text": [
      "<ipython-input-20-58a643e1e0d9>:18: DeprecationWarning: The truth value of an empty array is ambiguous. Returning False, but in future this will result in an error. Use `array.size > 0` to check that an array is not empty.\n",
      "  if not unavailable:\n"
     ]
    }
   ],
   "source": [
    "df = resolve_categorical_variables(df, np.append(categorical_columns, ('fp_id')))"
   ]
  },
  {
   "cell_type": "code",
   "execution_count": 22,
   "metadata": {},
   "outputs": [
    {
     "name": "stdout",
     "output_type": "stream",
     "text": [
      "(1, 88)\n",
      "0\n"
     ]
    }
   ],
   "source": [
    "print(df.shape)\n",
    "print(df.duplicated(keep='first').sum())"
   ]
  },
  {
   "cell_type": "code",
   "execution_count": 23,
   "metadata": {},
   "outputs": [
    {
     "data": {
      "text/html": [
       "<div>\n",
       "<style scoped>\n",
       "    .dataframe tbody tr th:only-of-type {\n",
       "        vertical-align: middle;\n",
       "    }\n",
       "\n",
       "    .dataframe tbody tr th {\n",
       "        vertical-align: top;\n",
       "    }\n",
       "\n",
       "    .dataframe thead th {\n",
       "        text-align: right;\n",
       "    }\n",
       "</style>\n",
       "<table border=\"1\" class=\"dataframe\">\n",
       "  <thead>\n",
       "    <tr style=\"text-align: right;\">\n",
       "      <th></th>\n",
       "      <th>sweat</th>\n",
       "      <th>height</th>\n",
       "      <th>weight</th>\n",
       "      <th>temp_avg</th>\n",
       "      <th>hum_avg</th>\n",
       "      <th>dew_point_avg</th>\n",
       "      <th>rain_avg</th>\n",
       "      <th>snow_avg</th>\n",
       "      <th>number_of_sprays</th>\n",
       "      <th>age</th>\n",
       "      <th>...</th>\n",
       "      <th>fp_id_20</th>\n",
       "      <th>fp_id_21</th>\n",
       "      <th>fragrance_gender_Unisex</th>\n",
       "      <th>brand_tier_High</th>\n",
       "      <th>gender_Male</th>\n",
       "      <th>skin_type_Very Oily</th>\n",
       "      <th>season_Spring</th>\n",
       "      <th>weather_main_Rain</th>\n",
       "      <th>apply_time_weekday_name_Monday</th>\n",
       "      <th>fp_id_1</th>\n",
       "    </tr>\n",
       "  </thead>\n",
       "  <tbody>\n",
       "    <tr>\n",
       "      <th>0</th>\n",
       "      <td>82</td>\n",
       "      <td>54</td>\n",
       "      <td>54</td>\n",
       "      <td>81.835</td>\n",
       "      <td>74.625</td>\n",
       "      <td>73.16875</td>\n",
       "      <td>1.59375</td>\n",
       "      <td>0</td>\n",
       "      <td>7</td>\n",
       "      <td>1.511461</td>\n",
       "      <td>...</td>\n",
       "      <td>0</td>\n",
       "      <td>0</td>\n",
       "      <td>1</td>\n",
       "      <td>1</td>\n",
       "      <td>1</td>\n",
       "      <td>1</td>\n",
       "      <td>1</td>\n",
       "      <td>1</td>\n",
       "      <td>1</td>\n",
       "      <td>1</td>\n",
       "    </tr>\n",
       "  </tbody>\n",
       "</table>\n",
       "<p>1 rows × 80 columns</p>\n",
       "</div>"
      ],
      "text/plain": [
       "   sweat  height  weight  temp_avg  hum_avg  dew_point_avg  rain_avg  \\\n",
       "0     82      54      54    81.835   74.625       73.16875   1.59375   \n",
       "\n",
       "   snow_avg  number_of_sprays       age  ...  fp_id_20  fp_id_21  \\\n",
       "0         0                 7  1.511461  ...         0         0   \n",
       "\n",
       "   fragrance_gender_Unisex  brand_tier_High  gender_Male  skin_type_Very Oily  \\\n",
       "0                        1                1            1                    1   \n",
       "\n",
       "   season_Spring  weather_main_Rain  apply_time_weekday_name_Monday  fp_id_1  \n",
       "0              1                  1                               1        1  \n",
       "\n",
       "[1 rows x 80 columns]"
      ]
     },
     "execution_count": 23,
     "metadata": {},
     "output_type": "execute_result"
    }
   ],
   "source": [
    "df.drop(['uv_index_avg', 'visibility_avg', 'apply_time_minute', 'apply_time_hour', 'atm_pressure_avg', 'clouds_avg', 'temp_feels_like_avg', 'wind_speed_avg'], axis=1, inplace=True)\n",
    "df.head()"
   ]
  },
  {
   "cell_type": "code",
   "execution_count": 24,
   "metadata": {},
   "outputs": [
    {
     "data": {
      "text/plain": [
       "[]"
      ]
     },
     "execution_count": 24,
     "metadata": {},
     "output_type": "execute_result"
    }
   ],
   "source": [
    "# Columns with any null values\n",
    "# df.fillna(0)\n",
    "df.columns[df.isna().any()].tolist()"
   ]
  },
  {
   "cell_type": "code",
   "execution_count": 25,
   "metadata": {
    "scrolled": true
   },
   "outputs": [],
   "source": [
    "# df.dtypes"
   ]
  },
  {
   "cell_type": "code",
   "execution_count": 26,
   "metadata": {},
   "outputs": [],
   "source": [
    "# Save columne names\n",
    "file = open('longevity_column_names_after_cleaning_drop_prediction.txt', 'w')\n",
    "\n",
    "# dump information to that file\n",
    "file.write(listToString(df.columns))\n",
    "\n",
    "# close the file\n",
    "file.close()\n",
    "\n",
    "# df.columns"
   ]
  },
  {
   "cell_type": "markdown",
   "metadata": {},
   "source": [
    "#### Comparing current columns with training columns"
   ]
  },
  {
   "cell_type": "code",
   "execution_count": 27,
   "metadata": {},
   "outputs": [],
   "source": [
    "with open('longevity_column_names_check.pickle', 'rb') as f:\n",
    "    train_columns = pickle.load(f)\n",
    "    \n",
    "# print(len(train_columns), len(df.columns))"
   ]
  },
  {
   "cell_type": "code",
   "execution_count": 28,
   "metadata": {},
   "outputs": [
    {
     "data": {
      "text/plain": [
       "array([], dtype=object)"
      ]
     },
     "execution_count": 28,
     "metadata": {},
     "output_type": "execute_result"
    }
   ],
   "source": [
    "np.setdiff1d(df.columns, train_columns, assume_unique = True)"
   ]
  },
  {
   "cell_type": "code",
   "execution_count": 29,
   "metadata": {},
   "outputs": [
    {
     "data": {
      "text/plain": [
       "array([], dtype=object)"
      ]
     },
     "execution_count": 29,
     "metadata": {},
     "output_type": "execute_result"
    }
   ],
   "source": [
    "np.setdiff1d(train_columns, df.columns, assume_unique = True)"
   ]
  },
  {
   "cell_type": "code",
   "execution_count": 30,
   "metadata": {
    "scrolled": true
   },
   "outputs": [
    {
     "data": {
      "text/plain": [
       "set()"
      ]
     },
     "execution_count": 30,
     "metadata": {},
     "output_type": "execute_result"
    }
   ],
   "source": [
    "set([x for x in df.columns if list(df.columns).count(x) > 1])"
   ]
  },
  {
   "cell_type": "markdown",
   "metadata": {},
   "source": [
    "# Model"
   ]
  },
  {
   "cell_type": "code",
   "execution_count": 31,
   "metadata": {},
   "outputs": [],
   "source": [
    "with open('longevity_model.pickle', 'rb') as f:\n",
    "    longevity_model = pickle.load(f)"
   ]
  },
  {
   "cell_type": "code",
   "execution_count": 32,
   "metadata": {},
   "outputs": [
    {
     "data": {
      "text/plain": [
       "StackingRegressor(estimators=[('br', BaggingRegressor(random_state=0)),\n",
       "                              ('lnr', LinearRegression()),\n",
       "                              ('en',\n",
       "                               ElasticNet(random_state=0, selection='random')),\n",
       "                              ('en2',\n",
       "                               ElasticNet(random_state=0, selection='random')),\n",
       "                              ('llar', LassoLars(random_state=0)),\n",
       "                              ('knr', KNeighborsRegressor(weights='distance'))],\n",
       "                  final_estimator=DecisionTreeRegressor(random_state=0))"
      ]
     },
     "execution_count": 32,
     "metadata": {},
     "output_type": "execute_result"
    }
   ],
   "source": [
    "longevity_model"
   ]
  },
  {
   "cell_type": "code",
   "execution_count": 33,
   "metadata": {
    "scrolled": true
   },
   "outputs": [
    {
     "name": "stdout",
     "output_type": "stream",
     "text": [
      "[169.89795918]\n"
     ]
    }
   ],
   "source": [
    "new_test = df\n",
    "\n",
    "y_pred = longevity_model.predict(df)\n",
    "print(y_pred)"
   ]
  },
  {
   "cell_type": "markdown",
   "metadata": {},
   "source": [
    "# END"
   ]
  }
 ],
 "metadata": {
  "kernelspec": {
   "display_name": "Python 3",
   "language": "python",
   "name": "python3"
  },
  "language_info": {
   "codemirror_mode": {
    "name": "ipython",
    "version": 3
   },
   "file_extension": ".py",
   "mimetype": "text/x-python",
   "name": "python",
   "nbconvert_exporter": "python",
   "pygments_lexer": "ipython3",
   "version": "3.8.8"
  }
 },
 "nbformat": 4,
 "nbformat_minor": 2
}
