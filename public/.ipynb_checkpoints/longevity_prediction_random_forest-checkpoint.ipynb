{
 "cells": [
  {
   "cell_type": "markdown",
   "metadata": {},
   "source": [
    "## Extraction"
   ]
  },
  {
   "cell_type": "code",
   "execution_count": 277,
   "metadata": {},
   "outputs": [],
   "source": [
    "# %matplotlib inline"
   ]
  },
  {
   "cell_type": "markdown",
   "metadata": {},
   "source": [
    "# Write column names"
   ]
  },
  {
   "cell_type": "code",
   "execution_count": 278,
   "metadata": {},
   "outputs": [],
   "source": [
    "def listToString(s): \n",
    "    \n",
    "    # initialize an empty string\n",
    "    str1 = \"\\n\" \n",
    "    \n",
    "    # return string  \n",
    "    return (str1.join(s))"
   ]
  },
  {
   "cell_type": "markdown",
   "metadata": {},
   "source": [
    "# Libraries Import"
   ]
  },
  {
   "cell_type": "code",
   "execution_count": 279,
   "metadata": {
    "tags": []
   },
   "outputs": [],
   "source": [
    "import sys\n",
    "import numpy as np\n",
    "import pandas as pd\n",
    "from datetime import datetime\n",
    "\n",
    "# For import export of model\n",
    "import pickle\n",
    "\n",
    "# from sklearn.tree import DecisionTreeClassifier\n",
    "from sklearn.ensemble import RandomForestClassifier"
   ]
  },
  {
   "cell_type": "code",
   "execution_count": 280,
   "metadata": {},
   "outputs": [],
   "source": [
    "# sys.argv[1]\n",
    "\n",
    "with open('longevity_template.pickle', 'rb') as f:\n",
    "    fragrance, profile, weather = pickle.load(f)"
   ]
  },
  {
   "cell_type": "code",
   "execution_count": null,
   "metadata": {},
   "outputs": [],
   "source": []
  },
  {
   "cell_type": "code",
   "execution_count": 281,
   "metadata": {},
   "outputs": [],
   "source": [
    "# fragrance_df = pd.read_json(fragrance)\n",
    "\n",
    "fragrance_df    =  pd.DataFrame(data=eval(fragrance), index=[0])\n",
    "profile_df      =  pd.DataFrame(data=eval(profile),   index=[0])\n",
    "weather_df      =  pd.DataFrame(data=eval(weather),   index=[0])"
   ]
  },
  {
   "cell_type": "code",
   "execution_count": 282,
   "metadata": {},
   "outputs": [],
   "source": [
    "# fragrance_df\n",
    "# profile_df\n",
    "# weather_df"
   ]
  },
  {
   "cell_type": "markdown",
   "metadata": {},
   "source": [
    "#### Fixing Weather Keys"
   ]
  },
  {
   "cell_type": "code",
   "execution_count": 283,
   "metadata": {},
   "outputs": [],
   "source": [
    "def fix_weather_keys(df):\n",
    "    old_weather_columns = df.columns\n",
    "    new_weather_columns = []\n",
    "    for i in range(len(old_weather_columns) - 2):\n",
    "        new_weather_columns.append(old_weather_columns[i] + '_avg')\n",
    "    new_weather_columns.extend(old_weather_columns[-2:])\n",
    "    df.columns = new_weather_columns\n",
    "    return df"
   ]
  },
  {
   "cell_type": "code",
   "execution_count": 284,
   "metadata": {},
   "outputs": [],
   "source": [
    "weather_df = fix_weather_keys(weather_df)\n",
    "# weather_df"
   ]
  },
  {
   "cell_type": "code",
   "execution_count": 285,
   "metadata": {},
   "outputs": [],
   "source": [
    "df = pd.concat([fragrance_df, profile_df, weather_df], axis=1)"
   ]
  },
  {
   "cell_type": "code",
   "execution_count": 286,
   "metadata": {},
   "outputs": [
    {
     "data": {
      "text/html": [
       "<div>\n",
       "<style scoped>\n",
       "    .dataframe tbody tr th:only-of-type {\n",
       "        vertical-align: middle;\n",
       "    }\n",
       "\n",
       "    .dataframe tbody tr th {\n",
       "        vertical-align: top;\n",
       "    }\n",
       "\n",
       "    .dataframe thead th {\n",
       "        text-align: right;\n",
       "    }\n",
       "</style>\n",
       "<table border=\"1\" class=\"dataframe\">\n",
       "  <thead>\n",
       "    <tr style=\"text-align: right;\">\n",
       "      <th></th>\n",
       "      <th>fragrance</th>\n",
       "      <th>fragrance_gender</th>\n",
       "      <th>fragrance_type</th>\n",
       "      <th>brand</th>\n",
       "      <th>brand_tier</th>\n",
       "      <th>fp_id</th>\n",
       "      <th>gender</th>\n",
       "      <th>dob</th>\n",
       "      <th>sweat</th>\n",
       "      <th>height</th>\n",
       "      <th>...</th>\n",
       "      <th>uv_index_avg</th>\n",
       "      <th>temp_feels_like_avg</th>\n",
       "      <th>atm_pressure_avg</th>\n",
       "      <th>clouds_avg</th>\n",
       "      <th>visibility_avg</th>\n",
       "      <th>wind_speed_avg</th>\n",
       "      <th>rain_avg</th>\n",
       "      <th>snow_avg</th>\n",
       "      <th>weather_main</th>\n",
       "      <th>weather_desc</th>\n",
       "    </tr>\n",
       "  </thead>\n",
       "  <tbody>\n",
       "    <tr>\n",
       "      <th>0</th>\n",
       "      <td>Ein Parfüm</td>\n",
       "      <td>Female</td>\n",
       "      <td>Eau de Toilette</td>\n",
       "      <td>Luxury Brand</td>\n",
       "      <td>High</td>\n",
       "      <td>1</td>\n",
       "      <td>Male</td>\n",
       "      <td>2019-11-12</td>\n",
       "      <td>82</td>\n",
       "      <td>54</td>\n",
       "      <td>...</td>\n",
       "      <td>12.2475</td>\n",
       "      <td>86.71875</td>\n",
       "      <td>1013</td>\n",
       "      <td>56.875</td>\n",
       "      <td>60000</td>\n",
       "      <td>12.035</td>\n",
       "      <td>1.515</td>\n",
       "      <td>0</td>\n",
       "      <td>Rain</td>\n",
       "      <td>light rain</td>\n",
       "    </tr>\n",
       "  </tbody>\n",
       "</table>\n",
       "<p>1 rows × 28 columns</p>\n",
       "</div>"
      ],
      "text/plain": [
       "    fragrance fragrance_gender   fragrance_type         brand brand_tier  \\\n",
       "0  Ein Parfüm           Female  Eau de Toilette  Luxury Brand       High   \n",
       "\n",
       "   fp_id gender         dob  sweat  height  ...  uv_index_avg  \\\n",
       "0      1   Male  2019-11-12     82      54  ...       12.2475   \n",
       "\n",
       "  temp_feels_like_avg atm_pressure_avg clouds_avg visibility_avg  \\\n",
       "0            86.71875             1013     56.875          60000   \n",
       "\n",
       "   wind_speed_avg  rain_avg  snow_avg  weather_main  weather_desc  \n",
       "0          12.035     1.515         0          Rain    light rain  \n",
       "\n",
       "[1 rows x 28 columns]"
      ]
     },
     "execution_count": 286,
     "metadata": {},
     "output_type": "execute_result"
    }
   ],
   "source": [
    "df.head()"
   ]
  },
  {
   "cell_type": "markdown",
   "metadata": {},
   "source": [
    "## Cleaning"
   ]
  },
  {
   "cell_type": "code",
   "execution_count": 287,
   "metadata": {},
   "outputs": [],
   "source": [
    "# df = df[df.columns.difference(['fba_country_name', 'fba_time_zone', 'suitability', 'sustainability', 'sillage', 'like', 'users_id', 'users_check', 'fba_location_country', 'fba_location_zone'], sort=False)]\n",
    "df = df[df.columns.difference(['weather_desc'], sort=False)]"
   ]
  },
  {
   "cell_type": "code",
   "execution_count": 288,
   "metadata": {},
   "outputs": [],
   "source": [
    "# df"
   ]
  },
  {
   "cell_type": "code",
   "execution_count": 289,
   "metadata": {},
   "outputs": [],
   "source": [
    "# df.dtypes"
   ]
  },
  {
   "cell_type": "code",
   "execution_count": 290,
   "metadata": {},
   "outputs": [],
   "source": [
    "# Missing Values\n",
    "df['rain_avg'].fillna(int(0), inplace=True)\n",
    "df['snow_avg'].fillna(int(0), inplace=True)"
   ]
  },
  {
   "cell_type": "code",
   "execution_count": 291,
   "metadata": {},
   "outputs": [],
   "source": [
    "df['number_of_sprays'] = 7\n",
    "df['apply_time'] = datetime.now().strftime('%Y-%m-%d 12:00:00')"
   ]
  },
  {
   "cell_type": "code",
   "execution_count": 292,
   "metadata": {},
   "outputs": [],
   "source": [
    "# df = df.convert_dtypes()\n",
    "\n",
    "# Datetime\n",
    "df['dob']               = df['dob'].astype('datetime64[ns]')\n",
    "df['apply_time']        = df['apply_time'].astype('datetime64[ns]')\n",
    "\n",
    "# df.dtypes"
   ]
  },
  {
   "cell_type": "code",
   "execution_count": 293,
   "metadata": {},
   "outputs": [],
   "source": [
    "# Calcualting Age\n",
    "\n",
    "now = pd.to_datetime('now')\n",
    "df['age'] = (now - df['dob']).dt.total_seconds() / (60*60*24*365.25)\n",
    "df.drop(['dob'],axis=1, inplace=True)"
   ]
  },
  {
   "cell_type": "code",
   "execution_count": 294,
   "metadata": {},
   "outputs": [],
   "source": [
    "# Sorting out Dates\n",
    "\n",
    "# Apply Time\n",
    "df['apply_time_year']          = df['apply_time'].dt.year\n",
    "df['apply_time_month']         = df['apply_time'].dt.month\n",
    "df['apply_time_day']           = df['apply_time'].dt.day\n",
    "df['apply_time_hour']          = df['apply_time'].dt.hour\n",
    "df['apply_time_minute']        = df['apply_time'].dt.minute\n",
    "df['apply_time_weekday_name']  = df['apply_time'].dt.day_name()\n",
    "\n",
    "# Type Cast\n",
    "df['age']               = df['age'].astype('float')\n",
    "\n",
    "# Drop Apply Time & Wear Off Time\n",
    "df.drop(['apply_time'],axis=1, inplace=True)"
   ]
  },
  {
   "cell_type": "code",
   "execution_count": 295,
   "metadata": {},
   "outputs": [],
   "source": [
    "categorical_columns = df.select_dtypes(include=['object']).columns.values\n",
    "df = df.convert_dtypes()\n",
    "# categorical_columns"
   ]
  },
  {
   "cell_type": "code",
   "execution_count": 296,
   "metadata": {},
   "outputs": [],
   "source": [
    "def resolve_categorical_variables(df, column_names_arr):\n",
    "\n",
    "    with open('longevity_dummies.pickle', 'rb') as f:\n",
    "        cat_df = pickle.load(f)\n",
    "        \n",
    "    # Adding the rest\n",
    "    for column_name in column_names_arr:\n",
    "        \n",
    "        new_df = pd.DataFrame(df[column_name].unique())\n",
    "        new_df.insert(1, 'index', new_df.index)\n",
    "\n",
    "        df[column_name] = cat_df[column_name].transform(new_df.to_numpy())\n",
    "    \n",
    "    return df"
   ]
  },
  {
   "cell_type": "code",
   "execution_count": 297,
   "metadata": {},
   "outputs": [],
   "source": [
    "# with open('longevity_categorical_variables.pickle', 'rb') as f:\n",
    "#     print(pickle.load(f)[0][1])\n",
    "\n",
    "# with open('longevity_dummies.pickle', 'rb') as f:\n",
    "#     print(pickle.load(f)['weather_main'])"
   ]
  },
  {
   "cell_type": "code",
   "execution_count": 298,
   "metadata": {
    "scrolled": true
   },
   "outputs": [],
   "source": [
    "# new = resolve_categorical_variables(df, np.append(categorical_columns, ('fp_id')))\n",
    "# new"
   ]
  },
  {
   "cell_type": "code",
   "execution_count": 299,
   "metadata": {
    "scrolled": true
   },
   "outputs": [],
   "source": [
    "df = resolve_categorical_variables(df, np.append(categorical_columns, ('fp_id')))"
   ]
  },
  {
   "cell_type": "code",
   "execution_count": 300,
   "metadata": {},
   "outputs": [],
   "source": [
    "# print(df.shape)\n",
    "# print(df.duplicated(keep='first').sum())"
   ]
  },
  {
   "cell_type": "code",
   "execution_count": 301,
   "metadata": {},
   "outputs": [
    {
     "data": {
      "text/html": [
       "<div>\n",
       "<style scoped>\n",
       "    .dataframe tbody tr th:only-of-type {\n",
       "        vertical-align: middle;\n",
       "    }\n",
       "\n",
       "    .dataframe tbody tr th {\n",
       "        vertical-align: top;\n",
       "    }\n",
       "\n",
       "    .dataframe thead th {\n",
       "        text-align: right;\n",
       "    }\n",
       "</style>\n",
       "<table border=\"1\" class=\"dataframe\">\n",
       "  <thead>\n",
       "    <tr style=\"text-align: right;\">\n",
       "      <th></th>\n",
       "      <th>fragrance</th>\n",
       "      <th>fragrance_gender</th>\n",
       "      <th>fragrance_type</th>\n",
       "      <th>brand</th>\n",
       "      <th>brand_tier</th>\n",
       "      <th>fp_id</th>\n",
       "      <th>gender</th>\n",
       "      <th>sweat</th>\n",
       "      <th>height</th>\n",
       "      <th>weight</th>\n",
       "      <th>...</th>\n",
       "      <th>snow_avg</th>\n",
       "      <th>weather_main</th>\n",
       "      <th>number_of_sprays</th>\n",
       "      <th>age</th>\n",
       "      <th>apply_time_year</th>\n",
       "      <th>apply_time_month</th>\n",
       "      <th>apply_time_day</th>\n",
       "      <th>apply_time_hour</th>\n",
       "      <th>apply_time_minute</th>\n",
       "      <th>apply_time_weekday_name</th>\n",
       "    </tr>\n",
       "  </thead>\n",
       "  <tbody>\n",
       "    <tr>\n",
       "      <th>0</th>\n",
       "      <td>-1.0</td>\n",
       "      <td>0.0</td>\n",
       "      <td>1.0</td>\n",
       "      <td>-1.0</td>\n",
       "      <td>-1.0</td>\n",
       "      <td>0.0</td>\n",
       "      <td>1.0</td>\n",
       "      <td>82</td>\n",
       "      <td>54</td>\n",
       "      <td>54</td>\n",
       "      <td>...</td>\n",
       "      <td>0</td>\n",
       "      <td>2.0</td>\n",
       "      <td>7</td>\n",
       "      <td>1.492783</td>\n",
       "      <td>2021</td>\n",
       "      <td>5</td>\n",
       "      <td>10</td>\n",
       "      <td>12</td>\n",
       "      <td>0</td>\n",
       "      <td>1.0</td>\n",
       "    </tr>\n",
       "  </tbody>\n",
       "</table>\n",
       "<p>1 rows × 34 columns</p>\n",
       "</div>"
      ],
      "text/plain": [
       "   fragrance  fragrance_gender  fragrance_type  brand  brand_tier  fp_id  \\\n",
       "0       -1.0               0.0             1.0   -1.0        -1.0    0.0   \n",
       "\n",
       "   gender  sweat  height  weight  ...  snow_avg  weather_main  \\\n",
       "0     1.0     82      54      54  ...         0           2.0   \n",
       "\n",
       "   number_of_sprays       age  apply_time_year  apply_time_month  \\\n",
       "0                 7  1.492783             2021                 5   \n",
       "\n",
       "   apply_time_day  apply_time_hour  apply_time_minute  apply_time_weekday_name  \n",
       "0              10               12                  0                      1.0  \n",
       "\n",
       "[1 rows x 34 columns]"
      ]
     },
     "execution_count": 301,
     "metadata": {},
     "output_type": "execute_result"
    }
   ],
   "source": [
    "df.head()"
   ]
  },
  {
   "cell_type": "code",
   "execution_count": 302,
   "metadata": {},
   "outputs": [],
   "source": [
    "# Columns with any null values\n",
    "# df.fillna(0)\n",
    "# df.columns[df.isna().any()].tolist()"
   ]
  },
  {
   "cell_type": "code",
   "execution_count": 303,
   "metadata": {
    "scrolled": true
   },
   "outputs": [],
   "source": [
    "# df.dtypes"
   ]
  },
  {
   "cell_type": "code",
   "execution_count": 304,
   "metadata": {},
   "outputs": [],
   "source": [
    "# Save columne names\n",
    "# file = open('longevity_column_names_after_cleaning_drop_prediction.txt', 'w')\n",
    "\n",
    "# dump information to that file\n",
    "# file.write(listToString(df.columns))\n",
    "\n",
    "# close the file\n",
    "# file.close()\n",
    "\n",
    "# df.columns"
   ]
  },
  {
   "cell_type": "markdown",
   "metadata": {},
   "source": [
    "#### Comparing current columns with training columns"
   ]
  },
  {
   "cell_type": "code",
   "execution_count": 305,
   "metadata": {},
   "outputs": [],
   "source": [
    "# with open('longevity_column_names_check.pickle', 'rb') as f:\n",
    "#     train_columns = pickle.load(f)\n",
    "    \n",
    "# print(len(train_columns), len(df.columns))"
   ]
  },
  {
   "cell_type": "code",
   "execution_count": 306,
   "metadata": {},
   "outputs": [],
   "source": [
    "# np.setdiff1d(df.columns, train_columns, assume_unique = True)"
   ]
  },
  {
   "cell_type": "code",
   "execution_count": 307,
   "metadata": {},
   "outputs": [],
   "source": [
    "# np.setdiff1d(train_columns, df.columns, assume_unique = True)"
   ]
  },
  {
   "cell_type": "code",
   "execution_count": 308,
   "metadata": {
    "scrolled": true
   },
   "outputs": [],
   "source": [
    "# set([x for x in df.columns if list(df.columns).count(x) > 1])"
   ]
  },
  {
   "cell_type": "markdown",
   "metadata": {},
   "source": [
    "# Model"
   ]
  },
  {
   "cell_type": "code",
   "execution_count": 309,
   "metadata": {},
   "outputs": [],
   "source": [
    "with open('longevity_model.pickle', 'rb') as f:\n",
    "    longevity_model = pickle.load(f)"
   ]
  },
  {
   "cell_type": "code",
   "execution_count": 310,
   "metadata": {},
   "outputs": [],
   "source": [
    "# longevity_model"
   ]
  },
  {
   "cell_type": "code",
   "execution_count": 311,
   "metadata": {
    "scrolled": false
   },
   "outputs": [
    {
     "name": "stdout",
     "output_type": "stream",
     "text": [
      "[60.]\n"
     ]
    }
   ],
   "source": [
    "y_pred = longevity_model.predict(df)\n",
    "print(y_pred)"
   ]
  },
  {
   "cell_type": "markdown",
   "metadata": {},
   "source": [
    "# END"
   ]
  }
 ],
 "metadata": {
  "kernelspec": {
   "display_name": "Python 3",
   "language": "python",
   "name": "python3"
  },
  "language_info": {
   "codemirror_mode": {
    "name": "ipython",
    "version": 3
   },
   "file_extension": ".py",
   "mimetype": "text/x-python",
   "name": "python",
   "nbconvert_exporter": "python",
   "pygments_lexer": "ipython3",
   "version": "3.8.8"
  }
 },
 "nbformat": 4,
 "nbformat_minor": 2
}
