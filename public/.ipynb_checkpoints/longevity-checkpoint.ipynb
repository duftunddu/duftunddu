{
 "cells": [
  {
   "cell_type": "markdown",
   "metadata": {},
   "source": [
    "## Extraction"
   ]
  },
  {
   "cell_type": "code",
   "execution_count": 306,
   "metadata": {},
   "outputs": [],
   "source": [
    "%matplotlib inline"
   ]
  },
  {
   "cell_type": "markdown",
   "metadata": {},
   "source": [
    "# Write column names"
   ]
  },
  {
   "cell_type": "code",
   "execution_count": 307,
   "metadata": {},
   "outputs": [],
   "source": [
    "def listToString(s): \n",
    "    \n",
    "    # initialize an empty string\n",
    "    str1 = \"\\n\" \n",
    "    \n",
    "    # return string  \n",
    "    return (str1.join(s))"
   ]
  },
  {
   "cell_type": "markdown",
   "metadata": {},
   "source": [
    "# Libraries Import"
   ]
  },
  {
   "cell_type": "code",
   "execution_count": 308,
   "metadata": {
    "tags": []
   },
   "outputs": [],
   "source": [
    "import numpy as np\n",
    "import pandas as pd\n",
    "# import xlrd\n",
    "# import matplotlib as mpl\n",
    "import matplotlib.pyplot as plt\n",
    "# import seaborn as sns\n",
    "from pandas.api.types import CategoricalDtype\n",
    "\n",
    "# For import export of model\n",
    "import pickle\n",
    "\n",
    "from sklearn.preprocessing import LabelEncoder\n",
    "from sklearn.model_selection import train_test_split\n",
    "\n",
    "from sklearn.tree import DecisionTreeRegressor\n",
    "from sklearn.linear_model import LogisticRegression\n",
    "\n",
    "from sklearn import metrics\n",
    "\n",
    "# print(plt.style.available)\n",
    "# mpl.style.use(['seaborn']) # optional: for ggplot-like style\n"
   ]
  },
  {
   "cell_type": "markdown",
   "metadata": {},
   "source": [
    "# Data Related"
   ]
  },
  {
   "cell_type": "markdown",
   "metadata": {},
   "source": [
    "## Data Import"
   ]
  },
  {
   "cell_type": "code",
   "execution_count": 309,
   "metadata": {},
   "outputs": [],
   "source": [
    "datastore = pd.read_csv('D:\\\\OneDrive - Institute of Business Administration\\\\Work\\\\Duft Und Du\\\\user_fragrance_review.csv', header=0)"
   ]
  },
  {
   "cell_type": "code",
   "execution_count": 310,
   "metadata": {},
   "outputs": [
    {
     "data": {
      "text/html": [
       "<div>\n",
       "<style scoped>\n",
       "    .dataframe tbody tr th:only-of-type {\n",
       "        vertical-align: middle;\n",
       "    }\n",
       "\n",
       "    .dataframe tbody tr th {\n",
       "        vertical-align: top;\n",
       "    }\n",
       "\n",
       "    .dataframe thead th {\n",
       "        text-align: right;\n",
       "    }\n",
       "</style>\n",
       "<table border=\"1\" class=\"dataframe\">\n",
       "  <thead>\n",
       "    <tr style=\"text-align: right;\">\n",
       "      <th></th>\n",
       "      <th>ufr_id</th>\n",
       "      <th>fba_country_name</th>\n",
       "      <th>fba_time_zone</th>\n",
       "      <th>longevity</th>\n",
       "      <th>suitability</th>\n",
       "      <th>sustainability</th>\n",
       "      <th>apply_time</th>\n",
       "      <th>wear_off_time</th>\n",
       "      <th>indoor_time_percentage</th>\n",
       "      <th>number_of_sprays</th>\n",
       "      <th>...</th>\n",
       "      <th>accord</th>\n",
       "      <th>ingredient</th>\n",
       "      <th>brand_id</th>\n",
       "      <th>brand</th>\n",
       "      <th>brand_discontinued</th>\n",
       "      <th>brand_tier</th>\n",
       "      <th>bo_location_country</th>\n",
       "      <th>bo_location_zone</th>\n",
       "      <th>fba_location_country</th>\n",
       "      <th>fba_location_zone</th>\n",
       "    </tr>\n",
       "  </thead>\n",
       "  <tbody>\n",
       "    <tr>\n",
       "      <th>0</th>\n",
       "      <td>4</td>\n",
       "      <td>Italy</td>\n",
       "      <td>+02:00</td>\n",
       "      <td>270</td>\n",
       "      <td>NaN</td>\n",
       "      <td>6.0</td>\n",
       "      <td>2021-03-04 07:30:00</td>\n",
       "      <td>2021-03-04 12:00:00</td>\n",
       "      <td>55</td>\n",
       "      <td>16</td>\n",
       "      <td>...</td>\n",
       "      <td>Warm</td>\n",
       "      <td>Bergamot</td>\n",
       "      <td>6</td>\n",
       "      <td>Versace</td>\n",
       "      <td>NaN</td>\n",
       "      <td>High-End</td>\n",
       "      <td>Italy</td>\n",
       "      <td>+02:00</td>\n",
       "      <td>Italy</td>\n",
       "      <td>+02:00</td>\n",
       "    </tr>\n",
       "    <tr>\n",
       "      <th>1</th>\n",
       "      <td>4</td>\n",
       "      <td>Italy</td>\n",
       "      <td>+02:00</td>\n",
       "      <td>270</td>\n",
       "      <td>NaN</td>\n",
       "      <td>6.0</td>\n",
       "      <td>2021-03-04 07:30:00</td>\n",
       "      <td>2021-03-04 12:00:00</td>\n",
       "      <td>55</td>\n",
       "      <td>16</td>\n",
       "      <td>...</td>\n",
       "      <td>Warm</td>\n",
       "      <td>Bitter Orange</td>\n",
       "      <td>6</td>\n",
       "      <td>Versace</td>\n",
       "      <td>NaN</td>\n",
       "      <td>High-End</td>\n",
       "      <td>Italy</td>\n",
       "      <td>+02:00</td>\n",
       "      <td>Italy</td>\n",
       "      <td>+02:00</td>\n",
       "    </tr>\n",
       "    <tr>\n",
       "      <th>2</th>\n",
       "      <td>4</td>\n",
       "      <td>Italy</td>\n",
       "      <td>+02:00</td>\n",
       "      <td>270</td>\n",
       "      <td>NaN</td>\n",
       "      <td>6.0</td>\n",
       "      <td>2021-03-04 07:30:00</td>\n",
       "      <td>2021-03-04 12:00:00</td>\n",
       "      <td>55</td>\n",
       "      <td>16</td>\n",
       "      <td>...</td>\n",
       "      <td>Warm</td>\n",
       "      <td>Blood Orange</td>\n",
       "      <td>6</td>\n",
       "      <td>Versace</td>\n",
       "      <td>NaN</td>\n",
       "      <td>High-End</td>\n",
       "      <td>Italy</td>\n",
       "      <td>+02:00</td>\n",
       "      <td>Italy</td>\n",
       "      <td>+02:00</td>\n",
       "    </tr>\n",
       "    <tr>\n",
       "      <th>3</th>\n",
       "      <td>4</td>\n",
       "      <td>Italy</td>\n",
       "      <td>+02:00</td>\n",
       "      <td>270</td>\n",
       "      <td>NaN</td>\n",
       "      <td>6.0</td>\n",
       "      <td>2021-03-04 07:30:00</td>\n",
       "      <td>2021-03-04 12:00:00</td>\n",
       "      <td>55</td>\n",
       "      <td>16</td>\n",
       "      <td>...</td>\n",
       "      <td>Warm</td>\n",
       "      <td>Calamansi</td>\n",
       "      <td>6</td>\n",
       "      <td>Versace</td>\n",
       "      <td>NaN</td>\n",
       "      <td>High-End</td>\n",
       "      <td>Italy</td>\n",
       "      <td>+02:00</td>\n",
       "      <td>Italy</td>\n",
       "      <td>+02:00</td>\n",
       "    </tr>\n",
       "    <tr>\n",
       "      <th>4</th>\n",
       "      <td>4</td>\n",
       "      <td>Italy</td>\n",
       "      <td>+02:00</td>\n",
       "      <td>270</td>\n",
       "      <td>NaN</td>\n",
       "      <td>6.0</td>\n",
       "      <td>2021-03-04 07:30:00</td>\n",
       "      <td>2021-03-04 12:00:00</td>\n",
       "      <td>55</td>\n",
       "      <td>16</td>\n",
       "      <td>...</td>\n",
       "      <td>Warm</td>\n",
       "      <td>Chinotto</td>\n",
       "      <td>6</td>\n",
       "      <td>Versace</td>\n",
       "      <td>NaN</td>\n",
       "      <td>High-End</td>\n",
       "      <td>Italy</td>\n",
       "      <td>+02:00</td>\n",
       "      <td>Italy</td>\n",
       "      <td>+02:00</td>\n",
       "    </tr>\n",
       "    <tr>\n",
       "      <th>...</th>\n",
       "      <td>...</td>\n",
       "      <td>...</td>\n",
       "      <td>...</td>\n",
       "      <td>...</td>\n",
       "      <td>...</td>\n",
       "      <td>...</td>\n",
       "      <td>...</td>\n",
       "      <td>...</td>\n",
       "      <td>...</td>\n",
       "      <td>...</td>\n",
       "      <td>...</td>\n",
       "      <td>...</td>\n",
       "      <td>...</td>\n",
       "      <td>...</td>\n",
       "      <td>...</td>\n",
       "      <td>...</td>\n",
       "      <td>...</td>\n",
       "      <td>...</td>\n",
       "      <td>...</td>\n",
       "      <td>...</td>\n",
       "      <td>...</td>\n",
       "    </tr>\n",
       "    <tr>\n",
       "      <th>1519</th>\n",
       "      <td>5</td>\n",
       "      <td>United Arab Emirates</td>\n",
       "      <td>+04:00</td>\n",
       "      <td>14</td>\n",
       "      <td>NaN</td>\n",
       "      <td>0.7</td>\n",
       "      <td>2021-03-04 17:21:00</td>\n",
       "      <td>2021-03-04 17:35:00</td>\n",
       "      <td>80</td>\n",
       "      <td>7</td>\n",
       "      <td>...</td>\n",
       "      <td>Citrus</td>\n",
       "      <td>Lime</td>\n",
       "      <td>7</td>\n",
       "      <td>Brut</td>\n",
       "      <td>NaN</td>\n",
       "      <td>Low-End</td>\n",
       "      <td>France</td>\n",
       "      <td>+02:00</td>\n",
       "      <td>United Arab Emirates</td>\n",
       "      <td>+04:00</td>\n",
       "    </tr>\n",
       "    <tr>\n",
       "      <th>1520</th>\n",
       "      <td>5</td>\n",
       "      <td>United Arab Emirates</td>\n",
       "      <td>+04:00</td>\n",
       "      <td>14</td>\n",
       "      <td>NaN</td>\n",
       "      <td>0.7</td>\n",
       "      <td>2021-03-04 17:21:00</td>\n",
       "      <td>2021-03-04 17:35:00</td>\n",
       "      <td>80</td>\n",
       "      <td>7</td>\n",
       "      <td>...</td>\n",
       "      <td>Citrus</td>\n",
       "      <td>Limetta</td>\n",
       "      <td>7</td>\n",
       "      <td>Brut</td>\n",
       "      <td>NaN</td>\n",
       "      <td>Low-End</td>\n",
       "      <td>France</td>\n",
       "      <td>+02:00</td>\n",
       "      <td>United Arab Emirates</td>\n",
       "      <td>+04:00</td>\n",
       "    </tr>\n",
       "    <tr>\n",
       "      <th>1521</th>\n",
       "      <td>5</td>\n",
       "      <td>United Arab Emirates</td>\n",
       "      <td>+04:00</td>\n",
       "      <td>14</td>\n",
       "      <td>NaN</td>\n",
       "      <td>0.7</td>\n",
       "      <td>2021-03-04 17:21:00</td>\n",
       "      <td>2021-03-04 17:35:00</td>\n",
       "      <td>80</td>\n",
       "      <td>7</td>\n",
       "      <td>...</td>\n",
       "      <td>Citrus</td>\n",
       "      <td>Litsea Cubeba</td>\n",
       "      <td>7</td>\n",
       "      <td>Brut</td>\n",
       "      <td>NaN</td>\n",
       "      <td>Low-End</td>\n",
       "      <td>France</td>\n",
       "      <td>+02:00</td>\n",
       "      <td>United Arab Emirates</td>\n",
       "      <td>+04:00</td>\n",
       "    </tr>\n",
       "    <tr>\n",
       "      <th>1522</th>\n",
       "      <td>5</td>\n",
       "      <td>United Arab Emirates</td>\n",
       "      <td>+04:00</td>\n",
       "      <td>14</td>\n",
       "      <td>NaN</td>\n",
       "      <td>0.7</td>\n",
       "      <td>2021-03-04 17:21:00</td>\n",
       "      <td>2021-03-04 17:35:00</td>\n",
       "      <td>80</td>\n",
       "      <td>7</td>\n",
       "      <td>...</td>\n",
       "      <td>Citrus</td>\n",
       "      <td>Mandarin Orange</td>\n",
       "      <td>7</td>\n",
       "      <td>Brut</td>\n",
       "      <td>NaN</td>\n",
       "      <td>Low-End</td>\n",
       "      <td>France</td>\n",
       "      <td>+02:00</td>\n",
       "      <td>United Arab Emirates</td>\n",
       "      <td>+04:00</td>\n",
       "    </tr>\n",
       "    <tr>\n",
       "      <th>1523</th>\n",
       "      <td>5</td>\n",
       "      <td>United Arab Emirates</td>\n",
       "      <td>+04:00</td>\n",
       "      <td>14</td>\n",
       "      <td>NaN</td>\n",
       "      <td>0.7</td>\n",
       "      <td>2021-03-04 17:21:00</td>\n",
       "      <td>2021-03-04 17:35:00</td>\n",
       "      <td>80</td>\n",
       "      <td>7</td>\n",
       "      <td>...</td>\n",
       "      <td>Citrus</td>\n",
       "      <td>Mandora</td>\n",
       "      <td>7</td>\n",
       "      <td>Brut</td>\n",
       "      <td>NaN</td>\n",
       "      <td>Low-End</td>\n",
       "      <td>France</td>\n",
       "      <td>+02:00</td>\n",
       "      <td>United Arab Emirates</td>\n",
       "      <td>+04:00</td>\n",
       "    </tr>\n",
       "  </tbody>\n",
       "</table>\n",
       "<p>1524 rows × 55 columns</p>\n",
       "</div>"
      ],
      "text/plain": [
       "      ufr_id      fba_country_name fba_time_zone  longevity  suitability  \\\n",
       "0          4                 Italy        +02:00        270          NaN   \n",
       "1          4                 Italy        +02:00        270          NaN   \n",
       "2          4                 Italy        +02:00        270          NaN   \n",
       "3          4                 Italy        +02:00        270          NaN   \n",
       "4          4                 Italy        +02:00        270          NaN   \n",
       "...      ...                   ...           ...        ...          ...   \n",
       "1519       5  United Arab Emirates        +04:00         14          NaN   \n",
       "1520       5  United Arab Emirates        +04:00         14          NaN   \n",
       "1521       5  United Arab Emirates        +04:00         14          NaN   \n",
       "1522       5  United Arab Emirates        +04:00         14          NaN   \n",
       "1523       5  United Arab Emirates        +04:00         14          NaN   \n",
       "\n",
       "      sustainability           apply_time        wear_off_time  \\\n",
       "0                6.0  2021-03-04 07:30:00  2021-03-04 12:00:00   \n",
       "1                6.0  2021-03-04 07:30:00  2021-03-04 12:00:00   \n",
       "2                6.0  2021-03-04 07:30:00  2021-03-04 12:00:00   \n",
       "3                6.0  2021-03-04 07:30:00  2021-03-04 12:00:00   \n",
       "4                6.0  2021-03-04 07:30:00  2021-03-04 12:00:00   \n",
       "...              ...                  ...                  ...   \n",
       "1519             0.7  2021-03-04 17:21:00  2021-03-04 17:35:00   \n",
       "1520             0.7  2021-03-04 17:21:00  2021-03-04 17:35:00   \n",
       "1521             0.7  2021-03-04 17:21:00  2021-03-04 17:35:00   \n",
       "1522             0.7  2021-03-04 17:21:00  2021-03-04 17:35:00   \n",
       "1523             0.7  2021-03-04 17:21:00  2021-03-04 17:35:00   \n",
       "\n",
       "      indoor_time_percentage  number_of_sprays  ...  accord       ingredient  \\\n",
       "0                         55                16  ...    Warm         Bergamot   \n",
       "1                         55                16  ...    Warm    Bitter Orange   \n",
       "2                         55                16  ...    Warm     Blood Orange   \n",
       "3                         55                16  ...    Warm        Calamansi   \n",
       "4                         55                16  ...    Warm         Chinotto   \n",
       "...                      ...               ...  ...     ...              ...   \n",
       "1519                      80                 7  ...  Citrus             Lime   \n",
       "1520                      80                 7  ...  Citrus          Limetta   \n",
       "1521                      80                 7  ...  Citrus    Litsea Cubeba   \n",
       "1522                      80                 7  ...  Citrus  Mandarin Orange   \n",
       "1523                      80                 7  ...  Citrus          Mandora   \n",
       "\n",
       "      brand_id    brand  brand_discontinued  brand_tier  bo_location_country  \\\n",
       "0            6  Versace                 NaN    High-End                Italy   \n",
       "1            6  Versace                 NaN    High-End                Italy   \n",
       "2            6  Versace                 NaN    High-End                Italy   \n",
       "3            6  Versace                 NaN    High-End                Italy   \n",
       "4            6  Versace                 NaN    High-End                Italy   \n",
       "...        ...      ...                 ...         ...                  ...   \n",
       "1519         7     Brut                 NaN     Low-End               France   \n",
       "1520         7     Brut                 NaN     Low-End               France   \n",
       "1521         7     Brut                 NaN     Low-End               France   \n",
       "1522         7     Brut                 NaN     Low-End               France   \n",
       "1523         7     Brut                 NaN     Low-End               France   \n",
       "\n",
       "      bo_location_zone  fba_location_country  fba_location_zone  \n",
       "0               +02:00                 Italy             +02:00  \n",
       "1               +02:00                 Italy             +02:00  \n",
       "2               +02:00                 Italy             +02:00  \n",
       "3               +02:00                 Italy             +02:00  \n",
       "4               +02:00                 Italy             +02:00  \n",
       "...                ...                   ...                ...  \n",
       "1519            +02:00  United Arab Emirates             +04:00  \n",
       "1520            +02:00  United Arab Emirates             +04:00  \n",
       "1521            +02:00  United Arab Emirates             +04:00  \n",
       "1522            +02:00  United Arab Emirates             +04:00  \n",
       "1523            +02:00  United Arab Emirates             +04:00  \n",
       "\n",
       "[1524 rows x 55 columns]"
      ]
     },
     "execution_count": 310,
     "metadata": {},
     "output_type": "execute_result"
    }
   ],
   "source": [
    "df = pd.DataFrame(data=datastore)\n",
    "df"
   ]
  },
  {
   "cell_type": "code",
   "execution_count": 311,
   "metadata": {},
   "outputs": [
    {
     "data": {
      "text/html": [
       "<div>\n",
       "<style scoped>\n",
       "    .dataframe tbody tr th:only-of-type {\n",
       "        vertical-align: middle;\n",
       "    }\n",
       "\n",
       "    .dataframe tbody tr th {\n",
       "        vertical-align: top;\n",
       "    }\n",
       "\n",
       "    .dataframe thead th {\n",
       "        text-align: right;\n",
       "    }\n",
       "</style>\n",
       "<table border=\"1\" class=\"dataframe\">\n",
       "  <thead>\n",
       "    <tr style=\"text-align: right;\">\n",
       "      <th></th>\n",
       "      <th>ufr_id</th>\n",
       "      <th>fba_country_name</th>\n",
       "      <th>fba_time_zone</th>\n",
       "      <th>longevity</th>\n",
       "      <th>suitability</th>\n",
       "      <th>sustainability</th>\n",
       "      <th>apply_time</th>\n",
       "      <th>wear_off_time</th>\n",
       "      <th>indoor_time_percentage</th>\n",
       "      <th>number_of_sprays</th>\n",
       "      <th>...</th>\n",
       "      <th>accord</th>\n",
       "      <th>ingredient</th>\n",
       "      <th>brand_id</th>\n",
       "      <th>brand</th>\n",
       "      <th>brand_discontinued</th>\n",
       "      <th>brand_tier</th>\n",
       "      <th>bo_location_country</th>\n",
       "      <th>bo_location_zone</th>\n",
       "      <th>fba_location_country</th>\n",
       "      <th>fba_location_zone</th>\n",
       "    </tr>\n",
       "  </thead>\n",
       "  <tbody>\n",
       "    <tr>\n",
       "      <th>0</th>\n",
       "      <td>4</td>\n",
       "      <td>Italy</td>\n",
       "      <td>+02:00</td>\n",
       "      <td>270</td>\n",
       "      <td>NaN</td>\n",
       "      <td>6.0</td>\n",
       "      <td>2021-03-04 07:30:00</td>\n",
       "      <td>2021-03-04 12:00:00</td>\n",
       "      <td>55</td>\n",
       "      <td>16</td>\n",
       "      <td>...</td>\n",
       "      <td>Warm</td>\n",
       "      <td>Bergamot</td>\n",
       "      <td>6</td>\n",
       "      <td>Versace</td>\n",
       "      <td>NaN</td>\n",
       "      <td>High-End</td>\n",
       "      <td>Italy</td>\n",
       "      <td>+02:00</td>\n",
       "      <td>Italy</td>\n",
       "      <td>+02:00</td>\n",
       "    </tr>\n",
       "    <tr>\n",
       "      <th>1</th>\n",
       "      <td>4</td>\n",
       "      <td>Italy</td>\n",
       "      <td>+02:00</td>\n",
       "      <td>270</td>\n",
       "      <td>NaN</td>\n",
       "      <td>6.0</td>\n",
       "      <td>2021-03-04 07:30:00</td>\n",
       "      <td>2021-03-04 12:00:00</td>\n",
       "      <td>55</td>\n",
       "      <td>16</td>\n",
       "      <td>...</td>\n",
       "      <td>Warm</td>\n",
       "      <td>Bitter Orange</td>\n",
       "      <td>6</td>\n",
       "      <td>Versace</td>\n",
       "      <td>NaN</td>\n",
       "      <td>High-End</td>\n",
       "      <td>Italy</td>\n",
       "      <td>+02:00</td>\n",
       "      <td>Italy</td>\n",
       "      <td>+02:00</td>\n",
       "    </tr>\n",
       "    <tr>\n",
       "      <th>2</th>\n",
       "      <td>4</td>\n",
       "      <td>Italy</td>\n",
       "      <td>+02:00</td>\n",
       "      <td>270</td>\n",
       "      <td>NaN</td>\n",
       "      <td>6.0</td>\n",
       "      <td>2021-03-04 07:30:00</td>\n",
       "      <td>2021-03-04 12:00:00</td>\n",
       "      <td>55</td>\n",
       "      <td>16</td>\n",
       "      <td>...</td>\n",
       "      <td>Warm</td>\n",
       "      <td>Blood Orange</td>\n",
       "      <td>6</td>\n",
       "      <td>Versace</td>\n",
       "      <td>NaN</td>\n",
       "      <td>High-End</td>\n",
       "      <td>Italy</td>\n",
       "      <td>+02:00</td>\n",
       "      <td>Italy</td>\n",
       "      <td>+02:00</td>\n",
       "    </tr>\n",
       "    <tr>\n",
       "      <th>3</th>\n",
       "      <td>4</td>\n",
       "      <td>Italy</td>\n",
       "      <td>+02:00</td>\n",
       "      <td>270</td>\n",
       "      <td>NaN</td>\n",
       "      <td>6.0</td>\n",
       "      <td>2021-03-04 07:30:00</td>\n",
       "      <td>2021-03-04 12:00:00</td>\n",
       "      <td>55</td>\n",
       "      <td>16</td>\n",
       "      <td>...</td>\n",
       "      <td>Warm</td>\n",
       "      <td>Calamansi</td>\n",
       "      <td>6</td>\n",
       "      <td>Versace</td>\n",
       "      <td>NaN</td>\n",
       "      <td>High-End</td>\n",
       "      <td>Italy</td>\n",
       "      <td>+02:00</td>\n",
       "      <td>Italy</td>\n",
       "      <td>+02:00</td>\n",
       "    </tr>\n",
       "    <tr>\n",
       "      <th>4</th>\n",
       "      <td>4</td>\n",
       "      <td>Italy</td>\n",
       "      <td>+02:00</td>\n",
       "      <td>270</td>\n",
       "      <td>NaN</td>\n",
       "      <td>6.0</td>\n",
       "      <td>2021-03-04 07:30:00</td>\n",
       "      <td>2021-03-04 12:00:00</td>\n",
       "      <td>55</td>\n",
       "      <td>16</td>\n",
       "      <td>...</td>\n",
       "      <td>Warm</td>\n",
       "      <td>Chinotto</td>\n",
       "      <td>6</td>\n",
       "      <td>Versace</td>\n",
       "      <td>NaN</td>\n",
       "      <td>High-End</td>\n",
       "      <td>Italy</td>\n",
       "      <td>+02:00</td>\n",
       "      <td>Italy</td>\n",
       "      <td>+02:00</td>\n",
       "    </tr>\n",
       "  </tbody>\n",
       "</table>\n",
       "<p>5 rows × 55 columns</p>\n",
       "</div>"
      ],
      "text/plain": [
       "   ufr_id fba_country_name fba_time_zone  longevity  suitability  \\\n",
       "0       4            Italy        +02:00        270          NaN   \n",
       "1       4            Italy        +02:00        270          NaN   \n",
       "2       4            Italy        +02:00        270          NaN   \n",
       "3       4            Italy        +02:00        270          NaN   \n",
       "4       4            Italy        +02:00        270          NaN   \n",
       "\n",
       "   sustainability           apply_time        wear_off_time  \\\n",
       "0             6.0  2021-03-04 07:30:00  2021-03-04 12:00:00   \n",
       "1             6.0  2021-03-04 07:30:00  2021-03-04 12:00:00   \n",
       "2             6.0  2021-03-04 07:30:00  2021-03-04 12:00:00   \n",
       "3             6.0  2021-03-04 07:30:00  2021-03-04 12:00:00   \n",
       "4             6.0  2021-03-04 07:30:00  2021-03-04 12:00:00   \n",
       "\n",
       "   indoor_time_percentage  number_of_sprays  ...  accord     ingredient  \\\n",
       "0                      55                16  ...    Warm       Bergamot   \n",
       "1                      55                16  ...    Warm  Bitter Orange   \n",
       "2                      55                16  ...    Warm   Blood Orange   \n",
       "3                      55                16  ...    Warm      Calamansi   \n",
       "4                      55                16  ...    Warm       Chinotto   \n",
       "\n",
       "   brand_id    brand  brand_discontinued  brand_tier  bo_location_country  \\\n",
       "0         6  Versace                 NaN    High-End                Italy   \n",
       "1         6  Versace                 NaN    High-End                Italy   \n",
       "2         6  Versace                 NaN    High-End                Italy   \n",
       "3         6  Versace                 NaN    High-End                Italy   \n",
       "4         6  Versace                 NaN    High-End                Italy   \n",
       "\n",
       "   bo_location_zone  fba_location_country  fba_location_zone  \n",
       "0            +02:00                 Italy             +02:00  \n",
       "1            +02:00                 Italy             +02:00  \n",
       "2            +02:00                 Italy             +02:00  \n",
       "3            +02:00                 Italy             +02:00  \n",
       "4            +02:00                 Italy             +02:00  \n",
       "\n",
       "[5 rows x 55 columns]"
      ]
     },
     "execution_count": 311,
     "metadata": {},
     "output_type": "execute_result"
    }
   ],
   "source": [
    "df.head()"
   ]
  },
  {
   "cell_type": "code",
   "execution_count": 312,
   "metadata": {},
   "outputs": [],
   "source": [
    "# df.columns"
   ]
  },
  {
   "cell_type": "markdown",
   "metadata": {},
   "source": [
    "## Cleaning"
   ]
  },
  {
   "cell_type": "code",
   "execution_count": 313,
   "metadata": {},
   "outputs": [],
   "source": [
    "df.drop(columns=['ufr_id', 'fba_country_name', 'fba_time_zone', 'suitability', 'sustainability', 'sillage', 'like', 'users_id', 'user_check', 'fragrance_id', 'brand_id', 'fba_location_country', 'fba_location_zone', 'wear_off_time', 'indoor_time_percentage', 'projection', 'accord', 'ingredient', 'climate', 'fp_time_zone', 'fragrance_discontinued', 'brand_discontinued', 'bo_location_zone', 'weather_description'], inplace=True)\n",
    "\n",
    "# Write column name to files\n",
    "with open(\"longevity_column_names_after_initial_drop.txt\", \"w\") as f:\n",
    "    f.write(listToString(df.columns))"
   ]
  },
  {
   "cell_type": "code",
   "execution_count": 314,
   "metadata": {},
   "outputs": [
    {
     "data": {
      "text/plain": [
       "(2, 31)"
      ]
     },
     "execution_count": 314,
     "metadata": {},
     "output_type": "execute_result"
    }
   ],
   "source": [
    "df.drop_duplicates(subset=None, keep=\"first\", inplace=True)\n",
    "df.shape"
   ]
  },
  {
   "cell_type": "code",
   "execution_count": 315,
   "metadata": {},
   "outputs": [
    {
     "data": {
      "text/plain": [
       "longevity              0\n",
       "apply_time             0\n",
       "number_of_sprays       0\n",
       "temp_avg               0\n",
       "hum_avg                0\n",
       "dew_point_avg          0\n",
       "uv_index_avg           0\n",
       "temp_feels_like_avg    0\n",
       "atm_pressure_avg       0\n",
       "clouds_avg             0\n",
       "visibility_avg         0\n",
       "wind_speed_avg         0\n",
       "rain_avg               1\n",
       "snow_avg               2\n",
       "weather_main           0\n",
       "fp_id                  0\n",
       "gender                 0\n",
       "dob                    0\n",
       "sweat                  0\n",
       "height                 0\n",
       "weight                 0\n",
       "profession             0\n",
       "skin_type              0\n",
       "season                 0\n",
       "fp_country             0\n",
       "fragrance              0\n",
       "fragrance_gender       0\n",
       "fragrance_type         0\n",
       "brand                  0\n",
       "brand_tier             0\n",
       "bo_location_country    0\n",
       "dtype: int64"
      ]
     },
     "execution_count": 315,
     "metadata": {},
     "output_type": "execute_result"
    }
   ],
   "source": [
    "df.isnull().sum()"
   ]
  },
  {
   "cell_type": "code",
   "execution_count": 316,
   "metadata": {},
   "outputs": [],
   "source": [
    "# Missing Values\n",
    "# df['suitability'].fillna(df['suitability'].median(), inplace=True)\n",
    "# df['suitability'].fillna(int(df['suitability'].mean()), inplace=True)\n",
    "\n",
    "# df['suitability'].fillna(int(0), inplace=True)\n",
    "\n",
    "# df['projection'].fillna(int(0), inplace=True)\n",
    "df['rain_avg'].fillna(int(0), inplace=True)\n",
    "df['snow_avg'].fillna(int(0), inplace=True)\n",
    "\n",
    "# df['user_check'].fillna(int(0), inplace=True)\n",
    "\n",
    "\n",
    "df['sweat'].fillna(int(df['sweat'].mean()), inplace=True)\n",
    "\n",
    "\n",
    "# df['fragrance_discontinued'].fillna(int(0), inplace=True)\n",
    "# df['brand_discontinued'].fillna(int(0), inplace=True)\n"
   ]
  },
  {
   "cell_type": "code",
   "execution_count": 317,
   "metadata": {
    "scrolled": true
   },
   "outputs": [],
   "source": [
    "# df['skin_type']"
   ]
  },
  {
   "cell_type": "code",
   "execution_count": 318,
   "metadata": {},
   "outputs": [],
   "source": [
    "# # create the dummies on the training data\n",
    "# dummy_train = pd.get_dummies(df['skin_type'])\n",
    "# dummy_train"
   ]
  },
  {
   "cell_type": "code",
   "execution_count": 319,
   "metadata": {},
   "outputs": [],
   "source": [
    "# # create the dummies in the new (unseen data)\n",
    "# test_df = pd.DataFrame(data=['Very Oily', 'low', 'Normal'], columns=['skin_type'])\n",
    "# test_df['skin_type']"
   ]
  },
  {
   "cell_type": "code",
   "execution_count": 320,
   "metadata": {},
   "outputs": [],
   "source": [
    "# dummy_new = pd.get_dummies(test_df['skin_type'])\n",
    "# dummy_new"
   ]
  },
  {
   "cell_type": "code",
   "execution_count": 321,
   "metadata": {},
   "outputs": [],
   "source": [
    "# # re-index the new data to the columns of the training data, filling the missing values with 0\n",
    "# dummy_new.reindex(columns = dummy_train.columns, fill_value=0)\n",
    "# dummy_new"
   ]
  },
  {
   "cell_type": "code",
   "execution_count": null,
   "metadata": {},
   "outputs": [],
   "source": []
  },
  {
   "cell_type": "code",
   "execution_count": null,
   "metadata": {},
   "outputs": [],
   "source": []
  },
  {
   "cell_type": "code",
   "execution_count": 322,
   "metadata": {},
   "outputs": [],
   "source": [
    "# data['Temperature_encoded'] = data['Temperature'].map( {'low':0, 'medium':1, 'high':2})\n",
    "# data[['Temperature', 'Temperature_encoded']]"
   ]
  },
  {
   "cell_type": "code",
   "execution_count": null,
   "metadata": {},
   "outputs": [],
   "source": []
  },
  {
   "cell_type": "code",
   "execution_count": null,
   "metadata": {},
   "outputs": [],
   "source": []
  },
  {
   "cell_type": "code",
   "execution_count": null,
   "metadata": {},
   "outputs": [],
   "source": []
  },
  {
   "cell_type": "markdown",
   "metadata": {},
   "source": [
    "### Data Types"
   ]
  },
  {
   "cell_type": "code",
   "execution_count": 323,
   "metadata": {},
   "outputs": [
    {
     "data": {
      "text/plain": [
       "longevity                int64\n",
       "apply_time              object\n",
       "number_of_sprays         int64\n",
       "temp_avg               float64\n",
       "hum_avg                float64\n",
       "dew_point_avg          float64\n",
       "uv_index_avg           float64\n",
       "temp_feels_like_avg    float64\n",
       "atm_pressure_avg       float64\n",
       "clouds_avg             float64\n",
       "visibility_avg           int64\n",
       "wind_speed_avg         float64\n",
       "rain_avg               float64\n",
       "snow_avg               float64\n",
       "weather_main            object\n",
       "fp_id                    int64\n",
       "gender                  object\n",
       "dob                     object\n",
       "sweat                    int64\n",
       "height                   int64\n",
       "weight                   int64\n",
       "profession              object\n",
       "skin_type               object\n",
       "season                  object\n",
       "fp_country              object\n",
       "fragrance               object\n",
       "fragrance_gender        object\n",
       "fragrance_type          object\n",
       "brand                   object\n",
       "brand_tier              object\n",
       "bo_location_country     object\n",
       "dtype: object"
      ]
     },
     "execution_count": 323,
     "metadata": {},
     "output_type": "execute_result"
    }
   ],
   "source": [
    "df.dtypes"
   ]
  },
  {
   "cell_type": "code",
   "execution_count": 324,
   "metadata": {},
   "outputs": [],
   "source": [
    "\n",
    "# Datetime\n",
    "df['dob']               = df['dob'].astype('datetime64[ns]')\n",
    "df['apply_time']        = df['apply_time'].astype('datetime64[ns]')\n",
    "# df['wear_off_time']     = df['wear_off_time'].astype('datetime64[ns]')\n",
    "\n",
    "# Boolean\n",
    "# df['fragrance_discontinued']    = df['fragrance_discontinued'].astype('bool')\n",
    "# df['brand_discontinued']        = df['brand_discontinued'].astype('bool')\n"
   ]
  },
  {
   "cell_type": "markdown",
   "metadata": {},
   "source": [
    "### Adding new "
   ]
  },
  {
   "cell_type": "code",
   "execution_count": 325,
   "metadata": {},
   "outputs": [],
   "source": [
    "# Calcualting Age\n",
    "now = pd.to_datetime('now')\n",
    "df['age'] = (now - df['dob']).dt.total_seconds() / (60*60*24*365.25)\n",
    "\n",
    "# Type Cast\n",
    "df['age'] = df['age'].astype('float')\n",
    "\n",
    "# Drop dob\n",
    "df.drop(['dob'],axis=1, inplace=True)"
   ]
  },
  {
   "cell_type": "code",
   "execution_count": 326,
   "metadata": {},
   "outputs": [],
   "source": [
    "# Sorting out Dates\n",
    "\n",
    "# Apply Time\n",
    "df['apply_time_year']          = df['apply_time'].dt.year\n",
    "df['apply_time_month']         = df['apply_time'].dt.month\n",
    "df['apply_time_day']           = df['apply_time'].dt.day\n",
    "df['apply_time_hour']          = df['apply_time'].dt.hour\n",
    "df['apply_time_minute']        = df['apply_time'].dt.minute\n",
    "df['apply_time_weekday_name']  = df['apply_time'].dt.day_name()\n",
    "\n",
    "# Drop Apply Time & Wear Off Time\n",
    "df.drop(['apply_time'],axis=1, inplace=True)"
   ]
  },
  {
   "cell_type": "code",
   "execution_count": 327,
   "metadata": {},
   "outputs": [
    {
     "data": {
      "text/plain": [
       "longevity                    int64\n",
       "number_of_sprays             int64\n",
       "temp_avg                   float64\n",
       "hum_avg                    float64\n",
       "dew_point_avg              float64\n",
       "uv_index_avg               float64\n",
       "temp_feels_like_avg        float64\n",
       "atm_pressure_avg           float64\n",
       "clouds_avg                 float64\n",
       "visibility_avg               int64\n",
       "wind_speed_avg             float64\n",
       "rain_avg                   float64\n",
       "snow_avg                   float64\n",
       "weather_main                object\n",
       "fp_id                        int64\n",
       "gender                      object\n",
       "sweat                        int64\n",
       "height                       int64\n",
       "weight                       int64\n",
       "profession                  object\n",
       "skin_type                   object\n",
       "season                      object\n",
       "fp_country                  object\n",
       "fragrance                   object\n",
       "fragrance_gender            object\n",
       "fragrance_type              object\n",
       "brand                       object\n",
       "brand_tier                  object\n",
       "bo_location_country         object\n",
       "age                        float64\n",
       "apply_time_year              int64\n",
       "apply_time_month             int64\n",
       "apply_time_day               int64\n",
       "apply_time_hour              int64\n",
       "apply_time_minute            int64\n",
       "apply_time_weekday_name     object\n",
       "dtype: object"
      ]
     },
     "execution_count": 327,
     "metadata": {},
     "output_type": "execute_result"
    }
   ],
   "source": [
    "df.dtypes"
   ]
  },
  {
   "cell_type": "markdown",
   "metadata": {},
   "source": [
    "### Categorical Variables"
   ]
  },
  {
   "cell_type": "code",
   "execution_count": 328,
   "metadata": {},
   "outputs": [
    {
     "data": {
      "text/plain": [
       "array(['weather_main', 'gender', 'profession', 'skin_type', 'season',\n",
       "       'fp_country', 'fragrance', 'fragrance_gender', 'fragrance_type',\n",
       "       'brand', 'brand_tier', 'bo_location_country',\n",
       "       'apply_time_weekday_name'], dtype=object)"
      ]
     },
     "execution_count": 328,
     "metadata": {},
     "output_type": "execute_result"
    }
   ],
   "source": [
    "categorical_columns = df.select_dtypes(include=['object']).columns.values\n",
    "df = df.convert_dtypes()\n",
    "categorical_columns"
   ]
  },
  {
   "cell_type": "code",
   "execution_count": 329,
   "metadata": {},
   "outputs": [],
   "source": [
    "def resolve_categorical_variable(df, column_name):\n",
    "    df = pd.concat([df,pd.get_dummies(df[column_name], prefix=column_name)],axis=1)\n",
    "    df.drop([column_name],axis=1, inplace=True)\n",
    "    return df\n",
    "\n",
    "def resolve_categorical_variables(df, column_names_arr):\n",
    "    dummies = {};\n",
    "    \n",
    "    for column_name in column_names_arr:\n",
    "        \n",
    "        dummies[column_name] = pd.get_dummies(df[column_name], prefix=column_name)\n",
    "        \n",
    "        df = pd.concat([df, dummies[column_name]], axis=1)\n",
    "        df.drop([column_name], axis=1, inplace=True)\n",
    "    \n",
    "    # Save dummies for prediction\n",
    "    with open('longevity_dummies.pickle', 'wb') as f:\n",
    "        pickle.dump(dummies, f)\n",
    "        \n",
    "    return df"
   ]
  },
  {
   "cell_type": "code",
   "execution_count": 330,
   "metadata": {
    "scrolled": true
   },
   "outputs": [
    {
     "data": {
      "text/plain": [
       "Index(['longevity', 'number_of_sprays', 'temp_avg', 'hum_avg', 'dew_point_avg',\n",
       "       'uv_index_avg', 'temp_feels_like_avg', 'atm_pressure_avg', 'clouds_avg',\n",
       "       'visibility_avg', 'wind_speed_avg', 'rain_avg', 'snow_avg', 'sweat',\n",
       "       'height', 'weight', 'age', 'apply_time_year', 'apply_time_month',\n",
       "       'apply_time_day', 'apply_time_hour', 'apply_time_minute',\n",
       "       'weather_main_Clear', 'weather_main_Rain', 'gender_Female',\n",
       "       'gender_Male', 'profession_Doctor', 'profession_Footballer',\n",
       "       'skin_type_Normal', 'skin_type_Very Oily', 'season_Summer',\n",
       "       'season_Winter', 'fp_country_Pakistan', 'fragrance_Bright Crystal',\n",
       "       'fragrance_Parfums Prestige Paris 1965', 'fragrance_gender_Female',\n",
       "       'fragrance_gender_Male', 'fragrance_type_Eau de Toilette', 'brand_Brut',\n",
       "       'brand_Versace', 'brand_tier_High-End', 'brand_tier_Low-End',\n",
       "       'bo_location_country_France', 'bo_location_country_Italy',\n",
       "       'apply_time_weekday_name_Thursday', 'fp_id_12', 'fp_id_13'],\n",
       "      dtype='object')"
      ]
     },
     "execution_count": 330,
     "metadata": {},
     "output_type": "execute_result"
    }
   ],
   "source": [
    "df = resolve_categorical_variables(df, np.append(categorical_columns, ('fp_id')))\n",
    "\n",
    "# Save columne names\n",
    "file = open('longevity_column_names_after_cleaning_drop.txt', 'w')\n",
    "\n",
    "# dump information to that file\n",
    "file.write(listToString(df.columns))\n",
    "\n",
    "# close the file\n",
    "file.close()\n",
    "\n",
    "df.columns"
   ]
  },
  {
   "cell_type": "code",
   "execution_count": 331,
   "metadata": {},
   "outputs": [
    {
     "name": "stdout",
     "output_type": "stream",
     "text": [
      "(2, 47)\n",
      "0\n"
     ]
    }
   ],
   "source": [
    "print(df.shape)\n",
    "print(df.duplicated(keep='first').sum())"
   ]
  },
  {
   "cell_type": "code",
   "execution_count": 332,
   "metadata": {},
   "outputs": [],
   "source": [
    "# df.to_csv('cleaned.csv', header=True, index=True)"
   ]
  },
  {
   "cell_type": "code",
   "execution_count": 333,
   "metadata": {},
   "outputs": [
    {
     "data": {
      "text/html": [
       "<div>\n",
       "<style scoped>\n",
       "    .dataframe tbody tr th:only-of-type {\n",
       "        vertical-align: middle;\n",
       "    }\n",
       "\n",
       "    .dataframe tbody tr th {\n",
       "        vertical-align: top;\n",
       "    }\n",
       "\n",
       "    .dataframe thead th {\n",
       "        text-align: right;\n",
       "    }\n",
       "</style>\n",
       "<table border=\"1\" class=\"dataframe\">\n",
       "  <thead>\n",
       "    <tr style=\"text-align: right;\">\n",
       "      <th></th>\n",
       "      <th>longevity</th>\n",
       "      <th>number_of_sprays</th>\n",
       "      <th>temp_avg</th>\n",
       "      <th>hum_avg</th>\n",
       "      <th>dew_point_avg</th>\n",
       "      <th>uv_index_avg</th>\n",
       "      <th>temp_feels_like_avg</th>\n",
       "      <th>atm_pressure_avg</th>\n",
       "      <th>clouds_avg</th>\n",
       "      <th>visibility_avg</th>\n",
       "      <th>...</th>\n",
       "      <th>fragrance_type_Eau de Toilette</th>\n",
       "      <th>brand_Brut</th>\n",
       "      <th>brand_Versace</th>\n",
       "      <th>brand_tier_High-End</th>\n",
       "      <th>brand_tier_Low-End</th>\n",
       "      <th>bo_location_country_France</th>\n",
       "      <th>bo_location_country_Italy</th>\n",
       "      <th>apply_time_weekday_name_Thursday</th>\n",
       "      <th>fp_id_12</th>\n",
       "      <th>fp_id_13</th>\n",
       "    </tr>\n",
       "  </thead>\n",
       "  <tbody>\n",
       "    <tr>\n",
       "      <th>0</th>\n",
       "      <td>270</td>\n",
       "      <td>16</td>\n",
       "      <td>74.99</td>\n",
       "      <td>22.5</td>\n",
       "      <td>32.45</td>\n",
       "      <td>6.4</td>\n",
       "      <td>69.75</td>\n",
       "      <td>1014.62</td>\n",
       "      <td>42.25</td>\n",
       "      <td>60000</td>\n",
       "      <td>...</td>\n",
       "      <td>1</td>\n",
       "      <td>0</td>\n",
       "      <td>1</td>\n",
       "      <td>1</td>\n",
       "      <td>0</td>\n",
       "      <td>0</td>\n",
       "      <td>1</td>\n",
       "      <td>1</td>\n",
       "      <td>0</td>\n",
       "      <td>1</td>\n",
       "    </tr>\n",
       "    <tr>\n",
       "      <th>912</th>\n",
       "      <td>14</td>\n",
       "      <td>7</td>\n",
       "      <td>78.42</td>\n",
       "      <td>21.75</td>\n",
       "      <td>35.66</td>\n",
       "      <td>6.39</td>\n",
       "      <td>72.09</td>\n",
       "      <td>1014.25</td>\n",
       "      <td>61.62</td>\n",
       "      <td>60000</td>\n",
       "      <td>...</td>\n",
       "      <td>1</td>\n",
       "      <td>1</td>\n",
       "      <td>0</td>\n",
       "      <td>0</td>\n",
       "      <td>1</td>\n",
       "      <td>1</td>\n",
       "      <td>0</td>\n",
       "      <td>1</td>\n",
       "      <td>1</td>\n",
       "      <td>0</td>\n",
       "    </tr>\n",
       "  </tbody>\n",
       "</table>\n",
       "<p>2 rows × 47 columns</p>\n",
       "</div>"
      ],
      "text/plain": [
       "     longevity  number_of_sprays  temp_avg  hum_avg  dew_point_avg  \\\n",
       "0          270                16     74.99     22.5          32.45   \n",
       "912         14                 7     78.42    21.75          35.66   \n",
       "\n",
       "     uv_index_avg  temp_feels_like_avg  atm_pressure_avg  clouds_avg  \\\n",
       "0             6.4                69.75           1014.62       42.25   \n",
       "912          6.39                72.09           1014.25       61.62   \n",
       "\n",
       "     visibility_avg  ...  fragrance_type_Eau de Toilette  brand_Brut  \\\n",
       "0             60000  ...                               1           0   \n",
       "912           60000  ...                               1           1   \n",
       "\n",
       "     brand_Versace  brand_tier_High-End  brand_tier_Low-End  \\\n",
       "0                1                    1                   0   \n",
       "912              0                    0                   1   \n",
       "\n",
       "     bo_location_country_France  bo_location_country_Italy  \\\n",
       "0                             0                          1   \n",
       "912                           1                          0   \n",
       "\n",
       "     apply_time_weekday_name_Thursday  fp_id_12  fp_id_13  \n",
       "0                                   1         0         1  \n",
       "912                                 1         1         0  \n",
       "\n",
       "[2 rows x 47 columns]"
      ]
     },
     "execution_count": 333,
     "metadata": {},
     "output_type": "execute_result"
    }
   ],
   "source": [
    "df.head()"
   ]
  },
  {
   "cell_type": "code",
   "execution_count": 334,
   "metadata": {},
   "outputs": [],
   "source": [
    "# Use this and fix this\n",
    "# aggregation_functions = {'longevity': 'first', 'amount': 'sum', 'name': 'first'}\n",
    "# df_new = df.groupby(df['ufr_id']).aggregate(aggregation_functions)\n",
    "# df_new.head()"
   ]
  },
  {
   "cell_type": "code",
   "execution_count": 335,
   "metadata": {},
   "outputs": [
    {
     "data": {
      "text/plain": [
       "(2, 47)"
      ]
     },
     "execution_count": 335,
     "metadata": {},
     "output_type": "execute_result"
    }
   ],
   "source": [
    "df.drop_duplicates(subset=None, keep=\"first\", inplace=True)\n",
    "df.shape"
   ]
  },
  {
   "cell_type": "code",
   "execution_count": 336,
   "metadata": {},
   "outputs": [
    {
     "data": {
      "text/plain": [
       "[]"
      ]
     },
     "execution_count": 336,
     "metadata": {},
     "output_type": "execute_result"
    }
   ],
   "source": [
    "# Columns with any null values\n",
    "df.columns[df.isna().any()].tolist()"
   ]
  },
  {
   "cell_type": "code",
   "execution_count": 337,
   "metadata": {},
   "outputs": [
    {
     "data": {
      "text/html": [
       "<div>\n",
       "<style scoped>\n",
       "    .dataframe tbody tr th:only-of-type {\n",
       "        vertical-align: middle;\n",
       "    }\n",
       "\n",
       "    .dataframe tbody tr th {\n",
       "        vertical-align: top;\n",
       "    }\n",
       "\n",
       "    .dataframe thead th {\n",
       "        text-align: right;\n",
       "    }\n",
       "</style>\n",
       "<table border=\"1\" class=\"dataframe\">\n",
       "  <thead>\n",
       "    <tr style=\"text-align: right;\">\n",
       "      <th></th>\n",
       "      <th>longevity</th>\n",
       "      <th>number_of_sprays</th>\n",
       "      <th>temp_avg</th>\n",
       "      <th>hum_avg</th>\n",
       "      <th>dew_point_avg</th>\n",
       "      <th>uv_index_avg</th>\n",
       "      <th>temp_feels_like_avg</th>\n",
       "      <th>atm_pressure_avg</th>\n",
       "      <th>clouds_avg</th>\n",
       "      <th>visibility_avg</th>\n",
       "      <th>...</th>\n",
       "      <th>fragrance_type_Eau de Toilette</th>\n",
       "      <th>brand_Brut</th>\n",
       "      <th>brand_Versace</th>\n",
       "      <th>brand_tier_High-End</th>\n",
       "      <th>brand_tier_Low-End</th>\n",
       "      <th>bo_location_country_France</th>\n",
       "      <th>bo_location_country_Italy</th>\n",
       "      <th>apply_time_weekday_name_Thursday</th>\n",
       "      <th>fp_id_12</th>\n",
       "      <th>fp_id_13</th>\n",
       "    </tr>\n",
       "  </thead>\n",
       "  <tbody>\n",
       "    <tr>\n",
       "      <th>0</th>\n",
       "      <td>270</td>\n",
       "      <td>16</td>\n",
       "      <td>74.99</td>\n",
       "      <td>22.5</td>\n",
       "      <td>32.45</td>\n",
       "      <td>6.4</td>\n",
       "      <td>69.75</td>\n",
       "      <td>1014.62</td>\n",
       "      <td>42.25</td>\n",
       "      <td>60000</td>\n",
       "      <td>...</td>\n",
       "      <td>1</td>\n",
       "      <td>0</td>\n",
       "      <td>1</td>\n",
       "      <td>1</td>\n",
       "      <td>0</td>\n",
       "      <td>0</td>\n",
       "      <td>1</td>\n",
       "      <td>1</td>\n",
       "      <td>0</td>\n",
       "      <td>1</td>\n",
       "    </tr>\n",
       "    <tr>\n",
       "      <th>1</th>\n",
       "      <td>14</td>\n",
       "      <td>7</td>\n",
       "      <td>78.42</td>\n",
       "      <td>21.75</td>\n",
       "      <td>35.66</td>\n",
       "      <td>6.39</td>\n",
       "      <td>72.09</td>\n",
       "      <td>1014.25</td>\n",
       "      <td>61.62</td>\n",
       "      <td>60000</td>\n",
       "      <td>...</td>\n",
       "      <td>1</td>\n",
       "      <td>1</td>\n",
       "      <td>0</td>\n",
       "      <td>0</td>\n",
       "      <td>1</td>\n",
       "      <td>1</td>\n",
       "      <td>0</td>\n",
       "      <td>1</td>\n",
       "      <td>1</td>\n",
       "      <td>0</td>\n",
       "    </tr>\n",
       "  </tbody>\n",
       "</table>\n",
       "<p>2 rows × 47 columns</p>\n",
       "</div>"
      ],
      "text/plain": [
       "   longevity  number_of_sprays  temp_avg  hum_avg  dew_point_avg  \\\n",
       "0        270                16     74.99     22.5          32.45   \n",
       "1         14                 7     78.42    21.75          35.66   \n",
       "\n",
       "   uv_index_avg  temp_feels_like_avg  atm_pressure_avg  clouds_avg  \\\n",
       "0           6.4                69.75           1014.62       42.25   \n",
       "1          6.39                72.09           1014.25       61.62   \n",
       "\n",
       "   visibility_avg  ...  fragrance_type_Eau de Toilette  brand_Brut  \\\n",
       "0           60000  ...                               1           0   \n",
       "1           60000  ...                               1           1   \n",
       "\n",
       "   brand_Versace  brand_tier_High-End  brand_tier_Low-End  \\\n",
       "0              1                    1                   0   \n",
       "1              0                    0                   1   \n",
       "\n",
       "   bo_location_country_France  bo_location_country_Italy  \\\n",
       "0                           0                          1   \n",
       "1                           1                          0   \n",
       "\n",
       "   apply_time_weekday_name_Thursday  fp_id_12  fp_id_13  \n",
       "0                                 1         0         1  \n",
       "1                                 1         1         0  \n",
       "\n",
       "[2 rows x 47 columns]"
      ]
     },
     "execution_count": 337,
     "metadata": {},
     "output_type": "execute_result"
    }
   ],
   "source": [
    "df.reset_index(drop=True, inplace=True)\n",
    "df.head()"
   ]
  },
  {
   "cell_type": "code",
   "execution_count": 338,
   "metadata": {},
   "outputs": [],
   "source": [
    "# df.describe()"
   ]
  },
  {
   "cell_type": "markdown",
   "metadata": {},
   "source": [
    "#### Saving columns to compare in prediction"
   ]
  },
  {
   "cell_type": "code",
   "execution_count": 339,
   "metadata": {},
   "outputs": [],
   "source": [
    "with open('longevity_column_names_check.pickle', 'wb') as f:\n",
    "    pickle.dump(df[df.columns.difference(['longevity'])].columns, f)"
   ]
  },
  {
   "cell_type": "code",
   "execution_count": 340,
   "metadata": {},
   "outputs": [],
   "source": [
    "copy_df = df"
   ]
  },
  {
   "cell_type": "code",
   "execution_count": 341,
   "metadata": {},
   "outputs": [],
   "source": [
    "df = copy_df"
   ]
  },
  {
   "cell_type": "markdown",
   "metadata": {},
   "source": [
    "# Model"
   ]
  },
  {
   "cell_type": "markdown",
   "metadata": {},
   "source": [
    "## Train"
   ]
  },
  {
   "cell_type": "code",
   "execution_count": 342,
   "metadata": {},
   "outputs": [
    {
     "name": "stdout",
     "output_type": "stream",
     "text": [
      "(1, 46) (1,)\n",
      "(1, 46) (1,)\n"
     ]
    }
   ],
   "source": [
    "# define the target variable (dependent variable) as y\n",
    "y = df.longevity\n",
    "y = y.astype('float64')\n",
    "\n",
    "df.drop('longevity', axis=1, inplace=True)\n",
    "\n",
    "# create training and testing vars\n",
    "X_train, X_test, y_train, y_test = train_test_split(df, y, test_size=0.2)\n",
    "print (X_train.shape, y_train.shape)\n",
    "print (X_test.shape, y_test.shape)"
   ]
  },
  {
   "cell_type": "code",
   "execution_count": 343,
   "metadata": {},
   "outputs": [],
   "source": [
    "# Create Decision Tree classifer object\n",
    "# clf = DecisionTreeRegressor(random_state = 0, criterion='mse')\n",
    "\n",
    "log_reg = LogisticRegression()"
   ]
  },
  {
   "cell_type": "code",
   "execution_count": 298,
   "metadata": {},
   "outputs": [
    {
     "ename": "ValueError",
     "evalue": "This solver needs samples of at least 2 classes in the data, but the data contains only one class: 11.0",
     "output_type": "error",
     "traceback": [
      "\u001b[1;31m---------------------------------------------------------------------------\u001b[0m",
      "\u001b[1;31mValueError\u001b[0m                                Traceback (most recent call last)",
      "\u001b[1;32m<ipython-input-298-075ee1558338>\u001b[0m in \u001b[0;36m<module>\u001b[1;34m\u001b[0m\n\u001b[0;32m      2\u001b[0m \u001b[1;31m# model = clf.fit(X_train, y_train)\u001b[0m\u001b[1;33m\u001b[0m\u001b[1;33m\u001b[0m\u001b[1;33m\u001b[0m\u001b[0m\n\u001b[0;32m      3\u001b[0m \u001b[1;33m\u001b[0m\u001b[0m\n\u001b[1;32m----> 4\u001b[1;33m \u001b[0mmodel\u001b[0m \u001b[1;33m=\u001b[0m \u001b[0mlog_reg\u001b[0m\u001b[1;33m.\u001b[0m\u001b[0mfit\u001b[0m\u001b[1;33m(\u001b[0m\u001b[0mX_train\u001b[0m\u001b[1;33m,\u001b[0m \u001b[0my_train\u001b[0m\u001b[1;33m)\u001b[0m\u001b[1;33m\u001b[0m\u001b[1;33m\u001b[0m\u001b[0m\n\u001b[0m",
      "\u001b[1;32mC:\\Anaconda3\\lib\\site-packages\\sklearn\\linear_model\\_logistic.py\u001b[0m in \u001b[0;36mfit\u001b[1;34m(self, X, y, sample_weight)\u001b[0m\n\u001b[0;32m   1372\u001b[0m         \u001b[0mclasses_\u001b[0m \u001b[1;33m=\u001b[0m \u001b[0mself\u001b[0m\u001b[1;33m.\u001b[0m\u001b[0mclasses_\u001b[0m\u001b[1;33m\u001b[0m\u001b[1;33m\u001b[0m\u001b[0m\n\u001b[0;32m   1373\u001b[0m         \u001b[1;32mif\u001b[0m \u001b[0mn_classes\u001b[0m \u001b[1;33m<\u001b[0m \u001b[1;36m2\u001b[0m\u001b[1;33m:\u001b[0m\u001b[1;33m\u001b[0m\u001b[1;33m\u001b[0m\u001b[0m\n\u001b[1;32m-> 1374\u001b[1;33m             raise ValueError(\"This solver needs samples of at least 2 classes\"\n\u001b[0m\u001b[0;32m   1375\u001b[0m                              \u001b[1;34m\" in the data, but the data contains only one\"\u001b[0m\u001b[1;33m\u001b[0m\u001b[1;33m\u001b[0m\u001b[0m\n\u001b[0;32m   1376\u001b[0m                              \" class: %r\" % classes_[0])\n",
      "\u001b[1;31mValueError\u001b[0m: This solver needs samples of at least 2 classes in the data, but the data contains only one class: 11.0"
     ]
    }
   ],
   "source": [
    "# Train Decision Tree Classifer\n",
    "# model = clf.fit(X_train, y_train)\n",
    "\n",
    "model = log_reg.fit(X_train, y_train)"
   ]
  },
  {
   "cell_type": "markdown",
   "metadata": {},
   "source": [
    "## Test"
   ]
  },
  {
   "cell_type": "code",
   "execution_count": null,
   "metadata": {},
   "outputs": [],
   "source": [
    "#Predict the response for test dataset\n",
    "y_pred = model.predict(X_test)"
   ]
  },
  {
   "cell_type": "code",
   "execution_count": null,
   "metadata": {},
   "outputs": [],
   "source": [
    "y_pred"
   ]
  },
  {
   "cell_type": "code",
   "execution_count": null,
   "metadata": {},
   "outputs": [],
   "source": [
    "# X_test.dtypes"
   ]
  },
  {
   "cell_type": "code",
   "execution_count": null,
   "metadata": {},
   "outputs": [],
   "source": [
    "# Test\n",
    "# y_pred = lm.predict(X_test)\n",
    "# from sklearn.model_selection import cross_val_predict\n",
    "# predicted = cross_val_predict(lm, df_long, y, cv=10)\n",
    "\n",
    "# fig, ax = plt.subplots()\n",
    "# ax.scatter(y, predicted)\n",
    "# ax.plot([y.min(), y.max()], [y.min(), y.max()], 'k--', lw=4)\n",
    "# ax.set_xlabel('Measured')\n",
    "# ax.set_ylabel('Predicted')\n",
    "# plt.show()"
   ]
  },
  {
   "cell_type": "markdown",
   "metadata": {},
   "source": [
    "## Evaluate"
   ]
  },
  {
   "cell_type": "code",
   "execution_count": null,
   "metadata": {},
   "outputs": [],
   "source": [
    "## The line / model\n",
    "plt.scatter(y_test, y_pred)\n",
    "plt.xlabel(\"True Values\")\n",
    "plt.ylabel(\"Predictions\")"
   ]
  },
  {
   "cell_type": "code",
   "execution_count": null,
   "metadata": {},
   "outputs": [],
   "source": [
    "# The coefficients\n",
    "# print('Coefficients: \\n', model.coef_)\n",
    "# The mean squared error\n",
    "# print('Mean squared error: %.2f'\n",
    "#       % metrics.mean_squared_error(y_test, y_pred))\n",
    "# # The coefficient of determination: 1 is perfect prediction\n",
    "# print('Coefficient of determination: %.2f'\n",
    "#       % metrics.r2_score(y_test, y_pred))\n",
    "\n",
    "# Plot outputs\n",
    "# plt.scatter(X_test, y_test,  color='black')\n",
    "# plt.plot(X_test, y_pred, color='blue', linewidth=3)\n",
    "\n",
    "# plt.xticks(())\n",
    "# plt.yticks(())\n",
    "\n",
    "# plt.show()"
   ]
  },
  {
   "cell_type": "code",
   "execution_count": null,
   "metadata": {},
   "outputs": [],
   "source": [
    "print('Mean Absolute Error:', metrics.mean_absolute_error(y_test, y_pred))\n",
    "print('Mean Squared Error:', metrics.mean_squared_error(y_test, y_pred))\n",
    "print('Root Mean Squared Error:', np.sqrt(metrics.mean_squared_error(y_test, y_pred)))"
   ]
  },
  {
   "cell_type": "markdown",
   "metadata": {},
   "source": [
    "### Fit over the full dataset"
   ]
  },
  {
   "cell_type": "code",
   "execution_count": 344,
   "metadata": {},
   "outputs": [],
   "source": [
    "# model = clf.fit(df, y)\n",
    "\n",
    "model = log_reg.fit(df, y)"
   ]
  },
  {
   "cell_type": "code",
   "execution_count": 345,
   "metadata": {},
   "outputs": [
    {
     "data": {
      "text/plain": [
       "array([270.,  14.])"
      ]
     },
     "execution_count": 345,
     "metadata": {},
     "output_type": "execute_result"
    }
   ],
   "source": [
    "model.predict(df)"
   ]
  },
  {
   "cell_type": "markdown",
   "metadata": {},
   "source": [
    "## Save the vars pickle for prediction"
   ]
  },
  {
   "cell_type": "markdown",
   "metadata": {},
   "source": [
    "### Model"
   ]
  },
  {
   "cell_type": "code",
   "execution_count": 346,
   "metadata": {},
   "outputs": [],
   "source": [
    "with open('longevity_model.pickle', 'wb') as f:\n",
    "    pickle.dump(model, f)"
   ]
  },
  {
   "cell_type": "code",
   "execution_count": 347,
   "metadata": {
    "scrolled": true
   },
   "outputs": [
    {
     "data": {
      "text/plain": [
       "LogisticRegression()"
      ]
     },
     "execution_count": 347,
     "metadata": {},
     "output_type": "execute_result"
    }
   ],
   "source": [
    "with open('longevity_model.pickle', 'rb') as f:\n",
    "    loaded_pickle = pickle.load(f)\n",
    "    \n",
    "loaded_pickle"
   ]
  },
  {
   "cell_type": "markdown",
   "metadata": {},
   "source": [
    "### Categorical Variables"
   ]
  },
  {
   "cell_type": "code",
   "execution_count": 366,
   "metadata": {},
   "outputs": [
    {
     "data": {
      "text/html": [
       "<div>\n",
       "<style scoped>\n",
       "    .dataframe tbody tr th:only-of-type {\n",
       "        vertical-align: middle;\n",
       "    }\n",
       "\n",
       "    .dataframe tbody tr th {\n",
       "        vertical-align: top;\n",
       "    }\n",
       "\n",
       "    .dataframe thead th {\n",
       "        text-align: right;\n",
       "    }\n",
       "</style>\n",
       "<table border=\"1\" class=\"dataframe\">\n",
       "  <thead>\n",
       "    <tr style=\"text-align: right;\">\n",
       "      <th></th>\n",
       "      <th>weather_main_Clear</th>\n",
       "      <th>weather_main_Rain</th>\n",
       "      <th>gender_Female</th>\n",
       "      <th>gender_Male</th>\n",
       "      <th>profession_Doctor</th>\n",
       "      <th>profession_Footballer</th>\n",
       "      <th>skin_type_Normal</th>\n",
       "      <th>skin_type_Very Oily</th>\n",
       "      <th>season_Summer</th>\n",
       "      <th>season_Winter</th>\n",
       "      <th>...</th>\n",
       "      <th>fragrance_type_Eau de Toilette</th>\n",
       "      <th>brand_Brut</th>\n",
       "      <th>brand_Versace</th>\n",
       "      <th>brand_tier_High-End</th>\n",
       "      <th>brand_tier_Low-End</th>\n",
       "      <th>bo_location_country_France</th>\n",
       "      <th>bo_location_country_Italy</th>\n",
       "      <th>apply_time_weekday_name_Thursday</th>\n",
       "      <th>fp_id_12</th>\n",
       "      <th>fp_id_13</th>\n",
       "    </tr>\n",
       "  </thead>\n",
       "  <tbody>\n",
       "  </tbody>\n",
       "</table>\n",
       "<p>0 rows × 25 columns</p>\n",
       "</div>"
      ],
      "text/plain": [
       "Empty DataFrame\n",
       "Columns: [weather_main_Clear, weather_main_Rain, gender_Female, gender_Male, profession_Doctor, profession_Footballer, skin_type_Normal, skin_type_Very Oily, season_Summer, season_Winter, fp_country_Pakistan, fragrance_Bright Crystal, fragrance_Parfums Prestige Paris 1965, fragrance_gender_Female, fragrance_gender_Male, fragrance_type_Eau de Toilette, brand_Brut, brand_Versace, brand_tier_High-End, brand_tier_Low-End, bo_location_country_France, bo_location_country_Italy, apply_time_weekday_name_Thursday, fp_id_12, fp_id_13]\n",
       "Index: []\n",
       "\n",
       "[0 rows x 25 columns]"
      ]
     },
     "execution_count": 366,
     "metadata": {},
     "output_type": "execute_result"
    }
   ],
   "source": [
    "with open('longevity_dummies.pickle', 'rb') as f:\n",
    "    train_dummies = pickle.load(f)\n",
    "\n",
    "# Categorical variables in a dataframe\n",
    "cat_df = pd.DataFrame()\n",
    "for column_name in train_dummies:\n",
    "    for dummy in train_dummies[column_name]:\n",
    "        cat_df[dummy] = 0\n",
    "        \n",
    "# Save in file\n",
    "with open('longevity_categorical_variables.pickle', 'wb') as f:\n",
    "    pickle.dump(cat_df, f)\n",
    "    \n",
    "cat_df"
   ]
  },
  {
   "cell_type": "markdown",
   "metadata": {},
   "source": [
    "# END"
   ]
  },
  {
   "cell_type": "code",
   "execution_count": null,
   "metadata": {},
   "outputs": [],
   "source": []
  }
 ],
 "metadata": {
  "kernelspec": {
   "display_name": "Python 3",
   "language": "python",
   "name": "python3"
  },
  "language_info": {
   "codemirror_mode": {
    "name": "ipython",
    "version": 3
   },
   "file_extension": ".py",
   "mimetype": "text/x-python",
   "name": "python",
   "nbconvert_exporter": "python",
   "pygments_lexer": "ipython3",
   "version": "3.8.8"
  }
 },
 "nbformat": 4,
 "nbformat_minor": 2
}
