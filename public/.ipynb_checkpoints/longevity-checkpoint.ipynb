{
 "cells": [
  {
   "cell_type": "markdown",
   "metadata": {},
   "source": [
    "## Extraction"
   ]
  },
  {
   "cell_type": "code",
   "execution_count": 1,
   "metadata": {},
   "outputs": [],
   "source": [
    "%matplotlib inline"
   ]
  },
  {
   "cell_type": "markdown",
   "metadata": {},
   "source": [
    "# Write column names"
   ]
  },
  {
   "cell_type": "code",
   "execution_count": 2,
   "metadata": {},
   "outputs": [],
   "source": [
    "def listToString(s): \n",
    "    \n",
    "    # initialize an empty string\n",
    "    str1 = \"\\n\" \n",
    "    \n",
    "    # return string  \n",
    "    return (str1.join(s))"
   ]
  },
  {
   "cell_type": "markdown",
   "metadata": {},
   "source": [
    "# Libraries Import"
   ]
  },
  {
   "cell_type": "code",
   "execution_count": 3,
   "metadata": {
    "tags": []
   },
   "outputs": [],
   "source": [
    "import numpy as np\n",
    "import pandas as pd\n",
    "# import xlrd\n",
    "# import matplotlib as mpl\n",
    "import matplotlib.pyplot as plt\n",
    "# import seaborn as sns\n",
    "from pandas.api.types import CategoricalDtype\n",
    "\n",
    "# For import export of model\n",
    "import pickle\n",
    "\n",
    "from sklearn.preprocessing import LabelEncoder\n",
    "from sklearn.model_selection import train_test_split\n",
    "\n",
    "from sklearn.tree import DecisionTreeRegressor\n",
    "from sklearn.ensemble import RandomForestClassifier\n",
    "from sklearn.linear_model import LogisticRegression\n",
    "\n",
    "from sklearn.tree import export_graphviz\n",
    "from sklearn import tree\n",
    "\n",
    "from sklearn import metrics\n",
    "\n",
    "import graphviz\n",
    "\n",
    "# print(plt.style.available)\n",
    "# mpl.style.use(['seaborn']) # optional: for ggplot-like style\n"
   ]
  },
  {
   "cell_type": "markdown",
   "metadata": {},
   "source": [
    "# Data Related"
   ]
  },
  {
   "cell_type": "markdown",
   "metadata": {},
   "source": [
    "## Data Import"
   ]
  },
  {
   "cell_type": "code",
   "execution_count": 4,
   "metadata": {},
   "outputs": [],
   "source": [
    "datastore = pd.read_csv('D:\\\\OneDrive - Institute of Business Administration\\\\Work\\\\Duft Und Du\\\\user_fragrance_review.csv', header=0)"
   ]
  },
  {
   "cell_type": "code",
   "execution_count": 5,
   "metadata": {},
   "outputs": [
    {
     "data": {
      "text/html": [
       "<div>\n",
       "<style scoped>\n",
       "    .dataframe tbody tr th:only-of-type {\n",
       "        vertical-align: middle;\n",
       "    }\n",
       "\n",
       "    .dataframe tbody tr th {\n",
       "        vertical-align: top;\n",
       "    }\n",
       "\n",
       "    .dataframe thead th {\n",
       "        text-align: right;\n",
       "    }\n",
       "</style>\n",
       "<table border=\"1\" class=\"dataframe\">\n",
       "  <thead>\n",
       "    <tr style=\"text-align: right;\">\n",
       "      <th></th>\n",
       "      <th>ufr_id</th>\n",
       "      <th>fba_country_name</th>\n",
       "      <th>fba_time_zone</th>\n",
       "      <th>longevity</th>\n",
       "      <th>suitability</th>\n",
       "      <th>sustainability</th>\n",
       "      <th>apply_time</th>\n",
       "      <th>wear_off_time</th>\n",
       "      <th>indoor_time_percentage</th>\n",
       "      <th>number_of_sprays</th>\n",
       "      <th>...</th>\n",
       "      <th>fragrance_discontinued</th>\n",
       "      <th>fragrance_type</th>\n",
       "      <th>brand_id</th>\n",
       "      <th>brand</th>\n",
       "      <th>brand_discontinued</th>\n",
       "      <th>brand_tier</th>\n",
       "      <th>bo_location_country</th>\n",
       "      <th>bo_location_zone</th>\n",
       "      <th>fba_location_country</th>\n",
       "      <th>fba_location_zone</th>\n",
       "    </tr>\n",
       "  </thead>\n",
       "  <tbody>\n",
       "    <tr>\n",
       "      <th>0</th>\n",
       "      <td>5</td>\n",
       "      <td>Pakistan</td>\n",
       "      <td>+05:00</td>\n",
       "      <td>14</td>\n",
       "      <td>NaN</td>\n",
       "      <td>0.7</td>\n",
       "      <td>2021-03-04 17:21:00</td>\n",
       "      <td>2021-03-04 17:35:00</td>\n",
       "      <td>80</td>\n",
       "      <td>7</td>\n",
       "      <td>...</td>\n",
       "      <td>NaN</td>\n",
       "      <td>Eau de Toilette</td>\n",
       "      <td>7</td>\n",
       "      <td>Brut</td>\n",
       "      <td>NaN</td>\n",
       "      <td>Low-End</td>\n",
       "      <td>France</td>\n",
       "      <td>+02:00</td>\n",
       "      <td>Pakistan</td>\n",
       "      <td>+05:00</td>\n",
       "    </tr>\n",
       "    <tr>\n",
       "      <th>1</th>\n",
       "      <td>5</td>\n",
       "      <td>India</td>\n",
       "      <td>+05:30</td>\n",
       "      <td>14</td>\n",
       "      <td>NaN</td>\n",
       "      <td>0.7</td>\n",
       "      <td>2021-03-04 17:21:00</td>\n",
       "      <td>2021-03-04 17:35:00</td>\n",
       "      <td>80</td>\n",
       "      <td>7</td>\n",
       "      <td>...</td>\n",
       "      <td>NaN</td>\n",
       "      <td>Eau de Toilette</td>\n",
       "      <td>7</td>\n",
       "      <td>Brut</td>\n",
       "      <td>NaN</td>\n",
       "      <td>Low-End</td>\n",
       "      <td>France</td>\n",
       "      <td>+02:00</td>\n",
       "      <td>India</td>\n",
       "      <td>+05:30</td>\n",
       "    </tr>\n",
       "    <tr>\n",
       "      <th>2</th>\n",
       "      <td>5</td>\n",
       "      <td>France</td>\n",
       "      <td>+02:00</td>\n",
       "      <td>14</td>\n",
       "      <td>NaN</td>\n",
       "      <td>0.7</td>\n",
       "      <td>2021-03-04 17:21:00</td>\n",
       "      <td>2021-03-04 17:35:00</td>\n",
       "      <td>80</td>\n",
       "      <td>7</td>\n",
       "      <td>...</td>\n",
       "      <td>NaN</td>\n",
       "      <td>Eau de Toilette</td>\n",
       "      <td>7</td>\n",
       "      <td>Brut</td>\n",
       "      <td>NaN</td>\n",
       "      <td>Low-End</td>\n",
       "      <td>France</td>\n",
       "      <td>+02:00</td>\n",
       "      <td>France</td>\n",
       "      <td>+02:00</td>\n",
       "    </tr>\n",
       "    <tr>\n",
       "      <th>3</th>\n",
       "      <td>5</td>\n",
       "      <td>United Arab Emirates</td>\n",
       "      <td>+04:00</td>\n",
       "      <td>14</td>\n",
       "      <td>NaN</td>\n",
       "      <td>0.7</td>\n",
       "      <td>2021-03-04 17:21:00</td>\n",
       "      <td>2021-03-04 17:35:00</td>\n",
       "      <td>80</td>\n",
       "      <td>7</td>\n",
       "      <td>...</td>\n",
       "      <td>NaN</td>\n",
       "      <td>Eau de Toilette</td>\n",
       "      <td>7</td>\n",
       "      <td>Brut</td>\n",
       "      <td>NaN</td>\n",
       "      <td>Low-End</td>\n",
       "      <td>France</td>\n",
       "      <td>+02:00</td>\n",
       "      <td>United Arab Emirates</td>\n",
       "      <td>+04:00</td>\n",
       "    </tr>\n",
       "    <tr>\n",
       "      <th>4</th>\n",
       "      <td>6</td>\n",
       "      <td>France</td>\n",
       "      <td>+02:00</td>\n",
       "      <td>132</td>\n",
       "      <td>NaN</td>\n",
       "      <td>13.2</td>\n",
       "      <td>2021-03-24 14:10:00</td>\n",
       "      <td>2021-03-24 16:22:00</td>\n",
       "      <td>90</td>\n",
       "      <td>1</td>\n",
       "      <td>...</td>\n",
       "      <td>NaN</td>\n",
       "      <td>Eau de Toilette</td>\n",
       "      <td>10</td>\n",
       "      <td>Lacoste</td>\n",
       "      <td>NaN</td>\n",
       "      <td>Mid</td>\n",
       "      <td>France</td>\n",
       "      <td>+02:00</td>\n",
       "      <td>France</td>\n",
       "      <td>+02:00</td>\n",
       "    </tr>\n",
       "    <tr>\n",
       "      <th>...</th>\n",
       "      <td>...</td>\n",
       "      <td>...</td>\n",
       "      <td>...</td>\n",
       "      <td>...</td>\n",
       "      <td>...</td>\n",
       "      <td>...</td>\n",
       "      <td>...</td>\n",
       "      <td>...</td>\n",
       "      <td>...</td>\n",
       "      <td>...</td>\n",
       "      <td>...</td>\n",
       "      <td>...</td>\n",
       "      <td>...</td>\n",
       "      <td>...</td>\n",
       "      <td>...</td>\n",
       "      <td>...</td>\n",
       "      <td>...</td>\n",
       "      <td>...</td>\n",
       "      <td>...</td>\n",
       "      <td>...</td>\n",
       "      <td>...</td>\n",
       "    </tr>\n",
       "    <tr>\n",
       "      <th>88</th>\n",
       "      <td>15</td>\n",
       "      <td>Pakistan</td>\n",
       "      <td>+05:00</td>\n",
       "      <td>153</td>\n",
       "      <td>NaN</td>\n",
       "      <td>153.0</td>\n",
       "      <td>2021-05-10 02:02:00</td>\n",
       "      <td>2021-05-10 04:35:00</td>\n",
       "      <td>100</td>\n",
       "      <td>1</td>\n",
       "      <td>...</td>\n",
       "      <td>NaN</td>\n",
       "      <td>Eau de Parfum</td>\n",
       "      <td>8</td>\n",
       "      <td>Bvlgari</td>\n",
       "      <td>NaN</td>\n",
       "      <td>High-End</td>\n",
       "      <td>Italy</td>\n",
       "      <td>+02:00</td>\n",
       "      <td>Pakistan</td>\n",
       "      <td>+05:00</td>\n",
       "    </tr>\n",
       "    <tr>\n",
       "      <th>89</th>\n",
       "      <td>15</td>\n",
       "      <td>United Arab Emirates</td>\n",
       "      <td>+04:00</td>\n",
       "      <td>153</td>\n",
       "      <td>NaN</td>\n",
       "      <td>153.0</td>\n",
       "      <td>2021-05-10 02:02:00</td>\n",
       "      <td>2021-05-10 04:35:00</td>\n",
       "      <td>100</td>\n",
       "      <td>1</td>\n",
       "      <td>...</td>\n",
       "      <td>NaN</td>\n",
       "      <td>Eau de Parfum</td>\n",
       "      <td>8</td>\n",
       "      <td>Bvlgari</td>\n",
       "      <td>NaN</td>\n",
       "      <td>High-End</td>\n",
       "      <td>Italy</td>\n",
       "      <td>+02:00</td>\n",
       "      <td>United Arab Emirates</td>\n",
       "      <td>+04:00</td>\n",
       "    </tr>\n",
       "    <tr>\n",
       "      <th>90</th>\n",
       "      <td>15</td>\n",
       "      <td>India</td>\n",
       "      <td>+05:30</td>\n",
       "      <td>153</td>\n",
       "      <td>NaN</td>\n",
       "      <td>153.0</td>\n",
       "      <td>2021-05-10 02:02:00</td>\n",
       "      <td>2021-05-10 04:35:00</td>\n",
       "      <td>100</td>\n",
       "      <td>1</td>\n",
       "      <td>...</td>\n",
       "      <td>NaN</td>\n",
       "      <td>Eau de Parfum</td>\n",
       "      <td>8</td>\n",
       "      <td>Bvlgari</td>\n",
       "      <td>NaN</td>\n",
       "      <td>High-End</td>\n",
       "      <td>Italy</td>\n",
       "      <td>+02:00</td>\n",
       "      <td>India</td>\n",
       "      <td>+05:30</td>\n",
       "    </tr>\n",
       "    <tr>\n",
       "      <th>91</th>\n",
       "      <td>15</td>\n",
       "      <td>Italy</td>\n",
       "      <td>+02:00</td>\n",
       "      <td>153</td>\n",
       "      <td>NaN</td>\n",
       "      <td>153.0</td>\n",
       "      <td>2021-05-10 02:02:00</td>\n",
       "      <td>2021-05-10 04:35:00</td>\n",
       "      <td>100</td>\n",
       "      <td>1</td>\n",
       "      <td>...</td>\n",
       "      <td>NaN</td>\n",
       "      <td>Eau de Parfum</td>\n",
       "      <td>8</td>\n",
       "      <td>Bvlgari</td>\n",
       "      <td>NaN</td>\n",
       "      <td>High-End</td>\n",
       "      <td>Italy</td>\n",
       "      <td>+02:00</td>\n",
       "      <td>Italy</td>\n",
       "      <td>+02:00</td>\n",
       "    </tr>\n",
       "    <tr>\n",
       "      <th>92</th>\n",
       "      <td>15</td>\n",
       "      <td>United States of America</td>\n",
       "      <td>-07:00</td>\n",
       "      <td>153</td>\n",
       "      <td>NaN</td>\n",
       "      <td>153.0</td>\n",
       "      <td>2021-05-10 02:02:00</td>\n",
       "      <td>2021-05-10 04:35:00</td>\n",
       "      <td>100</td>\n",
       "      <td>1</td>\n",
       "      <td>...</td>\n",
       "      <td>NaN</td>\n",
       "      <td>Eau de Parfum</td>\n",
       "      <td>8</td>\n",
       "      <td>Bvlgari</td>\n",
       "      <td>NaN</td>\n",
       "      <td>High-End</td>\n",
       "      <td>Italy</td>\n",
       "      <td>+02:00</td>\n",
       "      <td>United States of America</td>\n",
       "      <td>-07:00</td>\n",
       "    </tr>\n",
       "  </tbody>\n",
       "</table>\n",
       "<p>93 rows × 53 columns</p>\n",
       "</div>"
      ],
      "text/plain": [
       "    ufr_id          fba_country_name fba_time_zone  longevity  suitability  \\\n",
       "0        5                  Pakistan        +05:00         14          NaN   \n",
       "1        5                     India        +05:30         14          NaN   \n",
       "2        5                    France        +02:00         14          NaN   \n",
       "3        5      United Arab Emirates        +04:00         14          NaN   \n",
       "4        6                    France        +02:00        132          NaN   \n",
       "..     ...                       ...           ...        ...          ...   \n",
       "88      15                  Pakistan        +05:00        153          NaN   \n",
       "89      15      United Arab Emirates        +04:00        153          NaN   \n",
       "90      15                     India        +05:30        153          NaN   \n",
       "91      15                     Italy        +02:00        153          NaN   \n",
       "92      15  United States of America        -07:00        153          NaN   \n",
       "\n",
       "    sustainability           apply_time        wear_off_time  \\\n",
       "0              0.7  2021-03-04 17:21:00  2021-03-04 17:35:00   \n",
       "1              0.7  2021-03-04 17:21:00  2021-03-04 17:35:00   \n",
       "2              0.7  2021-03-04 17:21:00  2021-03-04 17:35:00   \n",
       "3              0.7  2021-03-04 17:21:00  2021-03-04 17:35:00   \n",
       "4             13.2  2021-03-24 14:10:00  2021-03-24 16:22:00   \n",
       "..             ...                  ...                  ...   \n",
       "88           153.0  2021-05-10 02:02:00  2021-05-10 04:35:00   \n",
       "89           153.0  2021-05-10 02:02:00  2021-05-10 04:35:00   \n",
       "90           153.0  2021-05-10 02:02:00  2021-05-10 04:35:00   \n",
       "91           153.0  2021-05-10 02:02:00  2021-05-10 04:35:00   \n",
       "92           153.0  2021-05-10 02:02:00  2021-05-10 04:35:00   \n",
       "\n",
       "    indoor_time_percentage  number_of_sprays  ...  fragrance_discontinued  \\\n",
       "0                       80                 7  ...                     NaN   \n",
       "1                       80                 7  ...                     NaN   \n",
       "2                       80                 7  ...                     NaN   \n",
       "3                       80                 7  ...                     NaN   \n",
       "4                       90                 1  ...                     NaN   \n",
       "..                     ...               ...  ...                     ...   \n",
       "88                     100                 1  ...                     NaN   \n",
       "89                     100                 1  ...                     NaN   \n",
       "90                     100                 1  ...                     NaN   \n",
       "91                     100                 1  ...                     NaN   \n",
       "92                     100                 1  ...                     NaN   \n",
       "\n",
       "     fragrance_type  brand_id    brand  brand_discontinued  brand_tier  \\\n",
       "0   Eau de Toilette         7     Brut                 NaN     Low-End   \n",
       "1   Eau de Toilette         7     Brut                 NaN     Low-End   \n",
       "2   Eau de Toilette         7     Brut                 NaN     Low-End   \n",
       "3   Eau de Toilette         7     Brut                 NaN     Low-End   \n",
       "4   Eau de Toilette        10  Lacoste                 NaN         Mid   \n",
       "..              ...       ...      ...                 ...         ...   \n",
       "88    Eau de Parfum         8  Bvlgari                 NaN    High-End   \n",
       "89    Eau de Parfum         8  Bvlgari                 NaN    High-End   \n",
       "90    Eau de Parfum         8  Bvlgari                 NaN    High-End   \n",
       "91    Eau de Parfum         8  Bvlgari                 NaN    High-End   \n",
       "92    Eau de Parfum         8  Bvlgari                 NaN    High-End   \n",
       "\n",
       "    bo_location_country  bo_location_zone      fba_location_country  \\\n",
       "0                France            +02:00                  Pakistan   \n",
       "1                France            +02:00                     India   \n",
       "2                France            +02:00                    France   \n",
       "3                France            +02:00      United Arab Emirates   \n",
       "4                France            +02:00                    France   \n",
       "..                  ...               ...                       ...   \n",
       "88                Italy            +02:00                  Pakistan   \n",
       "89                Italy            +02:00      United Arab Emirates   \n",
       "90                Italy            +02:00                     India   \n",
       "91                Italy            +02:00                     Italy   \n",
       "92                Italy            +02:00  United States of America   \n",
       "\n",
       "    fba_location_zone  \n",
       "0              +05:00  \n",
       "1              +05:30  \n",
       "2              +02:00  \n",
       "3              +04:00  \n",
       "4              +02:00  \n",
       "..                ...  \n",
       "88             +05:00  \n",
       "89             +04:00  \n",
       "90             +05:30  \n",
       "91             +02:00  \n",
       "92             -07:00  \n",
       "\n",
       "[93 rows x 53 columns]"
      ]
     },
     "execution_count": 5,
     "metadata": {},
     "output_type": "execute_result"
    }
   ],
   "source": [
    "df = pd.DataFrame(data=datastore)\n",
    "df"
   ]
  },
  {
   "cell_type": "code",
   "execution_count": 6,
   "metadata": {},
   "outputs": [
    {
     "data": {
      "text/html": [
       "<div>\n",
       "<style scoped>\n",
       "    .dataframe tbody tr th:only-of-type {\n",
       "        vertical-align: middle;\n",
       "    }\n",
       "\n",
       "    .dataframe tbody tr th {\n",
       "        vertical-align: top;\n",
       "    }\n",
       "\n",
       "    .dataframe thead th {\n",
       "        text-align: right;\n",
       "    }\n",
       "</style>\n",
       "<table border=\"1\" class=\"dataframe\">\n",
       "  <thead>\n",
       "    <tr style=\"text-align: right;\">\n",
       "      <th></th>\n",
       "      <th>ufr_id</th>\n",
       "      <th>fba_country_name</th>\n",
       "      <th>fba_time_zone</th>\n",
       "      <th>longevity</th>\n",
       "      <th>suitability</th>\n",
       "      <th>sustainability</th>\n",
       "      <th>apply_time</th>\n",
       "      <th>wear_off_time</th>\n",
       "      <th>indoor_time_percentage</th>\n",
       "      <th>number_of_sprays</th>\n",
       "      <th>...</th>\n",
       "      <th>fragrance_discontinued</th>\n",
       "      <th>fragrance_type</th>\n",
       "      <th>brand_id</th>\n",
       "      <th>brand</th>\n",
       "      <th>brand_discontinued</th>\n",
       "      <th>brand_tier</th>\n",
       "      <th>bo_location_country</th>\n",
       "      <th>bo_location_zone</th>\n",
       "      <th>fba_location_country</th>\n",
       "      <th>fba_location_zone</th>\n",
       "    </tr>\n",
       "  </thead>\n",
       "  <tbody>\n",
       "    <tr>\n",
       "      <th>0</th>\n",
       "      <td>5</td>\n",
       "      <td>Pakistan</td>\n",
       "      <td>+05:00</td>\n",
       "      <td>14</td>\n",
       "      <td>NaN</td>\n",
       "      <td>0.7</td>\n",
       "      <td>2021-03-04 17:21:00</td>\n",
       "      <td>2021-03-04 17:35:00</td>\n",
       "      <td>80</td>\n",
       "      <td>7</td>\n",
       "      <td>...</td>\n",
       "      <td>NaN</td>\n",
       "      <td>Eau de Toilette</td>\n",
       "      <td>7</td>\n",
       "      <td>Brut</td>\n",
       "      <td>NaN</td>\n",
       "      <td>Low-End</td>\n",
       "      <td>France</td>\n",
       "      <td>+02:00</td>\n",
       "      <td>Pakistan</td>\n",
       "      <td>+05:00</td>\n",
       "    </tr>\n",
       "    <tr>\n",
       "      <th>1</th>\n",
       "      <td>5</td>\n",
       "      <td>India</td>\n",
       "      <td>+05:30</td>\n",
       "      <td>14</td>\n",
       "      <td>NaN</td>\n",
       "      <td>0.7</td>\n",
       "      <td>2021-03-04 17:21:00</td>\n",
       "      <td>2021-03-04 17:35:00</td>\n",
       "      <td>80</td>\n",
       "      <td>7</td>\n",
       "      <td>...</td>\n",
       "      <td>NaN</td>\n",
       "      <td>Eau de Toilette</td>\n",
       "      <td>7</td>\n",
       "      <td>Brut</td>\n",
       "      <td>NaN</td>\n",
       "      <td>Low-End</td>\n",
       "      <td>France</td>\n",
       "      <td>+02:00</td>\n",
       "      <td>India</td>\n",
       "      <td>+05:30</td>\n",
       "    </tr>\n",
       "    <tr>\n",
       "      <th>2</th>\n",
       "      <td>5</td>\n",
       "      <td>France</td>\n",
       "      <td>+02:00</td>\n",
       "      <td>14</td>\n",
       "      <td>NaN</td>\n",
       "      <td>0.7</td>\n",
       "      <td>2021-03-04 17:21:00</td>\n",
       "      <td>2021-03-04 17:35:00</td>\n",
       "      <td>80</td>\n",
       "      <td>7</td>\n",
       "      <td>...</td>\n",
       "      <td>NaN</td>\n",
       "      <td>Eau de Toilette</td>\n",
       "      <td>7</td>\n",
       "      <td>Brut</td>\n",
       "      <td>NaN</td>\n",
       "      <td>Low-End</td>\n",
       "      <td>France</td>\n",
       "      <td>+02:00</td>\n",
       "      <td>France</td>\n",
       "      <td>+02:00</td>\n",
       "    </tr>\n",
       "    <tr>\n",
       "      <th>3</th>\n",
       "      <td>5</td>\n",
       "      <td>United Arab Emirates</td>\n",
       "      <td>+04:00</td>\n",
       "      <td>14</td>\n",
       "      <td>NaN</td>\n",
       "      <td>0.7</td>\n",
       "      <td>2021-03-04 17:21:00</td>\n",
       "      <td>2021-03-04 17:35:00</td>\n",
       "      <td>80</td>\n",
       "      <td>7</td>\n",
       "      <td>...</td>\n",
       "      <td>NaN</td>\n",
       "      <td>Eau de Toilette</td>\n",
       "      <td>7</td>\n",
       "      <td>Brut</td>\n",
       "      <td>NaN</td>\n",
       "      <td>Low-End</td>\n",
       "      <td>France</td>\n",
       "      <td>+02:00</td>\n",
       "      <td>United Arab Emirates</td>\n",
       "      <td>+04:00</td>\n",
       "    </tr>\n",
       "    <tr>\n",
       "      <th>4</th>\n",
       "      <td>6</td>\n",
       "      <td>France</td>\n",
       "      <td>+02:00</td>\n",
       "      <td>132</td>\n",
       "      <td>NaN</td>\n",
       "      <td>13.2</td>\n",
       "      <td>2021-03-24 14:10:00</td>\n",
       "      <td>2021-03-24 16:22:00</td>\n",
       "      <td>90</td>\n",
       "      <td>1</td>\n",
       "      <td>...</td>\n",
       "      <td>NaN</td>\n",
       "      <td>Eau de Toilette</td>\n",
       "      <td>10</td>\n",
       "      <td>Lacoste</td>\n",
       "      <td>NaN</td>\n",
       "      <td>Mid</td>\n",
       "      <td>France</td>\n",
       "      <td>+02:00</td>\n",
       "      <td>France</td>\n",
       "      <td>+02:00</td>\n",
       "    </tr>\n",
       "  </tbody>\n",
       "</table>\n",
       "<p>5 rows × 53 columns</p>\n",
       "</div>"
      ],
      "text/plain": [
       "   ufr_id      fba_country_name fba_time_zone  longevity  suitability  \\\n",
       "0       5              Pakistan        +05:00         14          NaN   \n",
       "1       5                 India        +05:30         14          NaN   \n",
       "2       5                France        +02:00         14          NaN   \n",
       "3       5  United Arab Emirates        +04:00         14          NaN   \n",
       "4       6                France        +02:00        132          NaN   \n",
       "\n",
       "   sustainability           apply_time        wear_off_time  \\\n",
       "0             0.7  2021-03-04 17:21:00  2021-03-04 17:35:00   \n",
       "1             0.7  2021-03-04 17:21:00  2021-03-04 17:35:00   \n",
       "2             0.7  2021-03-04 17:21:00  2021-03-04 17:35:00   \n",
       "3             0.7  2021-03-04 17:21:00  2021-03-04 17:35:00   \n",
       "4            13.2  2021-03-24 14:10:00  2021-03-24 16:22:00   \n",
       "\n",
       "   indoor_time_percentage  number_of_sprays  ...  fragrance_discontinued  \\\n",
       "0                      80                 7  ...                     NaN   \n",
       "1                      80                 7  ...                     NaN   \n",
       "2                      80                 7  ...                     NaN   \n",
       "3                      80                 7  ...                     NaN   \n",
       "4                      90                 1  ...                     NaN   \n",
       "\n",
       "    fragrance_type  brand_id    brand  brand_discontinued  brand_tier  \\\n",
       "0  Eau de Toilette         7     Brut                 NaN     Low-End   \n",
       "1  Eau de Toilette         7     Brut                 NaN     Low-End   \n",
       "2  Eau de Toilette         7     Brut                 NaN     Low-End   \n",
       "3  Eau de Toilette         7     Brut                 NaN     Low-End   \n",
       "4  Eau de Toilette        10  Lacoste                 NaN         Mid   \n",
       "\n",
       "   bo_location_country  bo_location_zone  fba_location_country  \\\n",
       "0               France            +02:00              Pakistan   \n",
       "1               France            +02:00                 India   \n",
       "2               France            +02:00                France   \n",
       "3               France            +02:00  United Arab Emirates   \n",
       "4               France            +02:00                France   \n",
       "\n",
       "   fba_location_zone  \n",
       "0             +05:00  \n",
       "1             +05:30  \n",
       "2             +02:00  \n",
       "3             +04:00  \n",
       "4             +02:00  \n",
       "\n",
       "[5 rows x 53 columns]"
      ]
     },
     "execution_count": 6,
     "metadata": {},
     "output_type": "execute_result"
    }
   ],
   "source": [
    "df.head()"
   ]
  },
  {
   "cell_type": "code",
   "execution_count": 7,
   "metadata": {},
   "outputs": [],
   "source": [
    "# df.columns"
   ]
  },
  {
   "cell_type": "markdown",
   "metadata": {},
   "source": [
    "## Cleaning"
   ]
  },
  {
   "cell_type": "code",
   "execution_count": 8,
   "metadata": {},
   "outputs": [],
   "source": [
    "df.drop(columns=['ufr_id', 'fba_country_name', 'fba_time_zone', 'suitability', 'sustainability', 'sillage', 'like', 'users_id', 'user_check', 'fragrance_id', 'brand_id', 'fba_location_country', 'fba_location_zone', 'wear_off_time', 'indoor_time_percentage', 'projection', 'climate', 'fp_time_zone', 'fragrance_discontinued', 'brand_discontinued', 'bo_location_zone', 'weather_description'], inplace=True)\n",
    "# Not included in dataset yet\n",
    "# 'accord', 'ingredient',\n",
    "\n",
    "\n",
    "# Write column name to files\n",
    "with open(\"longevity_column_names_after_initial_drop.txt\", \"w\") as f:\n",
    "    f.write(listToString(df.columns))"
   ]
  },
  {
   "cell_type": "code",
   "execution_count": 9,
   "metadata": {},
   "outputs": [
    {
     "data": {
      "text/plain": [
       "(12, 31)"
      ]
     },
     "execution_count": 9,
     "metadata": {},
     "output_type": "execute_result"
    }
   ],
   "source": [
    "df.drop_duplicates(subset=None, keep=\"first\", inplace=True)\n",
    "df.shape"
   ]
  },
  {
   "cell_type": "code",
   "execution_count": 10,
   "metadata": {},
   "outputs": [
    {
     "data": {
      "text/plain": [
       "longevity               0\n",
       "apply_time              0\n",
       "number_of_sprays        0\n",
       "temp_avg                0\n",
       "hum_avg                 0\n",
       "dew_point_avg           0\n",
       "uv_index_avg            0\n",
       "temp_feels_like_avg     0\n",
       "atm_pressure_avg        0\n",
       "clouds_avg              0\n",
       "visibility_avg          0\n",
       "wind_speed_avg          0\n",
       "rain_avg                9\n",
       "snow_avg               12\n",
       "weather_main            0\n",
       "fp_id                   0\n",
       "gender                  0\n",
       "dob                     0\n",
       "sweat                   1\n",
       "height                  0\n",
       "weight                  0\n",
       "profession              0\n",
       "skin_type               0\n",
       "season                  0\n",
       "fp_country              0\n",
       "fragrance               0\n",
       "fragrance_gender        0\n",
       "fragrance_type          0\n",
       "brand                   0\n",
       "brand_tier              0\n",
       "bo_location_country     0\n",
       "dtype: int64"
      ]
     },
     "execution_count": 10,
     "metadata": {},
     "output_type": "execute_result"
    }
   ],
   "source": [
    "df.isnull().sum()"
   ]
  },
  {
   "cell_type": "code",
   "execution_count": 11,
   "metadata": {},
   "outputs": [],
   "source": [
    "# Missing Values\n",
    "# df['suitability'].fillna(df['suitability'].median(), inplace=True)\n",
    "# df['suitability'].fillna(int(df['suitability'].mean()), inplace=True)\n",
    "\n",
    "# df['suitability'].fillna(int(0), inplace=True)\n",
    "\n",
    "# df['projection'].fillna(int(0), inplace=True)\n",
    "df['rain_avg'].fillna(int(0), inplace=True)\n",
    "df['snow_avg'].fillna(int(0), inplace=True)\n",
    "\n",
    "# df['user_check'].fillna(int(0), inplace=True)\n",
    "\n",
    "\n",
    "df['sweat'].fillna(int(df['sweat'].mean()), inplace=True)\n",
    "\n",
    "\n",
    "# df['fragrance_discontinued'].fillna(int(0), inplace=True)\n",
    "# df['brand_discontinued'].fillna(int(0), inplace=True)\n"
   ]
  },
  {
   "cell_type": "code",
   "execution_count": 12,
   "metadata": {
    "scrolled": true
   },
   "outputs": [],
   "source": [
    "# df['skin_type']"
   ]
  },
  {
   "cell_type": "code",
   "execution_count": 13,
   "metadata": {},
   "outputs": [],
   "source": [
    "# # create the dummies on the training data\n",
    "# dummy_train = pd.get_dummies(df['skin_type'])\n",
    "# dummy_train"
   ]
  },
  {
   "cell_type": "code",
   "execution_count": 14,
   "metadata": {},
   "outputs": [],
   "source": [
    "# # create the dummies in the new (unseen data)\n",
    "# test_df = pd.DataFrame(data=['Very Oily', 'low', 'Normal'], columns=['skin_type'])\n",
    "# test_df['skin_type']"
   ]
  },
  {
   "cell_type": "code",
   "execution_count": 15,
   "metadata": {},
   "outputs": [],
   "source": [
    "# dummy_new = pd.get_dummies(test_df['skin_type'])\n",
    "# dummy_new"
   ]
  },
  {
   "cell_type": "code",
   "execution_count": 16,
   "metadata": {},
   "outputs": [],
   "source": [
    "# # re-index the new data to the columns of the training data, filling the missing values with 0\n",
    "# dummy_new.reindex(columns = dummy_train.columns, fill_value=0)\n",
    "# dummy_new"
   ]
  },
  {
   "cell_type": "code",
   "execution_count": null,
   "metadata": {},
   "outputs": [],
   "source": []
  },
  {
   "cell_type": "code",
   "execution_count": null,
   "metadata": {},
   "outputs": [],
   "source": []
  },
  {
   "cell_type": "code",
   "execution_count": 17,
   "metadata": {},
   "outputs": [],
   "source": [
    "# data['Temperature_encoded'] = data['Temperature'].map( {'low':0, 'medium':1, 'high':2})\n",
    "# data[['Temperature', 'Temperature_encoded']]"
   ]
  },
  {
   "cell_type": "code",
   "execution_count": null,
   "metadata": {},
   "outputs": [],
   "source": []
  },
  {
   "cell_type": "code",
   "execution_count": null,
   "metadata": {},
   "outputs": [],
   "source": []
  },
  {
   "cell_type": "code",
   "execution_count": null,
   "metadata": {},
   "outputs": [],
   "source": []
  },
  {
   "cell_type": "markdown",
   "metadata": {},
   "source": [
    "### Data Types"
   ]
  },
  {
   "cell_type": "code",
   "execution_count": 18,
   "metadata": {},
   "outputs": [
    {
     "data": {
      "text/plain": [
       "longevity                int64\n",
       "apply_time              object\n",
       "number_of_sprays         int64\n",
       "temp_avg               float64\n",
       "hum_avg                float64\n",
       "dew_point_avg          float64\n",
       "uv_index_avg           float64\n",
       "temp_feels_like_avg    float64\n",
       "atm_pressure_avg       float64\n",
       "clouds_avg             float64\n",
       "visibility_avg           int64\n",
       "wind_speed_avg         float64\n",
       "rain_avg               float64\n",
       "snow_avg               float64\n",
       "weather_main            object\n",
       "fp_id                    int64\n",
       "gender                  object\n",
       "dob                     object\n",
       "sweat                  float64\n",
       "height                   int64\n",
       "weight                   int64\n",
       "profession              object\n",
       "skin_type               object\n",
       "season                  object\n",
       "fp_country              object\n",
       "fragrance               object\n",
       "fragrance_gender        object\n",
       "fragrance_type          object\n",
       "brand                   object\n",
       "brand_tier              object\n",
       "bo_location_country     object\n",
       "dtype: object"
      ]
     },
     "execution_count": 18,
     "metadata": {},
     "output_type": "execute_result"
    }
   ],
   "source": [
    "df.dtypes"
   ]
  },
  {
   "cell_type": "code",
   "execution_count": 19,
   "metadata": {},
   "outputs": [],
   "source": [
    "\n",
    "# Datetime\n",
    "df['dob']               = df['dob'].astype('datetime64[ns]')\n",
    "df['apply_time']        = df['apply_time'].astype('datetime64[ns]')\n",
    "# df['wear_off_time']     = df['wear_off_time'].astype('datetime64[ns]')\n",
    "\n",
    "# Boolean\n",
    "# df['fragrance_discontinued']    = df['fragrance_discontinued'].astype('bool')\n",
    "# df['brand_discontinued']        = df['brand_discontinued'].astype('bool')\n"
   ]
  },
  {
   "cell_type": "markdown",
   "metadata": {},
   "source": [
    "### Adding new "
   ]
  },
  {
   "cell_type": "code",
   "execution_count": 20,
   "metadata": {},
   "outputs": [],
   "source": [
    "# Calcualting Age\n",
    "now = pd.to_datetime('now')\n",
    "df['age'] = (now - df['dob']).dt.total_seconds() / (60*60*24*365.25)\n",
    "\n",
    "# Type Cast\n",
    "df['age'] = df['age'].astype('float')\n",
    "\n",
    "# Drop dob\n",
    "df.drop(['dob'],axis=1, inplace=True)"
   ]
  },
  {
   "cell_type": "code",
   "execution_count": 21,
   "metadata": {},
   "outputs": [],
   "source": [
    "# Sorting out Dates\n",
    "\n",
    "# Apply Time\n",
    "df['apply_time_year']          = df['apply_time'].dt.year\n",
    "df['apply_time_month']         = df['apply_time'].dt.month\n",
    "df['apply_time_day']           = df['apply_time'].dt.day\n",
    "df['apply_time_hour']          = df['apply_time'].dt.hour\n",
    "df['apply_time_minute']        = df['apply_time'].dt.minute\n",
    "df['apply_time_weekday_name']  = df['apply_time'].dt.day_name()\n",
    "\n",
    "# Drop Apply Time & Wear Off Time\n",
    "df.drop(['apply_time'],axis=1, inplace=True)"
   ]
  },
  {
   "cell_type": "code",
   "execution_count": 22,
   "metadata": {},
   "outputs": [
    {
     "data": {
      "text/plain": [
       "longevity                    int64\n",
       "number_of_sprays             int64\n",
       "temp_avg                   float64\n",
       "hum_avg                    float64\n",
       "dew_point_avg              float64\n",
       "uv_index_avg               float64\n",
       "temp_feels_like_avg        float64\n",
       "atm_pressure_avg           float64\n",
       "clouds_avg                 float64\n",
       "visibility_avg               int64\n",
       "wind_speed_avg             float64\n",
       "rain_avg                   float64\n",
       "snow_avg                   float64\n",
       "weather_main                object\n",
       "fp_id                        int64\n",
       "gender                      object\n",
       "sweat                      float64\n",
       "height                       int64\n",
       "weight                       int64\n",
       "profession                  object\n",
       "skin_type                   object\n",
       "season                      object\n",
       "fp_country                  object\n",
       "fragrance                   object\n",
       "fragrance_gender            object\n",
       "fragrance_type              object\n",
       "brand                       object\n",
       "brand_tier                  object\n",
       "bo_location_country         object\n",
       "age                        float64\n",
       "apply_time_year              int64\n",
       "apply_time_month             int64\n",
       "apply_time_day               int64\n",
       "apply_time_hour              int64\n",
       "apply_time_minute            int64\n",
       "apply_time_weekday_name     object\n",
       "dtype: object"
      ]
     },
     "execution_count": 22,
     "metadata": {},
     "output_type": "execute_result"
    }
   ],
   "source": [
    "df.dtypes"
   ]
  },
  {
   "cell_type": "markdown",
   "metadata": {},
   "source": [
    "### Categorical Variables"
   ]
  },
  {
   "cell_type": "code",
   "execution_count": 23,
   "metadata": {},
   "outputs": [
    {
     "data": {
      "text/plain": [
       "array(['weather_main', 'gender', 'profession', 'skin_type', 'season',\n",
       "       'fp_country', 'fragrance', 'fragrance_gender', 'fragrance_type',\n",
       "       'brand', 'brand_tier', 'bo_location_country',\n",
       "       'apply_time_weekday_name'], dtype=object)"
      ]
     },
     "execution_count": 23,
     "metadata": {},
     "output_type": "execute_result"
    }
   ],
   "source": [
    "categorical_columns = df.select_dtypes(include=['object']).columns.values\n",
    "df = df.convert_dtypes()\n",
    "categorical_columns"
   ]
  },
  {
   "cell_type": "code",
   "execution_count": 24,
   "metadata": {},
   "outputs": [],
   "source": [
    "def resolve_categorical_variable(df, column_name):\n",
    "    df = pd.concat([df,pd.get_dummies(df[column_name], prefix=column_name)],axis=1)\n",
    "    df.drop([column_name],axis=1, inplace=True)\n",
    "    return df\n",
    "\n",
    "def resolve_categorical_variables(df, column_names_arr):\n",
    "    dummies = {};\n",
    "    \n",
    "    for column_name in column_names_arr:\n",
    "        \n",
    "        dummies[column_name] = pd.get_dummies(df[column_name], prefix=column_name)\n",
    "        \n",
    "        df = pd.concat([df, dummies[column_name]], axis=1)\n",
    "        df.drop([column_name], axis=1, inplace=True)\n",
    "    \n",
    "    # Save dummies for prediction\n",
    "    with open('longevity_dummies.pickle', 'wb') as f:\n",
    "        pickle.dump(dummies, f)\n",
    "        \n",
    "    return df"
   ]
  },
  {
   "cell_type": "code",
   "execution_count": 25,
   "metadata": {
    "scrolled": true
   },
   "outputs": [
    {
     "data": {
      "text/plain": [
       "Index(['longevity', 'number_of_sprays', 'temp_avg', 'hum_avg', 'dew_point_avg',\n",
       "       'uv_index_avg', 'temp_feels_like_avg', 'atm_pressure_avg', 'clouds_avg',\n",
       "       'visibility_avg', 'wind_speed_avg', 'rain_avg', 'snow_avg', 'sweat',\n",
       "       'height', 'weight', 'age', 'apply_time_year', 'apply_time_month',\n",
       "       'apply_time_day', 'apply_time_hour', 'apply_time_minute',\n",
       "       'weather_main_Clear', 'weather_main_Clouds', 'weather_main_Rain',\n",
       "       'gender_Female', 'gender_Male', 'profession_Beautician',\n",
       "       'profession_Clairvoyant', 'profession_Doctor', 'profession_Footballer',\n",
       "       'profession_Marketing Agent', 'profession_Student', 'skin_type_Dry',\n",
       "       'skin_type_Normal', 'skin_type_Very Oily', 'season_Spring',\n",
       "       'season_Summer', 'season_Winter', 'fp_country_Pakistan',\n",
       "       'fragrance_Bright Crystal', 'fragrance_Goldea',\n",
       "       'fragrance_Homme Exceptionnel', 'fragrance_L’Ambre des Merveilles',\n",
       "       'fragrance_Noir', 'fragrance_Parfums Prestige Paris 1965',\n",
       "       'fragrance_Terre d'Hermes EDT', 'fragrance_Terre d'Hermes Parfum',\n",
       "       'fragrance_gender_Female', 'fragrance_gender_Male',\n",
       "       'fragrance_gender_Unisex', 'fragrance_type_Eau de Parfum',\n",
       "       'fragrance_type_Eau de Toilette', 'brand_Brut', 'brand_Bvlgari',\n",
       "       'brand_Hermes', 'brand_Lacoste', 'brand_Mont Blanc', 'brand_Versace',\n",
       "       'brand_tier_High-End', 'brand_tier_Low-End', 'brand_tier_Mid',\n",
       "       'bo_location_country_France', 'bo_location_country_Germany',\n",
       "       'bo_location_country_Italy', 'apply_time_weekday_name_Friday',\n",
       "       'apply_time_weekday_name_Monday', 'apply_time_weekday_name_Thursday',\n",
       "       'apply_time_weekday_name_Tuesday', 'apply_time_weekday_name_Wednesday',\n",
       "       'fp_id_1', 'fp_id_11', 'fp_id_12', 'fp_id_13', 'fp_id_17', 'fp_id_18'],\n",
       "      dtype='object')"
      ]
     },
     "execution_count": 25,
     "metadata": {},
     "output_type": "execute_result"
    }
   ],
   "source": [
    "df = resolve_categorical_variables(df, np.append(categorical_columns, ('fp_id')))\n",
    "\n",
    "# Save columne names\n",
    "file = open('longevity_column_names_after_cleaning_drop.txt', 'w')\n",
    "\n",
    "# dump information to that file\n",
    "file.write(listToString(df.columns))\n",
    "\n",
    "# close the file\n",
    "file.close()\n",
    "\n",
    "df.columns"
   ]
  },
  {
   "cell_type": "code",
   "execution_count": 26,
   "metadata": {},
   "outputs": [
    {
     "name": "stdout",
     "output_type": "stream",
     "text": [
      "(12, 76)\n",
      "0\n"
     ]
    }
   ],
   "source": [
    "print(df.shape)\n",
    "print(df.duplicated(keep='first').sum())"
   ]
  },
  {
   "cell_type": "code",
   "execution_count": 27,
   "metadata": {},
   "outputs": [],
   "source": [
    "# df.to_csv('cleaned.csv', header=True, index=True)"
   ]
  },
  {
   "cell_type": "code",
   "execution_count": 28,
   "metadata": {},
   "outputs": [
    {
     "data": {
      "text/html": [
       "<div>\n",
       "<style scoped>\n",
       "    .dataframe tbody tr th:only-of-type {\n",
       "        vertical-align: middle;\n",
       "    }\n",
       "\n",
       "    .dataframe tbody tr th {\n",
       "        vertical-align: top;\n",
       "    }\n",
       "\n",
       "    .dataframe thead th {\n",
       "        text-align: right;\n",
       "    }\n",
       "</style>\n",
       "<table border=\"1\" class=\"dataframe\">\n",
       "  <thead>\n",
       "    <tr style=\"text-align: right;\">\n",
       "      <th></th>\n",
       "      <th>longevity</th>\n",
       "      <th>number_of_sprays</th>\n",
       "      <th>temp_avg</th>\n",
       "      <th>hum_avg</th>\n",
       "      <th>dew_point_avg</th>\n",
       "      <th>uv_index_avg</th>\n",
       "      <th>temp_feels_like_avg</th>\n",
       "      <th>atm_pressure_avg</th>\n",
       "      <th>clouds_avg</th>\n",
       "      <th>visibility_avg</th>\n",
       "      <th>...</th>\n",
       "      <th>apply_time_weekday_name_Monday</th>\n",
       "      <th>apply_time_weekday_name_Thursday</th>\n",
       "      <th>apply_time_weekday_name_Tuesday</th>\n",
       "      <th>apply_time_weekday_name_Wednesday</th>\n",
       "      <th>fp_id_1</th>\n",
       "      <th>fp_id_11</th>\n",
       "      <th>fp_id_12</th>\n",
       "      <th>fp_id_13</th>\n",
       "      <th>fp_id_17</th>\n",
       "      <th>fp_id_18</th>\n",
       "    </tr>\n",
       "  </thead>\n",
       "  <tbody>\n",
       "    <tr>\n",
       "      <th>0</th>\n",
       "      <td>14</td>\n",
       "      <td>7</td>\n",
       "      <td>78.42</td>\n",
       "      <td>21.75</td>\n",
       "      <td>35.66</td>\n",
       "      <td>6.39</td>\n",
       "      <td>72.09</td>\n",
       "      <td>1014.25</td>\n",
       "      <td>61.62</td>\n",
       "      <td>60000</td>\n",
       "      <td>...</td>\n",
       "      <td>0</td>\n",
       "      <td>1</td>\n",
       "      <td>0</td>\n",
       "      <td>0</td>\n",
       "      <td>0</td>\n",
       "      <td>0</td>\n",
       "      <td>1</td>\n",
       "      <td>0</td>\n",
       "      <td>0</td>\n",
       "      <td>0</td>\n",
       "    </tr>\n",
       "    <tr>\n",
       "      <th>4</th>\n",
       "      <td>132</td>\n",
       "      <td>1</td>\n",
       "      <td>90.76</td>\n",
       "      <td>30.38</td>\n",
       "      <td>49.41</td>\n",
       "      <td>10.34</td>\n",
       "      <td>86.04</td>\n",
       "      <td>1009.88</td>\n",
       "      <td>13.5</td>\n",
       "      <td>60000</td>\n",
       "      <td>...</td>\n",
       "      <td>0</td>\n",
       "      <td>0</td>\n",
       "      <td>0</td>\n",
       "      <td>1</td>\n",
       "      <td>0</td>\n",
       "      <td>1</td>\n",
       "      <td>0</td>\n",
       "      <td>0</td>\n",
       "      <td>0</td>\n",
       "      <td>0</td>\n",
       "    </tr>\n",
       "    <tr>\n",
       "      <th>10</th>\n",
       "      <td>150</td>\n",
       "      <td>2</td>\n",
       "      <td>90.52</td>\n",
       "      <td>54.75</td>\n",
       "      <td>71.41</td>\n",
       "      <td>10.9</td>\n",
       "      <td>97.95</td>\n",
       "      <td>1006.5</td>\n",
       "      <td>28.5</td>\n",
       "      <td>60000</td>\n",
       "      <td>...</td>\n",
       "      <td>0</td>\n",
       "      <td>0</td>\n",
       "      <td>1</td>\n",
       "      <td>0</td>\n",
       "      <td>1</td>\n",
       "      <td>0</td>\n",
       "      <td>0</td>\n",
       "      <td>0</td>\n",
       "      <td>0</td>\n",
       "      <td>0</td>\n",
       "    </tr>\n",
       "    <tr>\n",
       "      <th>16</th>\n",
       "      <td>60</td>\n",
       "      <td>4</td>\n",
       "      <td>88.12</td>\n",
       "      <td>31.12</td>\n",
       "      <td>52.49</td>\n",
       "      <td>9.65</td>\n",
       "      <td>85.86</td>\n",
       "      <td>1006.0</td>\n",
       "      <td>51.88</td>\n",
       "      <td>60000</td>\n",
       "      <td>...</td>\n",
       "      <td>0</td>\n",
       "      <td>1</td>\n",
       "      <td>0</td>\n",
       "      <td>0</td>\n",
       "      <td>0</td>\n",
       "      <td>0</td>\n",
       "      <td>0</td>\n",
       "      <td>0</td>\n",
       "      <td>1</td>\n",
       "      <td>0</td>\n",
       "    </tr>\n",
       "    <tr>\n",
       "      <th>22</th>\n",
       "      <td>119</td>\n",
       "      <td>1</td>\n",
       "      <td>93.66</td>\n",
       "      <td>43.0</td>\n",
       "      <td>65.04</td>\n",
       "      <td>11.54</td>\n",
       "      <td>97.97</td>\n",
       "      <td>1002.75</td>\n",
       "      <td>7.62</td>\n",
       "      <td>60000</td>\n",
       "      <td>...</td>\n",
       "      <td>1</td>\n",
       "      <td>0</td>\n",
       "      <td>0</td>\n",
       "      <td>0</td>\n",
       "      <td>1</td>\n",
       "      <td>0</td>\n",
       "      <td>0</td>\n",
       "      <td>0</td>\n",
       "      <td>0</td>\n",
       "      <td>0</td>\n",
       "    </tr>\n",
       "  </tbody>\n",
       "</table>\n",
       "<p>5 rows × 76 columns</p>\n",
       "</div>"
      ],
      "text/plain": [
       "    longevity  number_of_sprays  temp_avg  hum_avg  dew_point_avg  \\\n",
       "0          14                 7     78.42    21.75          35.66   \n",
       "4         132                 1     90.76    30.38          49.41   \n",
       "10        150                 2     90.52    54.75          71.41   \n",
       "16         60                 4     88.12    31.12          52.49   \n",
       "22        119                 1     93.66     43.0          65.04   \n",
       "\n",
       "    uv_index_avg  temp_feels_like_avg  atm_pressure_avg  clouds_avg  \\\n",
       "0           6.39                72.09           1014.25       61.62   \n",
       "4          10.34                86.04           1009.88        13.5   \n",
       "10          10.9                97.95            1006.5        28.5   \n",
       "16          9.65                85.86            1006.0       51.88   \n",
       "22         11.54                97.97           1002.75        7.62   \n",
       "\n",
       "    visibility_avg  ...  apply_time_weekday_name_Monday  \\\n",
       "0            60000  ...                               0   \n",
       "4            60000  ...                               0   \n",
       "10           60000  ...                               0   \n",
       "16           60000  ...                               0   \n",
       "22           60000  ...                               1   \n",
       "\n",
       "    apply_time_weekday_name_Thursday  apply_time_weekday_name_Tuesday  \\\n",
       "0                                  1                                0   \n",
       "4                                  0                                0   \n",
       "10                                 0                                1   \n",
       "16                                 1                                0   \n",
       "22                                 0                                0   \n",
       "\n",
       "    apply_time_weekday_name_Wednesday  fp_id_1  fp_id_11  fp_id_12  fp_id_13  \\\n",
       "0                                   0        0         0         1         0   \n",
       "4                                   1        0         1         0         0   \n",
       "10                                  0        1         0         0         0   \n",
       "16                                  0        0         0         0         0   \n",
       "22                                  0        1         0         0         0   \n",
       "\n",
       "    fp_id_17  fp_id_18  \n",
       "0          0         0  \n",
       "4          0         0  \n",
       "10         0         0  \n",
       "16         1         0  \n",
       "22         0         0  \n",
       "\n",
       "[5 rows x 76 columns]"
      ]
     },
     "execution_count": 28,
     "metadata": {},
     "output_type": "execute_result"
    }
   ],
   "source": [
    "df.head()"
   ]
  },
  {
   "cell_type": "code",
   "execution_count": 29,
   "metadata": {},
   "outputs": [],
   "source": [
    "# Use this and fix this\n",
    "# aggregation_functions = {'longevity': 'first', 'amount': 'sum', 'name': 'first'}\n",
    "# df_new = df.groupby(df['ufr_id']).aggregate(aggregation_functions)\n",
    "# df_new.head()"
   ]
  },
  {
   "cell_type": "code",
   "execution_count": 30,
   "metadata": {},
   "outputs": [
    {
     "data": {
      "text/plain": [
       "(12, 76)"
      ]
     },
     "execution_count": 30,
     "metadata": {},
     "output_type": "execute_result"
    }
   ],
   "source": [
    "df.drop_duplicates(subset=None, keep=\"first\", inplace=True)\n",
    "df.shape"
   ]
  },
  {
   "cell_type": "code",
   "execution_count": 31,
   "metadata": {},
   "outputs": [
    {
     "data": {
      "text/plain": [
       "[]"
      ]
     },
     "execution_count": 31,
     "metadata": {},
     "output_type": "execute_result"
    }
   ],
   "source": [
    "# Columns with any null values\n",
    "df.columns[df.isna().any()].tolist()"
   ]
  },
  {
   "cell_type": "code",
   "execution_count": 32,
   "metadata": {},
   "outputs": [
    {
     "data": {
      "text/html": [
       "<div>\n",
       "<style scoped>\n",
       "    .dataframe tbody tr th:only-of-type {\n",
       "        vertical-align: middle;\n",
       "    }\n",
       "\n",
       "    .dataframe tbody tr th {\n",
       "        vertical-align: top;\n",
       "    }\n",
       "\n",
       "    .dataframe thead th {\n",
       "        text-align: right;\n",
       "    }\n",
       "</style>\n",
       "<table border=\"1\" class=\"dataframe\">\n",
       "  <thead>\n",
       "    <tr style=\"text-align: right;\">\n",
       "      <th></th>\n",
       "      <th>longevity</th>\n",
       "      <th>number_of_sprays</th>\n",
       "      <th>temp_avg</th>\n",
       "      <th>hum_avg</th>\n",
       "      <th>dew_point_avg</th>\n",
       "      <th>uv_index_avg</th>\n",
       "      <th>temp_feels_like_avg</th>\n",
       "      <th>atm_pressure_avg</th>\n",
       "      <th>clouds_avg</th>\n",
       "      <th>visibility_avg</th>\n",
       "      <th>...</th>\n",
       "      <th>apply_time_weekday_name_Monday</th>\n",
       "      <th>apply_time_weekday_name_Thursday</th>\n",
       "      <th>apply_time_weekday_name_Tuesday</th>\n",
       "      <th>apply_time_weekday_name_Wednesday</th>\n",
       "      <th>fp_id_1</th>\n",
       "      <th>fp_id_11</th>\n",
       "      <th>fp_id_12</th>\n",
       "      <th>fp_id_13</th>\n",
       "      <th>fp_id_17</th>\n",
       "      <th>fp_id_18</th>\n",
       "    </tr>\n",
       "  </thead>\n",
       "  <tbody>\n",
       "    <tr>\n",
       "      <th>0</th>\n",
       "      <td>14</td>\n",
       "      <td>7</td>\n",
       "      <td>78.42</td>\n",
       "      <td>21.75</td>\n",
       "      <td>35.66</td>\n",
       "      <td>6.39</td>\n",
       "      <td>72.09</td>\n",
       "      <td>1014.25</td>\n",
       "      <td>61.62</td>\n",
       "      <td>60000</td>\n",
       "      <td>...</td>\n",
       "      <td>0</td>\n",
       "      <td>1</td>\n",
       "      <td>0</td>\n",
       "      <td>0</td>\n",
       "      <td>0</td>\n",
       "      <td>0</td>\n",
       "      <td>1</td>\n",
       "      <td>0</td>\n",
       "      <td>0</td>\n",
       "      <td>0</td>\n",
       "    </tr>\n",
       "    <tr>\n",
       "      <th>1</th>\n",
       "      <td>132</td>\n",
       "      <td>1</td>\n",
       "      <td>90.76</td>\n",
       "      <td>30.38</td>\n",
       "      <td>49.41</td>\n",
       "      <td>10.34</td>\n",
       "      <td>86.04</td>\n",
       "      <td>1009.88</td>\n",
       "      <td>13.5</td>\n",
       "      <td>60000</td>\n",
       "      <td>...</td>\n",
       "      <td>0</td>\n",
       "      <td>0</td>\n",
       "      <td>0</td>\n",
       "      <td>1</td>\n",
       "      <td>0</td>\n",
       "      <td>1</td>\n",
       "      <td>0</td>\n",
       "      <td>0</td>\n",
       "      <td>0</td>\n",
       "      <td>0</td>\n",
       "    </tr>\n",
       "    <tr>\n",
       "      <th>2</th>\n",
       "      <td>150</td>\n",
       "      <td>2</td>\n",
       "      <td>90.52</td>\n",
       "      <td>54.75</td>\n",
       "      <td>71.41</td>\n",
       "      <td>10.9</td>\n",
       "      <td>97.95</td>\n",
       "      <td>1006.5</td>\n",
       "      <td>28.5</td>\n",
       "      <td>60000</td>\n",
       "      <td>...</td>\n",
       "      <td>0</td>\n",
       "      <td>0</td>\n",
       "      <td>1</td>\n",
       "      <td>0</td>\n",
       "      <td>1</td>\n",
       "      <td>0</td>\n",
       "      <td>0</td>\n",
       "      <td>0</td>\n",
       "      <td>0</td>\n",
       "      <td>0</td>\n",
       "    </tr>\n",
       "    <tr>\n",
       "      <th>3</th>\n",
       "      <td>60</td>\n",
       "      <td>4</td>\n",
       "      <td>88.12</td>\n",
       "      <td>31.12</td>\n",
       "      <td>52.49</td>\n",
       "      <td>9.65</td>\n",
       "      <td>85.86</td>\n",
       "      <td>1006.0</td>\n",
       "      <td>51.88</td>\n",
       "      <td>60000</td>\n",
       "      <td>...</td>\n",
       "      <td>0</td>\n",
       "      <td>1</td>\n",
       "      <td>0</td>\n",
       "      <td>0</td>\n",
       "      <td>0</td>\n",
       "      <td>0</td>\n",
       "      <td>0</td>\n",
       "      <td>0</td>\n",
       "      <td>1</td>\n",
       "      <td>0</td>\n",
       "    </tr>\n",
       "    <tr>\n",
       "      <th>4</th>\n",
       "      <td>119</td>\n",
       "      <td>1</td>\n",
       "      <td>93.66</td>\n",
       "      <td>43.0</td>\n",
       "      <td>65.04</td>\n",
       "      <td>11.54</td>\n",
       "      <td>97.97</td>\n",
       "      <td>1002.75</td>\n",
       "      <td>7.62</td>\n",
       "      <td>60000</td>\n",
       "      <td>...</td>\n",
       "      <td>1</td>\n",
       "      <td>0</td>\n",
       "      <td>0</td>\n",
       "      <td>0</td>\n",
       "      <td>1</td>\n",
       "      <td>0</td>\n",
       "      <td>0</td>\n",
       "      <td>0</td>\n",
       "      <td>0</td>\n",
       "      <td>0</td>\n",
       "    </tr>\n",
       "  </tbody>\n",
       "</table>\n",
       "<p>5 rows × 76 columns</p>\n",
       "</div>"
      ],
      "text/plain": [
       "   longevity  number_of_sprays  temp_avg  hum_avg  dew_point_avg  \\\n",
       "0         14                 7     78.42    21.75          35.66   \n",
       "1        132                 1     90.76    30.38          49.41   \n",
       "2        150                 2     90.52    54.75          71.41   \n",
       "3         60                 4     88.12    31.12          52.49   \n",
       "4        119                 1     93.66     43.0          65.04   \n",
       "\n",
       "   uv_index_avg  temp_feels_like_avg  atm_pressure_avg  clouds_avg  \\\n",
       "0          6.39                72.09           1014.25       61.62   \n",
       "1         10.34                86.04           1009.88        13.5   \n",
       "2          10.9                97.95            1006.5        28.5   \n",
       "3          9.65                85.86            1006.0       51.88   \n",
       "4         11.54                97.97           1002.75        7.62   \n",
       "\n",
       "   visibility_avg  ...  apply_time_weekday_name_Monday  \\\n",
       "0           60000  ...                               0   \n",
       "1           60000  ...                               0   \n",
       "2           60000  ...                               0   \n",
       "3           60000  ...                               0   \n",
       "4           60000  ...                               1   \n",
       "\n",
       "   apply_time_weekday_name_Thursday  apply_time_weekday_name_Tuesday  \\\n",
       "0                                 1                                0   \n",
       "1                                 0                                0   \n",
       "2                                 0                                1   \n",
       "3                                 1                                0   \n",
       "4                                 0                                0   \n",
       "\n",
       "   apply_time_weekday_name_Wednesday  fp_id_1  fp_id_11  fp_id_12  fp_id_13  \\\n",
       "0                                  0        0         0         1         0   \n",
       "1                                  1        0         1         0         0   \n",
       "2                                  0        1         0         0         0   \n",
       "3                                  0        0         0         0         0   \n",
       "4                                  0        1         0         0         0   \n",
       "\n",
       "   fp_id_17  fp_id_18  \n",
       "0         0         0  \n",
       "1         0         0  \n",
       "2         0         0  \n",
       "3         1         0  \n",
       "4         0         0  \n",
       "\n",
       "[5 rows x 76 columns]"
      ]
     },
     "execution_count": 32,
     "metadata": {},
     "output_type": "execute_result"
    }
   ],
   "source": [
    "df.reset_index(drop=True, inplace=True)\n",
    "df.head()"
   ]
  },
  {
   "cell_type": "code",
   "execution_count": 33,
   "metadata": {},
   "outputs": [],
   "source": [
    "# df.describe()"
   ]
  },
  {
   "cell_type": "markdown",
   "metadata": {},
   "source": [
    "#### Saving columns to compare in prediction"
   ]
  },
  {
   "cell_type": "code",
   "execution_count": 34,
   "metadata": {},
   "outputs": [],
   "source": [
    "with open('longevity_column_names_check.pickle', 'wb') as f:\n",
    "    pickle.dump(df[df.columns.difference(['longevity'])].columns, f)"
   ]
  },
  {
   "cell_type": "markdown",
   "metadata": {},
   "source": [
    "## Boosting the dataset"
   ]
  },
  {
   "cell_type": "code",
   "execution_count": 35,
   "metadata": {},
   "outputs": [],
   "source": [
    "df = pd.concat([df, df, df, df], ignore_index=True)"
   ]
  },
  {
   "cell_type": "code",
   "execution_count": 36,
   "metadata": {},
   "outputs": [],
   "source": [
    "copy_df = df"
   ]
  },
  {
   "cell_type": "code",
   "execution_count": 37,
   "metadata": {},
   "outputs": [],
   "source": [
    "df = copy_df"
   ]
  },
  {
   "cell_type": "markdown",
   "metadata": {},
   "source": [
    "# Model"
   ]
  },
  {
   "cell_type": "markdown",
   "metadata": {},
   "source": [
    "## Train"
   ]
  },
  {
   "cell_type": "code",
   "execution_count": 38,
   "metadata": {},
   "outputs": [
    {
     "name": "stdout",
     "output_type": "stream",
     "text": [
      "(38, 75) (38,)\n",
      "(10, 75) (10,)\n"
     ]
    }
   ],
   "source": [
    "# define the target variable (dependent variable) as y\n",
    "y = df.longevity\n",
    "y = y.astype('float64')\n",
    "\n",
    "df.drop('longevity', axis=1, inplace=True)\n",
    "\n",
    "# create training and testing vars\n",
    "X_train, X_test, y_train, y_test = train_test_split(df, y, test_size=0.2)\n",
    "print (X_train.shape, y_train.shape)\n",
    "print (X_test.shape, y_test.shape)"
   ]
  },
  {
   "cell_type": "code",
   "execution_count": 39,
   "metadata": {},
   "outputs": [],
   "source": [
    "# Create Decision Tree classifer object\n",
    "# model_init = DecisionTreeRegressor(random_state = 0, criterion='mse')\n",
    "\n",
    "model_init = RandomForestClassifier(n_estimators=20, random_state=0)\n",
    "\n",
    "# Logistic Regression\n",
    "# model_init = LogisticRegression()"
   ]
  },
  {
   "cell_type": "code",
   "execution_count": 40,
   "metadata": {},
   "outputs": [],
   "source": [
    "# Train Decision Tree Classifer\n",
    "model = model_init.fit(X_train, y_train)"
   ]
  },
  {
   "cell_type": "markdown",
   "metadata": {},
   "source": [
    "## Test"
   ]
  },
  {
   "cell_type": "code",
   "execution_count": 41,
   "metadata": {},
   "outputs": [],
   "source": [
    "#Predict the response for test dataset\n",
    "y_pred = model.predict(X_test)"
   ]
  },
  {
   "cell_type": "code",
   "execution_count": 42,
   "metadata": {},
   "outputs": [],
   "source": [
    "# y_pred"
   ]
  },
  {
   "cell_type": "code",
   "execution_count": 43,
   "metadata": {},
   "outputs": [],
   "source": [
    "# X_test.dtypes"
   ]
  },
  {
   "cell_type": "code",
   "execution_count": 44,
   "metadata": {},
   "outputs": [],
   "source": [
    "# Test\n",
    "# y_pred = lm.predict(X_test)\n",
    "# from sklearn.model_selection import cross_val_predict\n",
    "# predicted = cross_val_predict(lm, df_long, y, cv=10)\n",
    "\n",
    "# fig, ax = plt.subplots()\n",
    "# ax.scatter(y, predicted)\n",
    "# ax.plot([y.min(), y.max()], [y.min(), y.max()], 'k--', lw=4)\n",
    "# ax.set_xlabel('Measured')\n",
    "# ax.set_ylabel('Predicted')\n",
    "# plt.show()"
   ]
  },
  {
   "cell_type": "markdown",
   "metadata": {},
   "source": [
    "## Evaluate"
   ]
  },
  {
   "cell_type": "code",
   "execution_count": 45,
   "metadata": {},
   "outputs": [],
   "source": [
    "# Decision Tree\n",
    "# fig, axes = plt.subplots(nrows = 1,ncols = 1,figsize = (2,2), dpi=300)\n",
    "\n",
    "# tree.plot_tree(model, feature_names = X_train.columns, \n",
    "#                class_names=y,\n",
    "#                filled = True);"
   ]
  },
  {
   "cell_type": "code",
   "execution_count": 46,
   "metadata": {},
   "outputs": [
    {
     "data": {
      "image/png": "[encoded data removed]",
      "text/plain": [
       "<Figure size 900x900 with 1 Axes>"
      ]
     },
     "metadata": {
      "needs_background": "light"
     },
     "output_type": "display_data"
    }
   ],
   "source": [
    "# Random Forest\n",
    "limited_estimator = model.estimators_[3]\n",
    "\n",
    "fig, axes = plt.subplots(nrows = 1, ncols = 1, figsize = (3,3), dpi=300)\n",
    "tree.plot_tree(limited_estimator,\n",
    "               feature_names = X_train.columns, \n",
    "               filled = True);\n",
    "\n",
    "fig.savefig('rf_individualtree.png')"
   ]
  },
  {
   "cell_type": "code",
   "execution_count": 47,
   "metadata": {},
   "outputs": [],
   "source": [
    "# estimator_limited = model.estimators_[5]\n",
    "\n",
    "# # Export as dot file\n",
    "# dot_data = export_graphviz(estimator_limited, \n",
    "#                 out_file='rf_tree.dot',\n",
    "#                 feature_names = X_train.columns,\n",
    "#                 rounded = True, proportion = False, \n",
    "#                 precision = 2, filled = True)\n",
    "\n",
    "# graph = graphviz.Source(dot_data)\n",
    "# graph.view()\n",
    "# # graph.render(\"DecisionTree\") #Generate DecisionTree.pdf file in the same directory"
   ]
  },
  {
   "cell_type": "code",
   "execution_count": 48,
   "metadata": {},
   "outputs": [],
   "source": [
    "\n",
    "# export the decision tree to a tree.dot file\n",
    "# for visualizing the plot easily anywhere\n",
    "# tree = export_graphviz(model, out_file ='tree.dot', feature_names = X_train.columns)\n",
    "# tree.render()"
   ]
  },
  {
   "cell_type": "code",
   "execution_count": 49,
   "metadata": {},
   "outputs": [],
   "source": [
    "## The line / model\n",
    "# plt.scatter(y_test, y_pred)\n",
    "# plt.xlabel(\"True Values\")\n",
    "# plt.ylabel(\"Predictions\")"
   ]
  },
  {
   "cell_type": "code",
   "execution_count": 50,
   "metadata": {},
   "outputs": [],
   "source": [
    "# The coefficients\n",
    "# print('Coefficients: \\n', model.coef_)\n",
    "# The mean squared error\n",
    "# print('Mean squared error: %.2f'\n",
    "#       % metrics.mean_squared_error(y_test, y_pred))\n",
    "# # The coefficient of determination: 1 is perfect prediction\n",
    "# print('Coefficient of determination: %.2f'\n",
    "#       % metrics.r2_score(y_test, y_pred))\n",
    "\n",
    "# Plot outputs\n",
    "# plt.scatter(X_test, y_test,  color='black')\n",
    "# plt.plot(X_test, y_pred, color='blue', linewidth=3)\n",
    "\n",
    "# plt.xticks(())\n",
    "# plt.yticks(())\n",
    "\n",
    "# plt.show()"
   ]
  },
  {
   "cell_type": "code",
   "execution_count": 51,
   "metadata": {},
   "outputs": [
    {
     "name": "stdout",
     "output_type": "stream",
     "text": [
      "Mean Absolute Error: 0.0\n",
      "Mean Squared Error: 0.0\n",
      "Root Mean Squared Error: 0.0\n"
     ]
    }
   ],
   "source": [
    "print('Mean Absolute Error:', metrics.mean_absolute_error(y_test, y_pred))\n",
    "print('Mean Squared Error:', metrics.mean_squared_error(y_test, y_pred))\n",
    "print('Root Mean Squared Error:', np.sqrt(metrics.mean_squared_error(y_test, y_pred)))"
   ]
  },
  {
   "cell_type": "markdown",
   "metadata": {},
   "source": [
    "### Fit over the full dataset"
   ]
  },
  {
   "cell_type": "code",
   "execution_count": 52,
   "metadata": {},
   "outputs": [],
   "source": [
    "model = model_init.fit(df, y)"
   ]
  },
  {
   "cell_type": "code",
   "execution_count": 53,
   "metadata": {},
   "outputs": [],
   "source": [
    "# model.predict(df)"
   ]
  },
  {
   "cell_type": "markdown",
   "metadata": {},
   "source": [
    "## Save the vars pickle for prediction"
   ]
  },
  {
   "cell_type": "markdown",
   "metadata": {},
   "source": [
    "### Model"
   ]
  },
  {
   "cell_type": "code",
   "execution_count": 54,
   "metadata": {},
   "outputs": [],
   "source": [
    "with open('longevity_model.pickle', 'wb') as f:\n",
    "    pickle.dump(model, f)"
   ]
  },
  {
   "cell_type": "code",
   "execution_count": 55,
   "metadata": {
    "scrolled": true
   },
   "outputs": [
    {
     "data": {
      "text/plain": [
       "RandomForestClassifier(n_estimators=20, random_state=0)"
      ]
     },
     "execution_count": 55,
     "metadata": {},
     "output_type": "execute_result"
    }
   ],
   "source": [
    "with open('longevity_model.pickle', 'rb') as f:\n",
    "    loaded_pickle = pickle.load(f)\n",
    "    \n",
    "loaded_pickle"
   ]
  },
  {
   "cell_type": "markdown",
   "metadata": {},
   "source": [
    "### Categorical Variables"
   ]
  },
  {
   "cell_type": "code",
   "execution_count": 56,
   "metadata": {
    "scrolled": false
   },
   "outputs": [
    {
     "data": {
      "text/html": [
       "<div>\n",
       "<style scoped>\n",
       "    .dataframe tbody tr th:only-of-type {\n",
       "        vertical-align: middle;\n",
       "    }\n",
       "\n",
       "    .dataframe tbody tr th {\n",
       "        vertical-align: top;\n",
       "    }\n",
       "\n",
       "    .dataframe thead th {\n",
       "        text-align: right;\n",
       "    }\n",
       "</style>\n",
       "<table border=\"1\" class=\"dataframe\">\n",
       "  <thead>\n",
       "    <tr style=\"text-align: right;\">\n",
       "      <th></th>\n",
       "      <th>weather_main_Clear</th>\n",
       "      <th>weather_main_Clouds</th>\n",
       "      <th>weather_main_Rain</th>\n",
       "      <th>gender_Female</th>\n",
       "      <th>gender_Male</th>\n",
       "      <th>profession_Beautician</th>\n",
       "      <th>profession_Clairvoyant</th>\n",
       "      <th>profession_Doctor</th>\n",
       "      <th>profession_Footballer</th>\n",
       "      <th>profession_Marketing Agent</th>\n",
       "      <th>...</th>\n",
       "      <th>apply_time_weekday_name_Monday</th>\n",
       "      <th>apply_time_weekday_name_Thursday</th>\n",
       "      <th>apply_time_weekday_name_Tuesday</th>\n",
       "      <th>apply_time_weekday_name_Wednesday</th>\n",
       "      <th>fp_id_1</th>\n",
       "      <th>fp_id_11</th>\n",
       "      <th>fp_id_12</th>\n",
       "      <th>fp_id_13</th>\n",
       "      <th>fp_id_17</th>\n",
       "      <th>fp_id_18</th>\n",
       "    </tr>\n",
       "  </thead>\n",
       "  <tbody>\n",
       "  </tbody>\n",
       "</table>\n",
       "<p>0 rows × 54 columns</p>\n",
       "</div>"
      ],
      "text/plain": [
       "Empty DataFrame\n",
       "Columns: [weather_main_Clear, weather_main_Clouds, weather_main_Rain, gender_Female, gender_Male, profession_Beautician, profession_Clairvoyant, profession_Doctor, profession_Footballer, profession_Marketing Agent, profession_Student, skin_type_Dry, skin_type_Normal, skin_type_Very Oily, season_Spring, season_Summer, season_Winter, fp_country_Pakistan, fragrance_Bright Crystal, fragrance_Goldea, fragrance_Homme Exceptionnel, fragrance_L’Ambre des Merveilles, fragrance_Noir, fragrance_Parfums Prestige Paris 1965, fragrance_Terre d'Hermes EDT, fragrance_Terre d'Hermes Parfum, fragrance_gender_Female, fragrance_gender_Male, fragrance_gender_Unisex, fragrance_type_Eau de Parfum, fragrance_type_Eau de Toilette, brand_Brut, brand_Bvlgari, brand_Hermes, brand_Lacoste, brand_Mont Blanc, brand_Versace, brand_tier_High-End, brand_tier_Low-End, brand_tier_Mid, bo_location_country_France, bo_location_country_Germany, bo_location_country_Italy, apply_time_weekday_name_Friday, apply_time_weekday_name_Monday, apply_time_weekday_name_Thursday, apply_time_weekday_name_Tuesday, apply_time_weekday_name_Wednesday, fp_id_1, fp_id_11, fp_id_12, fp_id_13, fp_id_17, fp_id_18]\n",
       "Index: []\n",
       "\n",
       "[0 rows x 54 columns]"
      ]
     },
     "execution_count": 56,
     "metadata": {},
     "output_type": "execute_result"
    }
   ],
   "source": [
    "with open('longevity_dummies.pickle', 'rb') as f:\n",
    "    train_dummies = pickle.load(f)\n",
    "\n",
    "# Categorical variables in a dataframe\n",
    "cat_df = pd.DataFrame()\n",
    "for column_name in train_dummies:\n",
    "    for dummy in train_dummies[column_name]:\n",
    "        cat_df[dummy] = 0\n",
    "        \n",
    "# Save in file\n",
    "with open('longevity_categorical_variables.pickle', 'wb') as f:\n",
    "    pickle.dump(cat_df, f)\n",
    "    \n",
    "cat_df"
   ]
  },
  {
   "cell_type": "markdown",
   "metadata": {},
   "source": [
    "# END"
   ]
  },
  {
   "cell_type": "code",
   "execution_count": null,
   "metadata": {},
   "outputs": [],
   "source": []
  }
 ],
 "metadata": {
  "kernelspec": {
   "display_name": "duft_und_du",
   "language": "python",
   "name": "duft_und_du"
  },
  "language_info": {
   "codemirror_mode": {
    "name": "ipython",
    "version": 3
   },
   "file_extension": ".py",
   "mimetype": "text/x-python",
   "name": "python",
   "nbconvert_exporter": "python",
   "pygments_lexer": "ipython3",
   "version": "3.8.3"
  }
 },
 "nbformat": 4,
 "nbformat_minor": 2
}
