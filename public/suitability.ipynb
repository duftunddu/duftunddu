{
 "cells": [
  {
   "cell_type": "markdown",
   "metadata": {},
   "source": [
    "## Extraction"
   ]
  },
  {
   "cell_type": "code",
   "execution_count": 1,
   "metadata": {
    "tags": []
   },
   "outputs": [],
   "source": [
    "import numpy as np\n",
    "import pandas as pd\n",
    "# import xlrd\n",
    "# import matplotlib as mpl\n",
    "# import matplotlib.pyplot as plt\n",
    "# import seaborn as sns\n",
    "\n",
    "# For import export of model\n",
    "import pickle\n",
    "\n",
    "from scipy import stats\n",
    "import json\n",
    "# print(plt.style.available)\n",
    "# mpl.style.use(['seaborn']) # optional: for ggplot-like style\n"
   ]
  },
  {
   "cell_type": "code",
   "execution_count": 6,
   "metadata": {},
   "outputs": [],
   "source": [
    "# Open file to \n",
    "file = open('sustainability_template.pickle', 'rb')\n",
    "\n",
    "# Load model from the file\n",
    "loaded_pickle = pickle.load(file)\n",
    "\n",
    "# close the file\n",
    "file.close()\n",
    "\n",
    "# print(loaded_pickle)"
   ]
  },
  {
   "cell_type": "code",
   "execution_count": 7,
   "metadata": {},
   "outputs": [],
   "source": [
    "# From datastore to json\n",
    "# json_string = json.dumps(loaded_pickle)\n",
    "\n",
    "# From json to datastore\n",
    "# Local\n",
    "datastore = json.loads(loaded_pickle)\n",
    "# Production\n",
    "# datastore = json.loads(sys.argv[1])\n",
    "\n",
    "# print(datastore[0]['ufr_id'])\n",
    "# print(datastore[0])"
   ]
  },
  {
   "cell_type": "code",
   "execution_count": 8,
   "metadata": {},
   "outputs": [
    {
     "data": {
      "text/html": [
       "<div>\n",
       "<style scoped>\n",
       "    .dataframe tbody tr th:only-of-type {\n",
       "        vertical-align: middle;\n",
       "    }\n",
       "\n",
       "    .dataframe tbody tr th {\n",
       "        vertical-align: top;\n",
       "    }\n",
       "\n",
       "    .dataframe thead th {\n",
       "        text-align: right;\n",
       "    }\n",
       "</style>\n",
       "<table border=\"1\" class=\"dataframe\">\n",
       "  <thead>\n",
       "    <tr style=\"text-align: right;\">\n",
       "      <th></th>\n",
       "      <th>longevity</th>\n",
       "      <th>indoor_time_percentage</th>\n",
       "      <th>number_of_sprays</th>\n",
       "      <th>temp_avg</th>\n",
       "      <th>hum_avg</th>\n",
       "      <th>dew_point_avg</th>\n",
       "      <th>temp_feels_like_avg</th>\n",
       "      <th>atm_pressure_avg</th>\n",
       "      <th>users_id</th>\n",
       "    </tr>\n",
       "  </thead>\n",
       "  <tbody>\n",
       "    <tr>\n",
       "      <th>0</th>\n",
       "      <td>20</td>\n",
       "      <td>54</td>\n",
       "      <td>11</td>\n",
       "      <td>81.43</td>\n",
       "      <td>75.38</td>\n",
       "      <td>73.02</td>\n",
       "      <td>83.08</td>\n",
       "      <td>1010.75</td>\n",
       "      <td>1</td>\n",
       "    </tr>\n",
       "    <tr>\n",
       "      <th>1</th>\n",
       "      <td>50</td>\n",
       "      <td>54</td>\n",
       "      <td>11</td>\n",
       "      <td>81.43</td>\n",
       "      <td>75.38</td>\n",
       "      <td>73.02</td>\n",
       "      <td>83.08</td>\n",
       "      <td>1010.75</td>\n",
       "      <td>1</td>\n",
       "    </tr>\n",
       "  </tbody>\n",
       "</table>\n",
       "</div>"
      ],
      "text/plain": [
       "   longevity  indoor_time_percentage  number_of_sprays  temp_avg  hum_avg  \\\n",
       "0         20                      54                11     81.43    75.38   \n",
       "1         50                      54                11     81.43    75.38   \n",
       "\n",
       "   dew_point_avg  temp_feels_like_avg  atm_pressure_avg  users_id  \n",
       "0          73.02                83.08           1010.75         1  \n",
       "1          73.02                83.08           1010.75         1  "
      ]
     },
     "execution_count": 8,
     "metadata": {},
     "output_type": "execute_result"
    }
   ],
   "source": [
    "df = pd.DataFrame(data=datastore)\n",
    "df"
   ]
  },
  {
   "cell_type": "code",
   "execution_count": 6,
   "metadata": {},
   "outputs": [],
   "source": [
    "# Manipulation of data locally\n",
    "\n",
    "# df['indoor_time_percentage'].iloc[0] = 53\n",
    "# df['number_of_sprays'].iloc[0] = 9\n",
    "# df['temp_avg'].iloc[0] = 80\n",
    "# df['hum_avg'].iloc[0] = 74\n",
    "# df['dew_point_avg'].iloc[0] = 73.02\n",
    "# df['temp_feels_like_avg'].iloc[0] = 90\n",
    "# df['atm_pressure_avg'].iloc[0] = 1000\n",
    "# df['users_id'].iloc[0] = 2\n",
    "# df"
   ]
  },
  {
   "cell_type": "code",
   "execution_count": 7,
   "metadata": {},
   "outputs": [
    {
     "data": {
      "text/plain": [
       "longevity                   Int64\n",
       "indoor_time_percentage      Int64\n",
       "number_of_sprays            Int64\n",
       "temp_avg                  float64\n",
       "hum_avg                   float64\n",
       "dew_point_avg             float64\n",
       "temp_feels_like_avg       float64\n",
       "atm_pressure_avg          float64\n",
       "users_id                    Int64\n",
       "dtype: object"
      ]
     },
     "execution_count": 7,
     "metadata": {},
     "output_type": "execute_result"
    }
   ],
   "source": [
    "df = df.convert_dtypes()\n",
    "df.dtypes"
   ]
  },
  {
   "cell_type": "markdown",
   "metadata": {},
   "source": [
    "#### Extra Methods"
   ]
  },
  {
   "cell_type": "code",
   "execution_count": 8,
   "metadata": {},
   "outputs": [],
   "source": [
    "# For Ranks\n",
    "# stats.spearmanr(df['x'], df['y'])   # Spearman's rho\n",
    "\n",
    "\n",
    "# For Ranks But More Reliable \n",
    "# stats.kendalltau(df['x'], df['y'])  # Kendall's tau\n",
    "\n",
    "\n",
    "# \n",
    "# r, p = stats.pearsonr(df['x'], df['y'])    # Pearson's r\n",
    "\n",
    "# To get p_value only\n",
    "# stats.pearsonr(test['x'], test['y'])[1]    # Pearson's r"
   ]
  },
  {
   "cell_type": "markdown",
   "metadata": {},
   "source": [
    "### For Correlation Or P-Value\n"
   ]
  },
  {
   "cell_type": "code",
   "execution_count": 9,
   "metadata": {},
   "outputs": [],
   "source": [
    "# def get_weights(df):\n",
    "#     weights = []\n",
    "#     for column in df.columns[1:]:\n",
    "#         weights.append(stats.pearsonr(df['longevity'], df[column])[0])    # Pearson's Correlation\n",
    "#         weights.append(stats.pearsonr(df['longevity'], df[column])[0])    # Pearson's P-Value\n",
    "#         # weights.append(column)\n",
    "        \n",
    "#     weights = pd.DataFrame(weights)\n",
    "    \n",
    "#     weights = weights.fillna(0)\n",
    "#     weights = abs(weights)\n",
    "\n",
    "#     return weights"
   ]
  },
  {
   "cell_type": "markdown",
   "metadata": {},
   "source": [
    "### For Correlation Only"
   ]
  },
  {
   "cell_type": "code",
   "execution_count": 10,
   "metadata": {},
   "outputs": [],
   "source": [
    "def get_correlation(df):\n",
    "    return df.corrwith(df['longevity'], method='kendall')[1:]\n",
    "    # return df.corr()['longevity'][1:]\n",
    "    \n",
    "    # Doesn't work\n",
    "    # return np.corrcoef(df.to_numpy(), rowvar=False)"
   ]
  },
  {
   "cell_type": "code",
   "execution_count": 11,
   "metadata": {},
   "outputs": [
    {
     "data": {
      "text/plain": [
       "indoor_time_percentage   NaN\n",
       "number_of_sprays         NaN\n",
       "temp_avg                 NaN\n",
       "hum_avg                  NaN\n",
       "dew_point_avg            NaN\n",
       "temp_feels_like_avg      NaN\n",
       "atm_pressure_avg         NaN\n",
       "users_id                 NaN\n",
       "dtype: float64"
      ]
     },
     "execution_count": 11,
     "metadata": {},
     "output_type": "execute_result"
    }
   ],
   "source": [
    "corr = get_correlation(df)\n",
    "corr"
   ]
  },
  {
   "cell_type": "code",
   "execution_count": 12,
   "metadata": {},
   "outputs": [
    {
     "data": {
      "text/plain": [
       "Series([], dtype: float64)"
      ]
     },
     "execution_count": 12,
     "metadata": {},
     "output_type": "execute_result"
    }
   ],
   "source": [
    "corr.dropna(inplace=True)\n",
    "corr"
   ]
  },
  {
   "cell_type": "markdown",
   "metadata": {},
   "source": [
    "### Normalization"
   ]
  },
  {
   "cell_type": "code",
   "execution_count": 13,
   "metadata": {},
   "outputs": [],
   "source": [
    "# No need\n",
    "\n",
    "# scale = np.frompyfunc(lambda x, min, max: (x - min) / (max - min), 3, 1)\n",
    "# norm = scale(corr, np.min(corr), np.max(corr)).astype(float)\n",
    "# norm"
   ]
  },
  {
   "cell_type": "markdown",
   "metadata": {},
   "source": [
    "### Weighted Average"
   ]
  },
  {
   "cell_type": "code",
   "execution_count": 14,
   "metadata": {},
   "outputs": [],
   "source": [
    "def get_weighted_average(array, weights):\n",
    "    return round(np.average(array, weights=weights),2)"
   ]
  },
  {
   "cell_type": "code",
   "execution_count": 25,
   "metadata": {},
   "outputs": [
    {
     "data": {
      "text/plain": [
       "False"
      ]
     },
     "execution_count": 25,
     "metadata": {},
     "output_type": "execute_result"
    }
   ],
   "source": [
    "# (corr != 0).all()\n",
    "# not corr.isnull().all()"
   ]
  },
  {
   "cell_type": "code",
   "execution_count": 27,
   "metadata": {},
   "outputs": [
    {
     "data": {
      "text/plain": [
       "0"
      ]
     },
     "execution_count": 27,
     "metadata": {},
     "output_type": "execute_result"
    }
   ],
   "source": [
    "average = 0\n",
    "if corr.isnull().all():\n",
    "    # If all values are null\n",
    "    print(-1)\n",
    "elif (corr != 0).all():\n",
    "    # If all values are not zero\n",
    "    print(get_weighted_average(corr, abs(corr)))"
   ]
  },
  {
   "cell_type": "markdown",
   "metadata": {},
   "source": [
    "#### Testing"
   ]
  },
  {
   "cell_type": "code",
   "execution_count": 141,
   "metadata": {},
   "outputs": [
    {
     "data": {
      "text/plain": [
       "0.0"
      ]
     },
     "execution_count": 141,
     "metadata": {},
     "output_type": "execute_result"
    }
   ],
   "source": [
    "# x = [1, 0, 1]\n",
    "# y = [0, 1, 0]\n",
    "# round(np.average(x, weights = y),2)"
   ]
  },
  {
   "cell_type": "code",
   "execution_count": null,
   "metadata": {},
   "outputs": [],
   "source": []
  }
 ],
 "metadata": {
  "kernelspec": {
   "display_name": "Python 3",
   "language": "python",
   "name": "python3"
  },
  "language_info": {
   "codemirror_mode": {
    "name": "ipython",
    "version": 3
   },
   "file_extension": ".py",
   "mimetype": "text/x-python",
   "name": "python",
   "nbconvert_exporter": "python",
   "pygments_lexer": "ipython3",
   "version": "3.8.8"
  }
 },
 "nbformat": 4,
 "nbformat_minor": 2
}
