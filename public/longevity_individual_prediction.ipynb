{
 "cells": [
  {
   "cell_type": "markdown",
   "metadata": {},
   "source": [
    "## Extraction"
   ]
  },
  {
   "cell_type": "code",
   "execution_count": 315,
   "metadata": {},
   "outputs": [],
   "source": [
    "%matplotlib inline"
   ]
  },
  {
   "cell_type": "markdown",
   "metadata": {},
   "source": [
    "# Write column names"
   ]
  },
  {
   "cell_type": "code",
   "execution_count": 316,
   "metadata": {},
   "outputs": [],
   "source": [
    "def listToString(s): \n",
    "    \n",
    "    # initialize an empty string\n",
    "    str1 = \"\\n\" \n",
    "    \n",
    "    # return string  \n",
    "    return (str1.join(s))"
   ]
  },
  {
   "cell_type": "markdown",
   "metadata": {},
   "source": [
    "# Libraries Import"
   ]
  },
  {
   "cell_type": "code",
   "execution_count": 317,
   "metadata": {
    "tags": []
   },
   "outputs": [],
   "source": [
    "import numpy as np\n",
    "import pandas as pd\n",
    "from datetime import datetime\n",
    "\n",
    "# For import export of model\n",
    "import pickle\n",
    "import json\n",
    "from sklearn.linear_model import LinearRegression\n"
   ]
  },
  {
   "cell_type": "markdown",
   "metadata": {},
   "source": [
    "## For Review"
   ]
  },
  {
   "cell_type": "code",
   "execution_count": 318,
   "metadata": {},
   "outputs": [],
   "source": [
    "# sys.argv[1]\n",
    "\n",
    "with open('longevity_template.pickle', 'rb') as f:\n",
    "    fragrance, profile, weather = pickle.load(f)"
   ]
  },
  {
   "cell_type": "code",
   "execution_count": 319,
   "metadata": {},
   "outputs": [],
   "source": [
    "# fragrance_df = pd.read_json(fragrance)\n",
    "\n",
    "fragrance_df    =  pd.DataFrame(data=eval(fragrance), index=[0])\n",
    "profile_df      =  pd.DataFrame(data=eval(profile),   index=[0])\n",
    "weather_df      =  pd.DataFrame(data=eval(weather),   index=[0])"
   ]
  },
  {
   "cell_type": "code",
   "execution_count": 320,
   "metadata": {},
   "outputs": [],
   "source": [
    "# fragrance_df\n",
    "# profile_df\n",
    "# weather_df"
   ]
  },
  {
   "cell_type": "markdown",
   "metadata": {},
   "source": [
    "#### Fixing Weather Keys"
   ]
  },
  {
   "cell_type": "code",
   "execution_count": 321,
   "metadata": {},
   "outputs": [],
   "source": [
    "def fix_weather_keys(df):\n",
    "    old_weather_columns = df.columns\n",
    "    new_weather_columns = []\n",
    "    for i in range(len(old_weather_columns) - 2):\n",
    "        new_weather_columns.append(old_weather_columns[i] + '_avg')\n",
    "    new_weather_columns.extend(old_weather_columns[-2:])\n",
    "    df.columns = new_weather_columns\n",
    "    return df"
   ]
  },
  {
   "cell_type": "code",
   "execution_count": 322,
   "metadata": {},
   "outputs": [
    {
     "data": {
      "text/html": [
       "<div>\n",
       "<style scoped>\n",
       "    .dataframe tbody tr th:only-of-type {\n",
       "        vertical-align: middle;\n",
       "    }\n",
       "\n",
       "    .dataframe tbody tr th {\n",
       "        vertical-align: top;\n",
       "    }\n",
       "\n",
       "    .dataframe thead th {\n",
       "        text-align: right;\n",
       "    }\n",
       "</style>\n",
       "<table border=\"1\" class=\"dataframe\">\n",
       "  <thead>\n",
       "    <tr style=\"text-align: right;\">\n",
       "      <th></th>\n",
       "      <th>temp_avg</th>\n",
       "      <th>hum_avg</th>\n",
       "      <th>dew_point_avg</th>\n",
       "      <th>uv_index_avg</th>\n",
       "      <th>temp_feels_like_avg</th>\n",
       "      <th>atm_pressure_avg</th>\n",
       "      <th>clouds_avg</th>\n",
       "      <th>visibility_avg</th>\n",
       "      <th>wind_speed_avg</th>\n",
       "      <th>rain_avg</th>\n",
       "      <th>snow_avg</th>\n",
       "      <th>weather_main</th>\n",
       "      <th>weather_desc</th>\n",
       "    </tr>\n",
       "  </thead>\n",
       "  <tbody>\n",
       "    <tr>\n",
       "      <th>0</th>\n",
       "      <td>82.2525</td>\n",
       "      <td>75.25</td>\n",
       "      <td>73.88</td>\n",
       "      <td>6.69625</td>\n",
       "      <td>88.15</td>\n",
       "      <td>1013.5</td>\n",
       "      <td>66.125</td>\n",
       "      <td>60000</td>\n",
       "      <td>15.71125</td>\n",
       "      <td>2.86375</td>\n",
       "      <td>0</td>\n",
       "      <td>Rain</td>\n",
       "      <td>light rain</td>\n",
       "    </tr>\n",
       "  </tbody>\n",
       "</table>\n",
       "</div>"
      ],
      "text/plain": [
       "   temp_avg  hum_avg  dew_point_avg  uv_index_avg  temp_feels_like_avg  \\\n",
       "0   82.2525    75.25          73.88       6.69625                88.15   \n",
       "\n",
       "   atm_pressure_avg  clouds_avg  visibility_avg  wind_speed_avg  rain_avg  \\\n",
       "0            1013.5      66.125           60000        15.71125   2.86375   \n",
       "\n",
       "   snow_avg weather_main weather_desc  \n",
       "0         0         Rain   light rain  "
      ]
     },
     "execution_count": 322,
     "metadata": {},
     "output_type": "execute_result"
    }
   ],
   "source": [
    "weather_df = fix_weather_keys(weather_df)\n",
    "weather_df"
   ]
  },
  {
   "cell_type": "code",
   "execution_count": 323,
   "metadata": {},
   "outputs": [],
   "source": [
    "single_df = pd.concat([fragrance_df, profile_df, weather_df], axis=1)"
   ]
  },
  {
   "cell_type": "code",
   "execution_count": 324,
   "metadata": {},
   "outputs": [],
   "source": [
    "# single_df.head()"
   ]
  },
  {
   "cell_type": "markdown",
   "metadata": {},
   "source": [
    "## Cleaning"
   ]
  },
  {
   "cell_type": "code",
   "execution_count": 325,
   "metadata": {},
   "outputs": [],
   "source": [
    "single_df = single_df[single_df.columns.difference(['weather_desc'], sort=False)]"
   ]
  },
  {
   "cell_type": "code",
   "execution_count": 326,
   "metadata": {},
   "outputs": [],
   "source": [
    "# Missing Values\n",
    "# df['rain_avg'].fillna(int(0), inplace=True)\n",
    "# df['snow_avg'].fillna(int(0), inplace=True)"
   ]
  },
  {
   "cell_type": "code",
   "execution_count": 327,
   "metadata": {},
   "outputs": [],
   "source": [
    "single_df['number_of_sprays'] = 7\n",
    "single_df['indoor_time_percentage'] = 75\n",
    "single_df['apply_time'] = datetime.now().strftime('%Y-%m-%d 12:00:00')"
   ]
  },
  {
   "cell_type": "code",
   "execution_count": 328,
   "metadata": {},
   "outputs": [],
   "source": [
    "# single_df.dtypes"
   ]
  },
  {
   "cell_type": "code",
   "execution_count": 329,
   "metadata": {
    "scrolled": true
   },
   "outputs": [],
   "source": [
    "columns_to_drop = ['fragrance', 'fragrance_gender', 'fragrance_type', 'brand', 'brand_tier','uv_index_avg', 'visibility_avg', 'atm_pressure_avg', 'clouds_avg', \n",
    "                   'temp_feels_like_avg', 'wind_speed_avg', 'rain_avg', 'snow_avg', ]\n",
    "\n",
    "single_df.drop(columns_to_drop, axis=1, inplace=True)\n",
    "\n",
    "# single_df.head()"
   ]
  },
  {
   "cell_type": "code",
   "execution_count": null,
   "metadata": {},
   "outputs": [],
   "source": []
  },
  {
   "cell_type": "markdown",
   "metadata": {},
   "source": [
    "## Review Data"
   ]
  },
  {
   "cell_type": "code",
   "execution_count": 351,
   "metadata": {},
   "outputs": [
    {
     "data": {
      "text/plain": [
       "['[{\"longevity\":20,\"apply_time\":\"2021-02-12 10:58:00\",\"indoor_time_percentage\":54,\"number_of_sprays\":11,\"projection\":1.2,\"sillage\":22.5,\"like\":53,\"temp_avg\":81.43,\"hum_avg\":70.38,\"dew_point_avg\":73.01,\"uv_index_avg\":14,\"temp_feels_like_avg\":83.08,\"atm_pressure_avg\":1010.75,\"clouds_avg\":44.62,\"visibility_avg\":60000,\"wind_speed_avg\":13.31,\"rain_avg\":0.4,\"snow_avg\":0,\"weather_main\":\"Rain\",\"fp_id\":1,\"fp_country\":\"United States of America\",\"gender\":\"Male\",\"dob\":\"2019-11-12\",\"profession\":\"Cafe Worker\",\"skin_type\":\"Very Oily\",\"sweat\":82,\"height\":54,\"weight\":54,\"climate\":\"Temperate (Warm and Mild Winter)\",\"season\":\"Spring\"},{\"longevity\":50,\"apply_time\":\"2021-02-12 10:58:00\",\"indoor_time_percentage\":54,\"number_of_sprays\":11,\"projection\":2,\"sillage\":22.5,\"like\":53,\"temp_avg\":82.43,\"hum_avg\":75.38,\"dew_point_avg\":73.02,\"uv_index_avg\":14.1,\"temp_feels_like_avg\":83.08,\"atm_pressure_avg\":1010.75,\"clouds_avg\":44.62,\"visibility_avg\":60000,\"wind_speed_avg\":13.31,\"rain_avg\":0.4,\"snow_avg\":0,\"weather_main\":\"Rain\",\"fp_id\":1,\"fp_country\":\"United States of America\",\"gender\":\"Male\",\"dob\":\"2019-11-12\",\"profession\":\"Cafe Worker\",\"skin_type\":\"Very Oily\",\"sweat\":82,\"height\":54,\"weight\":54,\"climate\":\"Temperate (Warm and Mild Winter)\",\"season\":\"Spring\"}]']"
      ]
     },
     "execution_count": 351,
     "metadata": {},
     "output_type": "execute_result"
    }
   ],
   "source": [
    "with open('longevity_direct_template.pickle', 'rb') as f:\n",
    "    reviews = pickle.load(f)\n",
    "reviews"
   ]
  },
  {
   "cell_type": "code",
   "execution_count": 346,
   "metadata": {},
   "outputs": [
    {
     "data": {
      "text/html": [
       "<div>\n",
       "<style scoped>\n",
       "    .dataframe tbody tr th:only-of-type {\n",
       "        vertical-align: middle;\n",
       "    }\n",
       "\n",
       "    .dataframe tbody tr th {\n",
       "        vertical-align: top;\n",
       "    }\n",
       "\n",
       "    .dataframe thead th {\n",
       "        text-align: right;\n",
       "    }\n",
       "</style>\n",
       "<table border=\"1\" class=\"dataframe\">\n",
       "  <thead>\n",
       "    <tr style=\"text-align: right;\">\n",
       "      <th></th>\n",
       "      <th>longevity</th>\n",
       "      <th>apply_time</th>\n",
       "      <th>indoor_time_percentage</th>\n",
       "      <th>number_of_sprays</th>\n",
       "      <th>projection</th>\n",
       "      <th>sillage</th>\n",
       "      <th>like</th>\n",
       "      <th>temp_avg</th>\n",
       "      <th>hum_avg</th>\n",
       "      <th>dew_point_avg</th>\n",
       "      <th>...</th>\n",
       "      <th>fp_country</th>\n",
       "      <th>gender</th>\n",
       "      <th>dob</th>\n",
       "      <th>profession</th>\n",
       "      <th>skin_type</th>\n",
       "      <th>sweat</th>\n",
       "      <th>height</th>\n",
       "      <th>weight</th>\n",
       "      <th>climate</th>\n",
       "      <th>season</th>\n",
       "    </tr>\n",
       "  </thead>\n",
       "  <tbody>\n",
       "    <tr>\n",
       "      <th>0</th>\n",
       "      <td>20</td>\n",
       "      <td>2021-02-12 10:58:00</td>\n",
       "      <td>54</td>\n",
       "      <td>11</td>\n",
       "      <td>1.2</td>\n",
       "      <td>22.5</td>\n",
       "      <td>53</td>\n",
       "      <td>81.43</td>\n",
       "      <td>70.38</td>\n",
       "      <td>73.01</td>\n",
       "      <td>...</td>\n",
       "      <td>United States of America</td>\n",
       "      <td>Male</td>\n",
       "      <td>2019-11-12</td>\n",
       "      <td>Cafe Worker</td>\n",
       "      <td>Very Oily</td>\n",
       "      <td>82</td>\n",
       "      <td>54</td>\n",
       "      <td>54</td>\n",
       "      <td>Temperate (Warm and Mild Winter)</td>\n",
       "      <td>Spring</td>\n",
       "    </tr>\n",
       "    <tr>\n",
       "      <th>1</th>\n",
       "      <td>50</td>\n",
       "      <td>2021-02-12 10:58:00</td>\n",
       "      <td>54</td>\n",
       "      <td>11</td>\n",
       "      <td>2.0</td>\n",
       "      <td>22.5</td>\n",
       "      <td>53</td>\n",
       "      <td>82.43</td>\n",
       "      <td>75.38</td>\n",
       "      <td>73.02</td>\n",
       "      <td>...</td>\n",
       "      <td>United States of America</td>\n",
       "      <td>Male</td>\n",
       "      <td>2019-11-12</td>\n",
       "      <td>Cafe Worker</td>\n",
       "      <td>Very Oily</td>\n",
       "      <td>82</td>\n",
       "      <td>54</td>\n",
       "      <td>54</td>\n",
       "      <td>Temperate (Warm and Mild Winter)</td>\n",
       "      <td>Spring</td>\n",
       "    </tr>\n",
       "  </tbody>\n",
       "</table>\n",
       "<p>2 rows × 30 columns</p>\n",
       "</div>"
      ],
      "text/plain": [
       "   longevity           apply_time  indoor_time_percentage  number_of_sprays  \\\n",
       "0         20  2021-02-12 10:58:00                      54                11   \n",
       "1         50  2021-02-12 10:58:00                      54                11   \n",
       "\n",
       "   projection  sillage  like  temp_avg  hum_avg  dew_point_avg  ...  \\\n",
       "0         1.2     22.5    53     81.43    70.38          73.01  ...   \n",
       "1         2.0     22.5    53     82.43    75.38          73.02  ...   \n",
       "\n",
       "                 fp_country  gender         dob   profession  skin_type  \\\n",
       "0  United States of America    Male  2019-11-12  Cafe Worker  Very Oily   \n",
       "1  United States of America    Male  2019-11-12  Cafe Worker  Very Oily   \n",
       "\n",
       "   sweat  height  weight                           climate  season  \n",
       "0     82      54      54  Temperate (Warm and Mild Winter)  Spring  \n",
       "1     82      54      54  Temperate (Warm and Mild Winter)  Spring  \n",
       "\n",
       "[2 rows x 30 columns]"
      ]
     },
     "execution_count": 346,
     "metadata": {},
     "output_type": "execute_result"
    }
   ],
   "source": [
    "reviews_df = pd.DataFrame(json.loads(reviews[0]))\n",
    "reviews_df"
   ]
  },
  {
   "cell_type": "code",
   "execution_count": null,
   "metadata": {},
   "outputs": [],
   "source": []
  },
  {
   "cell_type": "code",
   "execution_count": 332,
   "metadata": {},
   "outputs": [],
   "source": [
    "reviews_df.drop([\n",
    "    'uv_index_avg', 'visibility_avg', 'atm_pressure_avg', 'clouds_avg', \n",
    "    'temp_feels_like_avg', 'wind_speed_avg', 'rain_avg', 'snow_avg', 'projection', 'sillage', \n",
    "    'climate', 'like'\n",
    "    ], axis=1, inplace=True)\n",
    "\n",
    "# reviews_df.columns"
   ]
  },
  {
   "cell_type": "code",
   "execution_count": 333,
   "metadata": {},
   "outputs": [],
   "source": [
    "# set(single_df.columns) ^ set(reviews_df.columns)"
   ]
  },
  {
   "cell_type": "markdown",
   "metadata": {},
   "source": [
    "## Combining dfs"
   ]
  },
  {
   "cell_type": "code",
   "execution_count": 334,
   "metadata": {},
   "outputs": [],
   "source": [
    "df = pd.concat([reviews_df, single_df])\n",
    "# df"
   ]
  },
  {
   "cell_type": "markdown",
   "metadata": {},
   "source": [
    "## Operations on full df"
   ]
  },
  {
   "cell_type": "code",
   "execution_count": 335,
   "metadata": {},
   "outputs": [],
   "source": [
    "# df = df.convert_dtypes()\n",
    "\n",
    "# Datetime\n",
    "df['dob']               = df['dob'].astype('datetime64[ns]')\n",
    "df['apply_time']        = df['apply_time'].astype('datetime64[ns]')\n",
    "\n",
    "# df.dtypes"
   ]
  },
  {
   "cell_type": "code",
   "execution_count": 336,
   "metadata": {},
   "outputs": [],
   "source": [
    "# Calcualting Age\n",
    "\n",
    "now = pd.to_datetime('now')\n",
    "df['age'] = (now - df['dob']).dt.total_seconds() / (60*60*24*365.25)\n",
    "df.drop(['dob'], axis=1, inplace=True)"
   ]
  },
  {
   "cell_type": "code",
   "execution_count": 337,
   "metadata": {},
   "outputs": [],
   "source": [
    "# Sorting out Dates\n",
    "\n",
    "# Apply Time\n",
    "# df['apply_time_year']          = df['apply_time'].dt.year\n",
    "df['apply_time_month']         = df['apply_time'].dt.month\n",
    "df['apply_time_day']           = df['apply_time'].dt.day\n",
    "df['apply_time_hour']          = df['apply_time'].dt.hour\n",
    "# df['apply_time_minute']        = df['apply_time'].dt.minute\n",
    "# df['apply_time_weekday_name']  = df['apply_time'].dt.day_name()\n",
    "\n",
    "# Type Cast\n",
    "df['age']               = df['age'].astype('float')\n",
    "\n",
    "# Drop Apply Time & Wear Off Time\n",
    "df.drop(['apply_time'], axis=1, inplace=True)"
   ]
  },
  {
   "cell_type": "code",
   "execution_count": 338,
   "metadata": {},
   "outputs": [],
   "source": [
    "categorical_columns = df.select_dtypes(include=['object']).columns.values\n",
    "df = df.convert_dtypes()\n",
    "# categorical_columns"
   ]
  },
  {
   "cell_type": "code",
   "execution_count": 339,
   "metadata": {},
   "outputs": [],
   "source": [
    "df = pd.get_dummies(df, columns=categorical_columns, prefix=categorical_columns, prefix_sep='_')\n",
    "# df"
   ]
  },
  {
   "cell_type": "code",
   "execution_count": 340,
   "metadata": {},
   "outputs": [],
   "source": [
    "Y = df['longevity']\n",
    "X = df.drop('longevity', axis=1)\n",
    "# Y"
   ]
  },
  {
   "cell_type": "code",
   "execution_count": 341,
   "metadata": {},
   "outputs": [],
   "source": [
    "# Remove constant columns\n",
    "X = X.loc[:, (X != X.iloc[0]).any()] \n",
    "# X"
   ]
  },
  {
   "cell_type": "code",
   "execution_count": 342,
   "metadata": {
    "scrolled": true
   },
   "outputs": [],
   "source": [
    "# Take the last row for prediction\n",
    "X_bar = X.tail(1)\n",
    "# X_bar = X_bar.drop('longevity', axis=1)\n",
    "\n",
    "# Removing fom dataset\n",
    "X = X.iloc[:-1]\n",
    "Y = Y.iloc[:-1]\n",
    "\n",
    "# X_bar"
   ]
  },
  {
   "cell_type": "code",
   "execution_count": 343,
   "metadata": {},
   "outputs": [],
   "source": [
    "model = LinearRegression().fit(X, Y)"
   ]
  },
  {
   "cell_type": "code",
   "execution_count": 344,
   "metadata": {
    "scrolled": false
   },
   "outputs": [
    {
     "name": "stdout",
     "output_type": "stream",
     "text": [
      "49.055119018772984\n"
     ]
    }
   ],
   "source": [
    "print(model.predict(X_bar)[0])"
   ]
  },
  {
   "cell_type": "markdown",
   "metadata": {},
   "source": [
    "# END"
   ]
  }
 ],
 "metadata": {
  "kernelspec": {
   "display_name": "Python 3",
   "language": "python",
   "name": "python3"
  },
  "language_info": {
   "codemirror_mode": {
    "name": "ipython",
    "version": 3
   },
   "file_extension": ".py",
   "mimetype": "text/x-python",
   "name": "python",
   "nbconvert_exporter": "python",
   "pygments_lexer": "ipython3",
   "version": "3.8.8"
  }
 },
 "nbformat": 4,
 "nbformat_minor": 2
}
